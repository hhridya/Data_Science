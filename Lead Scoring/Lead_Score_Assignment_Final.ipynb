{
  "nbformat": 4,
  "nbformat_minor": 0,
  "metadata": {
    "colab": {
      "name": "Lead_Score_Assignment_Final.ipynb",
      "provenance": [],
      "collapsed_sections": [],
      "toc_visible": true
    },
    "kernelspec": {
      "name": "python3",
      "display_name": "Python 3"
    },
    "language_info": {
      "name": "python"
    }
  },
  "cells": [
    {
      "cell_type": "markdown",
      "source": [
        "\n",
        "## Reading and Understanding the Data"
      ],
      "metadata": {
        "id": "ARLReZfjzpBl"
      }
    },
    {
      "cell_type": "markdown",
      "source": [
        "### importing libraries"
      ],
      "metadata": {
        "id": "mh-rP4LZV-kc"
      }
    },
    {
      "cell_type": "code",
      "source": [
        "\n",
        "\n",
        "import warnings\n",
        "warnings.filterwarnings('ignore')\n",
        "import numpy as np\n",
        "import pandas as pd\n",
        "pd.set_option(\"display.max_columns\",500)\n",
        "pd.set_option(\"display.max_rows\",500)\n",
        "import matplotlib.pyplot as plt\n",
        "import seaborn as sns\n",
        "from sklearn.model_selection import train_test_split\n",
        "from sklearn.preprocessing import MinMaxScaler\n",
        "from sklearn.linear_model import LogisticRegression\n",
        "from sklearn.feature_selection import RFE\n",
        "from sklearn import metrics\n",
        "%matplotlib inline"
      ],
      "metadata": {
        "id": "nAZnJtL9zxxG"
      },
      "execution_count": 1,
      "outputs": []
    },
    {
      "cell_type": "markdown",
      "source": [
        "### Importing dataset"
      ],
      "metadata": {
        "id": "A2tgZCSCWROm"
      }
    },
    {
      "cell_type": "code",
      "source": [
        "\n",
        "\n",
        "from google.colab import drive\n",
        "drive.mount('/content/drive')"
      ],
      "metadata": {
        "colab": {
          "base_uri": "https://localhost:8080/"
        },
        "id": "diL8jlw6zefR",
        "outputId": "a33eda19-b316-4689-b4d4-b1a4f8ef61fa"
      },
      "execution_count": 2,
      "outputs": [
        {
          "output_type": "stream",
          "name": "stdout",
          "text": [
            "Mounted at /content/drive\n"
          ]
        }
      ]
    },
    {
      "cell_type": "code",
      "source": [
        "lead=pd.read_csv('/content/drive/MyDrive/Colab Notebooks/Leads.csv')\n",
        "lead.head()"
      ],
      "metadata": {
        "id": "A1Grjosgz8Vb",
        "colab": {
          "base_uri": "https://localhost:8080/",
          "height": 600
        },
        "outputId": "387d3b74-e453-43c6-8722-0ba7baf3b0bb"
      },
      "execution_count": 3,
      "outputs": [
        {
          "output_type": "execute_result",
          "data": {
            "text/plain": [
              "                            Prospect ID  Lead Number              Lead Origin  \\\n",
              "0  7927b2df-8bba-4d29-b9a2-b6e0beafe620       660737                      API   \n",
              "1  2a272436-5132-4136-86fa-dcc88c88f482       660728                      API   \n",
              "2  8cc8c611-a219-4f35-ad23-fdfd2656bd8a       660727  Landing Page Submission   \n",
              "3  0cc2df48-7cf4-4e39-9de9-19797f9b38cc       660719  Landing Page Submission   \n",
              "4  3256f628-e534-4826-9d63-4a8b88782852       660681  Landing Page Submission   \n",
              "\n",
              "      Lead Source Do Not Email Do Not Call  Converted  TotalVisits  \\\n",
              "0      Olark Chat           No          No          0          0.0   \n",
              "1  Organic Search           No          No          0          5.0   \n",
              "2  Direct Traffic           No          No          1          2.0   \n",
              "3  Direct Traffic           No          No          0          1.0   \n",
              "4          Google           No          No          1          2.0   \n",
              "\n",
              "   Total Time Spent on Website  Page Views Per Visit            Last Activity  \\\n",
              "0                            0                   0.0  Page Visited on Website   \n",
              "1                          674                   2.5             Email Opened   \n",
              "2                         1532                   2.0             Email Opened   \n",
              "3                          305                   1.0              Unreachable   \n",
              "4                         1428                   1.0        Converted to Lead   \n",
              "\n",
              "  Country           Specialization How did you hear about X Education  \\\n",
              "0     NaN                   Select                             Select   \n",
              "1   India                   Select                             Select   \n",
              "2   India  Business Administration                             Select   \n",
              "3   India    Media and Advertising                      Word Of Mouth   \n",
              "4   India                   Select                              Other   \n",
              "\n",
              "  What is your current occupation  \\\n",
              "0                      Unemployed   \n",
              "1                      Unemployed   \n",
              "2                         Student   \n",
              "3                      Unemployed   \n",
              "4                      Unemployed   \n",
              "\n",
              "  What matters most to you in choosing a course Search Magazine  \\\n",
              "0                       Better Career Prospects     No       No   \n",
              "1                       Better Career Prospects     No       No   \n",
              "2                       Better Career Prospects     No       No   \n",
              "3                       Better Career Prospects     No       No   \n",
              "4                       Better Career Prospects     No       No   \n",
              "\n",
              "  Newspaper Article X Education Forums Newspaper Digital Advertisement  \\\n",
              "0                No                 No        No                    No   \n",
              "1                No                 No        No                    No   \n",
              "2                No                 No        No                    No   \n",
              "3                No                 No        No                    No   \n",
              "4                No                 No        No                    No   \n",
              "\n",
              "  Through Recommendations Receive More Updates About Our Courses  \\\n",
              "0                      No                                     No   \n",
              "1                      No                                     No   \n",
              "2                      No                                     No   \n",
              "3                      No                                     No   \n",
              "4                      No                                     No   \n",
              "\n",
              "                                  Tags      Lead Quality  \\\n",
              "0          Interested in other courses  Low in Relevance   \n",
              "1                              Ringing               NaN   \n",
              "2  Will revert after reading the email          Might be   \n",
              "3                              Ringing          Not Sure   \n",
              "4  Will revert after reading the email          Might be   \n",
              "\n",
              "  Update me on Supply Chain Content Get updates on DM Content    Lead Profile  \\\n",
              "0                                No                        No          Select   \n",
              "1                                No                        No          Select   \n",
              "2                                No                        No  Potential Lead   \n",
              "3                                No                        No          Select   \n",
              "4                                No                        No          Select   \n",
              "\n",
              "     City Asymmetrique Activity Index Asymmetrique Profile Index  \\\n",
              "0  Select                   02.Medium                  02.Medium   \n",
              "1  Select                   02.Medium                  02.Medium   \n",
              "2  Mumbai                   02.Medium                    01.High   \n",
              "3  Mumbai                   02.Medium                    01.High   \n",
              "4  Mumbai                   02.Medium                    01.High   \n",
              "\n",
              "   Asymmetrique Activity Score  Asymmetrique Profile Score  \\\n",
              "0                         15.0                        15.0   \n",
              "1                         15.0                        15.0   \n",
              "2                         14.0                        20.0   \n",
              "3                         13.0                        17.0   \n",
              "4                         15.0                        18.0   \n",
              "\n",
              "  I agree to pay the amount through cheque  \\\n",
              "0                                       No   \n",
              "1                                       No   \n",
              "2                                       No   \n",
              "3                                       No   \n",
              "4                                       No   \n",
              "\n",
              "  A free copy of Mastering The Interview Last Notable Activity  \n",
              "0                                     No              Modified  \n",
              "1                                     No          Email Opened  \n",
              "2                                    Yes          Email Opened  \n",
              "3                                     No              Modified  \n",
              "4                                     No              Modified  "
            ],
            "text/html": [
              "\n",
              "  <div id=\"df-b3ec719b-7c21-4b19-a3a1-6c69f459475d\">\n",
              "    <div class=\"colab-df-container\">\n",
              "      <div>\n",
              "<style scoped>\n",
              "    .dataframe tbody tr th:only-of-type {\n",
              "        vertical-align: middle;\n",
              "    }\n",
              "\n",
              "    .dataframe tbody tr th {\n",
              "        vertical-align: top;\n",
              "    }\n",
              "\n",
              "    .dataframe thead th {\n",
              "        text-align: right;\n",
              "    }\n",
              "</style>\n",
              "<table border=\"1\" class=\"dataframe\">\n",
              "  <thead>\n",
              "    <tr style=\"text-align: right;\">\n",
              "      <th></th>\n",
              "      <th>Prospect ID</th>\n",
              "      <th>Lead Number</th>\n",
              "      <th>Lead Origin</th>\n",
              "      <th>Lead Source</th>\n",
              "      <th>Do Not Email</th>\n",
              "      <th>Do Not Call</th>\n",
              "      <th>Converted</th>\n",
              "      <th>TotalVisits</th>\n",
              "      <th>Total Time Spent on Website</th>\n",
              "      <th>Page Views Per Visit</th>\n",
              "      <th>Last Activity</th>\n",
              "      <th>Country</th>\n",
              "      <th>Specialization</th>\n",
              "      <th>How did you hear about X Education</th>\n",
              "      <th>What is your current occupation</th>\n",
              "      <th>What matters most to you in choosing a course</th>\n",
              "      <th>Search</th>\n",
              "      <th>Magazine</th>\n",
              "      <th>Newspaper Article</th>\n",
              "      <th>X Education Forums</th>\n",
              "      <th>Newspaper</th>\n",
              "      <th>Digital Advertisement</th>\n",
              "      <th>Through Recommendations</th>\n",
              "      <th>Receive More Updates About Our Courses</th>\n",
              "      <th>Tags</th>\n",
              "      <th>Lead Quality</th>\n",
              "      <th>Update me on Supply Chain Content</th>\n",
              "      <th>Get updates on DM Content</th>\n",
              "      <th>Lead Profile</th>\n",
              "      <th>City</th>\n",
              "      <th>Asymmetrique Activity Index</th>\n",
              "      <th>Asymmetrique Profile Index</th>\n",
              "      <th>Asymmetrique Activity Score</th>\n",
              "      <th>Asymmetrique Profile Score</th>\n",
              "      <th>I agree to pay the amount through cheque</th>\n",
              "      <th>A free copy of Mastering The Interview</th>\n",
              "      <th>Last Notable Activity</th>\n",
              "    </tr>\n",
              "  </thead>\n",
              "  <tbody>\n",
              "    <tr>\n",
              "      <th>0</th>\n",
              "      <td>7927b2df-8bba-4d29-b9a2-b6e0beafe620</td>\n",
              "      <td>660737</td>\n",
              "      <td>API</td>\n",
              "      <td>Olark Chat</td>\n",
              "      <td>No</td>\n",
              "      <td>No</td>\n",
              "      <td>0</td>\n",
              "      <td>0.0</td>\n",
              "      <td>0</td>\n",
              "      <td>0.0</td>\n",
              "      <td>Page Visited on Website</td>\n",
              "      <td>NaN</td>\n",
              "      <td>Select</td>\n",
              "      <td>Select</td>\n",
              "      <td>Unemployed</td>\n",
              "      <td>Better Career Prospects</td>\n",
              "      <td>No</td>\n",
              "      <td>No</td>\n",
              "      <td>No</td>\n",
              "      <td>No</td>\n",
              "      <td>No</td>\n",
              "      <td>No</td>\n",
              "      <td>No</td>\n",
              "      <td>No</td>\n",
              "      <td>Interested in other courses</td>\n",
              "      <td>Low in Relevance</td>\n",
              "      <td>No</td>\n",
              "      <td>No</td>\n",
              "      <td>Select</td>\n",
              "      <td>Select</td>\n",
              "      <td>02.Medium</td>\n",
              "      <td>02.Medium</td>\n",
              "      <td>15.0</td>\n",
              "      <td>15.0</td>\n",
              "      <td>No</td>\n",
              "      <td>No</td>\n",
              "      <td>Modified</td>\n",
              "    </tr>\n",
              "    <tr>\n",
              "      <th>1</th>\n",
              "      <td>2a272436-5132-4136-86fa-dcc88c88f482</td>\n",
              "      <td>660728</td>\n",
              "      <td>API</td>\n",
              "      <td>Organic Search</td>\n",
              "      <td>No</td>\n",
              "      <td>No</td>\n",
              "      <td>0</td>\n",
              "      <td>5.0</td>\n",
              "      <td>674</td>\n",
              "      <td>2.5</td>\n",
              "      <td>Email Opened</td>\n",
              "      <td>India</td>\n",
              "      <td>Select</td>\n",
              "      <td>Select</td>\n",
              "      <td>Unemployed</td>\n",
              "      <td>Better Career Prospects</td>\n",
              "      <td>No</td>\n",
              "      <td>No</td>\n",
              "      <td>No</td>\n",
              "      <td>No</td>\n",
              "      <td>No</td>\n",
              "      <td>No</td>\n",
              "      <td>No</td>\n",
              "      <td>No</td>\n",
              "      <td>Ringing</td>\n",
              "      <td>NaN</td>\n",
              "      <td>No</td>\n",
              "      <td>No</td>\n",
              "      <td>Select</td>\n",
              "      <td>Select</td>\n",
              "      <td>02.Medium</td>\n",
              "      <td>02.Medium</td>\n",
              "      <td>15.0</td>\n",
              "      <td>15.0</td>\n",
              "      <td>No</td>\n",
              "      <td>No</td>\n",
              "      <td>Email Opened</td>\n",
              "    </tr>\n",
              "    <tr>\n",
              "      <th>2</th>\n",
              "      <td>8cc8c611-a219-4f35-ad23-fdfd2656bd8a</td>\n",
              "      <td>660727</td>\n",
              "      <td>Landing Page Submission</td>\n",
              "      <td>Direct Traffic</td>\n",
              "      <td>No</td>\n",
              "      <td>No</td>\n",
              "      <td>1</td>\n",
              "      <td>2.0</td>\n",
              "      <td>1532</td>\n",
              "      <td>2.0</td>\n",
              "      <td>Email Opened</td>\n",
              "      <td>India</td>\n",
              "      <td>Business Administration</td>\n",
              "      <td>Select</td>\n",
              "      <td>Student</td>\n",
              "      <td>Better Career Prospects</td>\n",
              "      <td>No</td>\n",
              "      <td>No</td>\n",
              "      <td>No</td>\n",
              "      <td>No</td>\n",
              "      <td>No</td>\n",
              "      <td>No</td>\n",
              "      <td>No</td>\n",
              "      <td>No</td>\n",
              "      <td>Will revert after reading the email</td>\n",
              "      <td>Might be</td>\n",
              "      <td>No</td>\n",
              "      <td>No</td>\n",
              "      <td>Potential Lead</td>\n",
              "      <td>Mumbai</td>\n",
              "      <td>02.Medium</td>\n",
              "      <td>01.High</td>\n",
              "      <td>14.0</td>\n",
              "      <td>20.0</td>\n",
              "      <td>No</td>\n",
              "      <td>Yes</td>\n",
              "      <td>Email Opened</td>\n",
              "    </tr>\n",
              "    <tr>\n",
              "      <th>3</th>\n",
              "      <td>0cc2df48-7cf4-4e39-9de9-19797f9b38cc</td>\n",
              "      <td>660719</td>\n",
              "      <td>Landing Page Submission</td>\n",
              "      <td>Direct Traffic</td>\n",
              "      <td>No</td>\n",
              "      <td>No</td>\n",
              "      <td>0</td>\n",
              "      <td>1.0</td>\n",
              "      <td>305</td>\n",
              "      <td>1.0</td>\n",
              "      <td>Unreachable</td>\n",
              "      <td>India</td>\n",
              "      <td>Media and Advertising</td>\n",
              "      <td>Word Of Mouth</td>\n",
              "      <td>Unemployed</td>\n",
              "      <td>Better Career Prospects</td>\n",
              "      <td>No</td>\n",
              "      <td>No</td>\n",
              "      <td>No</td>\n",
              "      <td>No</td>\n",
              "      <td>No</td>\n",
              "      <td>No</td>\n",
              "      <td>No</td>\n",
              "      <td>No</td>\n",
              "      <td>Ringing</td>\n",
              "      <td>Not Sure</td>\n",
              "      <td>No</td>\n",
              "      <td>No</td>\n",
              "      <td>Select</td>\n",
              "      <td>Mumbai</td>\n",
              "      <td>02.Medium</td>\n",
              "      <td>01.High</td>\n",
              "      <td>13.0</td>\n",
              "      <td>17.0</td>\n",
              "      <td>No</td>\n",
              "      <td>No</td>\n",
              "      <td>Modified</td>\n",
              "    </tr>\n",
              "    <tr>\n",
              "      <th>4</th>\n",
              "      <td>3256f628-e534-4826-9d63-4a8b88782852</td>\n",
              "      <td>660681</td>\n",
              "      <td>Landing Page Submission</td>\n",
              "      <td>Google</td>\n",
              "      <td>No</td>\n",
              "      <td>No</td>\n",
              "      <td>1</td>\n",
              "      <td>2.0</td>\n",
              "      <td>1428</td>\n",
              "      <td>1.0</td>\n",
              "      <td>Converted to Lead</td>\n",
              "      <td>India</td>\n",
              "      <td>Select</td>\n",
              "      <td>Other</td>\n",
              "      <td>Unemployed</td>\n",
              "      <td>Better Career Prospects</td>\n",
              "      <td>No</td>\n",
              "      <td>No</td>\n",
              "      <td>No</td>\n",
              "      <td>No</td>\n",
              "      <td>No</td>\n",
              "      <td>No</td>\n",
              "      <td>No</td>\n",
              "      <td>No</td>\n",
              "      <td>Will revert after reading the email</td>\n",
              "      <td>Might be</td>\n",
              "      <td>No</td>\n",
              "      <td>No</td>\n",
              "      <td>Select</td>\n",
              "      <td>Mumbai</td>\n",
              "      <td>02.Medium</td>\n",
              "      <td>01.High</td>\n",
              "      <td>15.0</td>\n",
              "      <td>18.0</td>\n",
              "      <td>No</td>\n",
              "      <td>No</td>\n",
              "      <td>Modified</td>\n",
              "    </tr>\n",
              "  </tbody>\n",
              "</table>\n",
              "</div>\n",
              "      <button class=\"colab-df-convert\" onclick=\"convertToInteractive('df-b3ec719b-7c21-4b19-a3a1-6c69f459475d')\"\n",
              "              title=\"Convert this dataframe to an interactive table.\"\n",
              "              style=\"display:none;\">\n",
              "        \n",
              "  <svg xmlns=\"http://www.w3.org/2000/svg\" height=\"24px\"viewBox=\"0 0 24 24\"\n",
              "       width=\"24px\">\n",
              "    <path d=\"M0 0h24v24H0V0z\" fill=\"none\"/>\n",
              "    <path d=\"M18.56 5.44l.94 2.06.94-2.06 2.06-.94-2.06-.94-.94-2.06-.94 2.06-2.06.94zm-11 1L8.5 8.5l.94-2.06 2.06-.94-2.06-.94L8.5 2.5l-.94 2.06-2.06.94zm10 10l.94 2.06.94-2.06 2.06-.94-2.06-.94-.94-2.06-.94 2.06-2.06.94z\"/><path d=\"M17.41 7.96l-1.37-1.37c-.4-.4-.92-.59-1.43-.59-.52 0-1.04.2-1.43.59L10.3 9.45l-7.72 7.72c-.78.78-.78 2.05 0 2.83L4 21.41c.39.39.9.59 1.41.59.51 0 1.02-.2 1.41-.59l7.78-7.78 2.81-2.81c.8-.78.8-2.07 0-2.86zM5.41 20L4 18.59l7.72-7.72 1.47 1.35L5.41 20z\"/>\n",
              "  </svg>\n",
              "      </button>\n",
              "      \n",
              "  <style>\n",
              "    .colab-df-container {\n",
              "      display:flex;\n",
              "      flex-wrap:wrap;\n",
              "      gap: 12px;\n",
              "    }\n",
              "\n",
              "    .colab-df-convert {\n",
              "      background-color: #E8F0FE;\n",
              "      border: none;\n",
              "      border-radius: 50%;\n",
              "      cursor: pointer;\n",
              "      display: none;\n",
              "      fill: #1967D2;\n",
              "      height: 32px;\n",
              "      padding: 0 0 0 0;\n",
              "      width: 32px;\n",
              "    }\n",
              "\n",
              "    .colab-df-convert:hover {\n",
              "      background-color: #E2EBFA;\n",
              "      box-shadow: 0px 1px 2px rgba(60, 64, 67, 0.3), 0px 1px 3px 1px rgba(60, 64, 67, 0.15);\n",
              "      fill: #174EA6;\n",
              "    }\n",
              "\n",
              "    [theme=dark] .colab-df-convert {\n",
              "      background-color: #3B4455;\n",
              "      fill: #D2E3FC;\n",
              "    }\n",
              "\n",
              "    [theme=dark] .colab-df-convert:hover {\n",
              "      background-color: #434B5C;\n",
              "      box-shadow: 0px 1px 3px 1px rgba(0, 0, 0, 0.15);\n",
              "      filter: drop-shadow(0px 1px 2px rgba(0, 0, 0, 0.3));\n",
              "      fill: #FFFFFF;\n",
              "    }\n",
              "  </style>\n",
              "\n",
              "      <script>\n",
              "        const buttonEl =\n",
              "          document.querySelector('#df-b3ec719b-7c21-4b19-a3a1-6c69f459475d button.colab-df-convert');\n",
              "        buttonEl.style.display =\n",
              "          google.colab.kernel.accessAllowed ? 'block' : 'none';\n",
              "\n",
              "        async function convertToInteractive(key) {\n",
              "          const element = document.querySelector('#df-b3ec719b-7c21-4b19-a3a1-6c69f459475d');\n",
              "          const dataTable =\n",
              "            await google.colab.kernel.invokeFunction('convertToInteractive',\n",
              "                                                     [key], {});\n",
              "          if (!dataTable) return;\n",
              "\n",
              "          const docLinkHtml = 'Like what you see? Visit the ' +\n",
              "            '<a target=\"_blank\" href=https://colab.research.google.com/notebooks/data_table.ipynb>data table notebook</a>'\n",
              "            + ' to learn more about interactive tables.';\n",
              "          element.innerHTML = '';\n",
              "          dataTable['output_type'] = 'display_data';\n",
              "          await google.colab.output.renderOutput(dataTable, element);\n",
              "          const docLink = document.createElement('div');\n",
              "          docLink.innerHTML = docLinkHtml;\n",
              "          element.appendChild(docLink);\n",
              "        }\n",
              "      </script>\n",
              "    </div>\n",
              "  </div>\n",
              "  "
            ]
          },
          "metadata": {},
          "execution_count": 3
        }
      ]
    },
    {
      "cell_type": "code",
      "source": [
        "lead.shape"
      ],
      "metadata": {
        "colab": {
          "base_uri": "https://localhost:8080/"
        },
        "id": "iRe9cbNI4AD1",
        "outputId": "1eaeadd4-98f2-4170-924c-850d2bec63cb"
      },
      "execution_count": 4,
      "outputs": [
        {
          "output_type": "execute_result",
          "data": {
            "text/plain": [
              "(9240, 37)"
            ]
          },
          "metadata": {},
          "execution_count": 4
        }
      ]
    },
    {
      "cell_type": "code",
      "source": [
        "lead.describe()"
      ],
      "metadata": {
        "colab": {
          "base_uri": "https://localhost:8080/",
          "height": 362
        },
        "id": "Ss2ghzk84Rtc",
        "outputId": "7d07b16e-0952-4fa9-dba4-27009074e440"
      },
      "execution_count": 5,
      "outputs": [
        {
          "output_type": "execute_result",
          "data": {
            "text/plain": [
              "         Lead Number    Converted  TotalVisits  Total Time Spent on Website  \\\n",
              "count    9240.000000  9240.000000  9103.000000                  9240.000000   \n",
              "mean   617188.435606     0.385390     3.445238                   487.698268   \n",
              "std     23405.995698     0.486714     4.854853                   548.021466   \n",
              "min    579533.000000     0.000000     0.000000                     0.000000   \n",
              "25%    596484.500000     0.000000     1.000000                    12.000000   \n",
              "50%    615479.000000     0.000000     3.000000                   248.000000   \n",
              "75%    637387.250000     1.000000     5.000000                   936.000000   \n",
              "max    660737.000000     1.000000   251.000000                  2272.000000   \n",
              "\n",
              "       Page Views Per Visit  Asymmetrique Activity Score  \\\n",
              "count           9103.000000                  5022.000000   \n",
              "mean               2.362820                    14.306252   \n",
              "std                2.161418                     1.386694   \n",
              "min                0.000000                     7.000000   \n",
              "25%                1.000000                    14.000000   \n",
              "50%                2.000000                    14.000000   \n",
              "75%                3.000000                    15.000000   \n",
              "max               55.000000                    18.000000   \n",
              "\n",
              "       Asymmetrique Profile Score  \n",
              "count                 5022.000000  \n",
              "mean                    16.344883  \n",
              "std                      1.811395  \n",
              "min                     11.000000  \n",
              "25%                     15.000000  \n",
              "50%                     16.000000  \n",
              "75%                     18.000000  \n",
              "max                     20.000000  "
            ],
            "text/html": [
              "\n",
              "  <div id=\"df-4036f956-9873-4a1d-b270-d4cd19b00a3b\">\n",
              "    <div class=\"colab-df-container\">\n",
              "      <div>\n",
              "<style scoped>\n",
              "    .dataframe tbody tr th:only-of-type {\n",
              "        vertical-align: middle;\n",
              "    }\n",
              "\n",
              "    .dataframe tbody tr th {\n",
              "        vertical-align: top;\n",
              "    }\n",
              "\n",
              "    .dataframe thead th {\n",
              "        text-align: right;\n",
              "    }\n",
              "</style>\n",
              "<table border=\"1\" class=\"dataframe\">\n",
              "  <thead>\n",
              "    <tr style=\"text-align: right;\">\n",
              "      <th></th>\n",
              "      <th>Lead Number</th>\n",
              "      <th>Converted</th>\n",
              "      <th>TotalVisits</th>\n",
              "      <th>Total Time Spent on Website</th>\n",
              "      <th>Page Views Per Visit</th>\n",
              "      <th>Asymmetrique Activity Score</th>\n",
              "      <th>Asymmetrique Profile Score</th>\n",
              "    </tr>\n",
              "  </thead>\n",
              "  <tbody>\n",
              "    <tr>\n",
              "      <th>count</th>\n",
              "      <td>9240.000000</td>\n",
              "      <td>9240.000000</td>\n",
              "      <td>9103.000000</td>\n",
              "      <td>9240.000000</td>\n",
              "      <td>9103.000000</td>\n",
              "      <td>5022.000000</td>\n",
              "      <td>5022.000000</td>\n",
              "    </tr>\n",
              "    <tr>\n",
              "      <th>mean</th>\n",
              "      <td>617188.435606</td>\n",
              "      <td>0.385390</td>\n",
              "      <td>3.445238</td>\n",
              "      <td>487.698268</td>\n",
              "      <td>2.362820</td>\n",
              "      <td>14.306252</td>\n",
              "      <td>16.344883</td>\n",
              "    </tr>\n",
              "    <tr>\n",
              "      <th>std</th>\n",
              "      <td>23405.995698</td>\n",
              "      <td>0.486714</td>\n",
              "      <td>4.854853</td>\n",
              "      <td>548.021466</td>\n",
              "      <td>2.161418</td>\n",
              "      <td>1.386694</td>\n",
              "      <td>1.811395</td>\n",
              "    </tr>\n",
              "    <tr>\n",
              "      <th>min</th>\n",
              "      <td>579533.000000</td>\n",
              "      <td>0.000000</td>\n",
              "      <td>0.000000</td>\n",
              "      <td>0.000000</td>\n",
              "      <td>0.000000</td>\n",
              "      <td>7.000000</td>\n",
              "      <td>11.000000</td>\n",
              "    </tr>\n",
              "    <tr>\n",
              "      <th>25%</th>\n",
              "      <td>596484.500000</td>\n",
              "      <td>0.000000</td>\n",
              "      <td>1.000000</td>\n",
              "      <td>12.000000</td>\n",
              "      <td>1.000000</td>\n",
              "      <td>14.000000</td>\n",
              "      <td>15.000000</td>\n",
              "    </tr>\n",
              "    <tr>\n",
              "      <th>50%</th>\n",
              "      <td>615479.000000</td>\n",
              "      <td>0.000000</td>\n",
              "      <td>3.000000</td>\n",
              "      <td>248.000000</td>\n",
              "      <td>2.000000</td>\n",
              "      <td>14.000000</td>\n",
              "      <td>16.000000</td>\n",
              "    </tr>\n",
              "    <tr>\n",
              "      <th>75%</th>\n",
              "      <td>637387.250000</td>\n",
              "      <td>1.000000</td>\n",
              "      <td>5.000000</td>\n",
              "      <td>936.000000</td>\n",
              "      <td>3.000000</td>\n",
              "      <td>15.000000</td>\n",
              "      <td>18.000000</td>\n",
              "    </tr>\n",
              "    <tr>\n",
              "      <th>max</th>\n",
              "      <td>660737.000000</td>\n",
              "      <td>1.000000</td>\n",
              "      <td>251.000000</td>\n",
              "      <td>2272.000000</td>\n",
              "      <td>55.000000</td>\n",
              "      <td>18.000000</td>\n",
              "      <td>20.000000</td>\n",
              "    </tr>\n",
              "  </tbody>\n",
              "</table>\n",
              "</div>\n",
              "      <button class=\"colab-df-convert\" onclick=\"convertToInteractive('df-4036f956-9873-4a1d-b270-d4cd19b00a3b')\"\n",
              "              title=\"Convert this dataframe to an interactive table.\"\n",
              "              style=\"display:none;\">\n",
              "        \n",
              "  <svg xmlns=\"http://www.w3.org/2000/svg\" height=\"24px\"viewBox=\"0 0 24 24\"\n",
              "       width=\"24px\">\n",
              "    <path d=\"M0 0h24v24H0V0z\" fill=\"none\"/>\n",
              "    <path d=\"M18.56 5.44l.94 2.06.94-2.06 2.06-.94-2.06-.94-.94-2.06-.94 2.06-2.06.94zm-11 1L8.5 8.5l.94-2.06 2.06-.94-2.06-.94L8.5 2.5l-.94 2.06-2.06.94zm10 10l.94 2.06.94-2.06 2.06-.94-2.06-.94-.94-2.06-.94 2.06-2.06.94z\"/><path d=\"M17.41 7.96l-1.37-1.37c-.4-.4-.92-.59-1.43-.59-.52 0-1.04.2-1.43.59L10.3 9.45l-7.72 7.72c-.78.78-.78 2.05 0 2.83L4 21.41c.39.39.9.59 1.41.59.51 0 1.02-.2 1.41-.59l7.78-7.78 2.81-2.81c.8-.78.8-2.07 0-2.86zM5.41 20L4 18.59l7.72-7.72 1.47 1.35L5.41 20z\"/>\n",
              "  </svg>\n",
              "      </button>\n",
              "      \n",
              "  <style>\n",
              "    .colab-df-container {\n",
              "      display:flex;\n",
              "      flex-wrap:wrap;\n",
              "      gap: 12px;\n",
              "    }\n",
              "\n",
              "    .colab-df-convert {\n",
              "      background-color: #E8F0FE;\n",
              "      border: none;\n",
              "      border-radius: 50%;\n",
              "      cursor: pointer;\n",
              "      display: none;\n",
              "      fill: #1967D2;\n",
              "      height: 32px;\n",
              "      padding: 0 0 0 0;\n",
              "      width: 32px;\n",
              "    }\n",
              "\n",
              "    .colab-df-convert:hover {\n",
              "      background-color: #E2EBFA;\n",
              "      box-shadow: 0px 1px 2px rgba(60, 64, 67, 0.3), 0px 1px 3px 1px rgba(60, 64, 67, 0.15);\n",
              "      fill: #174EA6;\n",
              "    }\n",
              "\n",
              "    [theme=dark] .colab-df-convert {\n",
              "      background-color: #3B4455;\n",
              "      fill: #D2E3FC;\n",
              "    }\n",
              "\n",
              "    [theme=dark] .colab-df-convert:hover {\n",
              "      background-color: #434B5C;\n",
              "      box-shadow: 0px 1px 3px 1px rgba(0, 0, 0, 0.15);\n",
              "      filter: drop-shadow(0px 1px 2px rgba(0, 0, 0, 0.3));\n",
              "      fill: #FFFFFF;\n",
              "    }\n",
              "  </style>\n",
              "\n",
              "      <script>\n",
              "        const buttonEl =\n",
              "          document.querySelector('#df-4036f956-9873-4a1d-b270-d4cd19b00a3b button.colab-df-convert');\n",
              "        buttonEl.style.display =\n",
              "          google.colab.kernel.accessAllowed ? 'block' : 'none';\n",
              "\n",
              "        async function convertToInteractive(key) {\n",
              "          const element = document.querySelector('#df-4036f956-9873-4a1d-b270-d4cd19b00a3b');\n",
              "          const dataTable =\n",
              "            await google.colab.kernel.invokeFunction('convertToInteractive',\n",
              "                                                     [key], {});\n",
              "          if (!dataTable) return;\n",
              "\n",
              "          const docLinkHtml = 'Like what you see? Visit the ' +\n",
              "            '<a target=\"_blank\" href=https://colab.research.google.com/notebooks/data_table.ipynb>data table notebook</a>'\n",
              "            + ' to learn more about interactive tables.';\n",
              "          element.innerHTML = '';\n",
              "          dataTable['output_type'] = 'display_data';\n",
              "          await google.colab.output.renderOutput(dataTable, element);\n",
              "          const docLink = document.createElement('div');\n",
              "          docLink.innerHTML = docLinkHtml;\n",
              "          element.appendChild(docLink);\n",
              "        }\n",
              "      </script>\n",
              "    </div>\n",
              "  </div>\n",
              "  "
            ]
          },
          "metadata": {},
          "execution_count": 5
        }
      ]
    },
    {
      "cell_type": "code",
      "source": [
        "lead.info()"
      ],
      "metadata": {
        "colab": {
          "base_uri": "https://localhost:8080/"
        },
        "id": "a3pI3Qu14idR",
        "outputId": "6a52e411-8be5-401b-c83a-3fbd8baca274"
      },
      "execution_count": 6,
      "outputs": [
        {
          "output_type": "stream",
          "name": "stdout",
          "text": [
            "<class 'pandas.core.frame.DataFrame'>\n",
            "RangeIndex: 9240 entries, 0 to 9239\n",
            "Data columns (total 37 columns):\n",
            " #   Column                                         Non-Null Count  Dtype  \n",
            "---  ------                                         --------------  -----  \n",
            " 0   Prospect ID                                    9240 non-null   object \n",
            " 1   Lead Number                                    9240 non-null   int64  \n",
            " 2   Lead Origin                                    9240 non-null   object \n",
            " 3   Lead Source                                    9204 non-null   object \n",
            " 4   Do Not Email                                   9240 non-null   object \n",
            " 5   Do Not Call                                    9240 non-null   object \n",
            " 6   Converted                                      9240 non-null   int64  \n",
            " 7   TotalVisits                                    9103 non-null   float64\n",
            " 8   Total Time Spent on Website                    9240 non-null   int64  \n",
            " 9   Page Views Per Visit                           9103 non-null   float64\n",
            " 10  Last Activity                                  9137 non-null   object \n",
            " 11  Country                                        6779 non-null   object \n",
            " 12  Specialization                                 7802 non-null   object \n",
            " 13  How did you hear about X Education             7033 non-null   object \n",
            " 14  What is your current occupation                6550 non-null   object \n",
            " 15  What matters most to you in choosing a course  6531 non-null   object \n",
            " 16  Search                                         9240 non-null   object \n",
            " 17  Magazine                                       9240 non-null   object \n",
            " 18  Newspaper Article                              9240 non-null   object \n",
            " 19  X Education Forums                             9240 non-null   object \n",
            " 20  Newspaper                                      9240 non-null   object \n",
            " 21  Digital Advertisement                          9240 non-null   object \n",
            " 22  Through Recommendations                        9240 non-null   object \n",
            " 23  Receive More Updates About Our Courses         9240 non-null   object \n",
            " 24  Tags                                           5887 non-null   object \n",
            " 25  Lead Quality                                   4473 non-null   object \n",
            " 26  Update me on Supply Chain Content              9240 non-null   object \n",
            " 27  Get updates on DM Content                      9240 non-null   object \n",
            " 28  Lead Profile                                   6531 non-null   object \n",
            " 29  City                                           7820 non-null   object \n",
            " 30  Asymmetrique Activity Index                    5022 non-null   object \n",
            " 31  Asymmetrique Profile Index                     5022 non-null   object \n",
            " 32  Asymmetrique Activity Score                    5022 non-null   float64\n",
            " 33  Asymmetrique Profile Score                     5022 non-null   float64\n",
            " 34  I agree to pay the amount through cheque       9240 non-null   object \n",
            " 35  A free copy of Mastering The Interview         9240 non-null   object \n",
            " 36  Last Notable Activity                          9240 non-null   object \n",
            "dtypes: float64(4), int64(3), object(30)\n",
            "memory usage: 2.6+ MB\n"
          ]
        }
      ]
    },
    {
      "cell_type": "markdown",
      "source": [
        "### checking for null values"
      ],
      "metadata": {
        "id": "YXRIHGSmIWJ_"
      }
    },
    {
      "cell_type": "code",
      "source": [
        "sum_val=lead.isnull().sum()\n",
        "pd.DataFrame(100*sum_val/lead.shape[0])"
      ],
      "metadata": {
        "colab": {
          "base_uri": "https://localhost:8080/",
          "height": 1000
        },
        "id": "21097FcF5nAn",
        "outputId": "d331a1ba-9ae1-433d-9124-ee6e346b77d0"
      },
      "execution_count": 7,
      "outputs": [
        {
          "output_type": "execute_result",
          "data": {
            "text/plain": [
              "                                                       0\n",
              "Prospect ID                                     0.000000\n",
              "Lead Number                                     0.000000\n",
              "Lead Origin                                     0.000000\n",
              "Lead Source                                     0.389610\n",
              "Do Not Email                                    0.000000\n",
              "Do Not Call                                     0.000000\n",
              "Converted                                       0.000000\n",
              "TotalVisits                                     1.482684\n",
              "Total Time Spent on Website                     0.000000\n",
              "Page Views Per Visit                            1.482684\n",
              "Last Activity                                   1.114719\n",
              "Country                                        26.634199\n",
              "Specialization                                 15.562771\n",
              "How did you hear about X Education             23.885281\n",
              "What is your current occupation                29.112554\n",
              "What matters most to you in choosing a course  29.318182\n",
              "Search                                          0.000000\n",
              "Magazine                                        0.000000\n",
              "Newspaper Article                               0.000000\n",
              "X Education Forums                              0.000000\n",
              "Newspaper                                       0.000000\n",
              "Digital Advertisement                           0.000000\n",
              "Through Recommendations                         0.000000\n",
              "Receive More Updates About Our Courses          0.000000\n",
              "Tags                                           36.287879\n",
              "Lead Quality                                   51.590909\n",
              "Update me on Supply Chain Content               0.000000\n",
              "Get updates on DM Content                       0.000000\n",
              "Lead Profile                                   29.318182\n",
              "City                                           15.367965\n",
              "Asymmetrique Activity Index                    45.649351\n",
              "Asymmetrique Profile Index                     45.649351\n",
              "Asymmetrique Activity Score                    45.649351\n",
              "Asymmetrique Profile Score                     45.649351\n",
              "I agree to pay the amount through cheque        0.000000\n",
              "A free copy of Mastering The Interview          0.000000\n",
              "Last Notable Activity                           0.000000"
            ],
            "text/html": [
              "\n",
              "  <div id=\"df-e273d625-937a-4560-9ecd-cd7627c69036\">\n",
              "    <div class=\"colab-df-container\">\n",
              "      <div>\n",
              "<style scoped>\n",
              "    .dataframe tbody tr th:only-of-type {\n",
              "        vertical-align: middle;\n",
              "    }\n",
              "\n",
              "    .dataframe tbody tr th {\n",
              "        vertical-align: top;\n",
              "    }\n",
              "\n",
              "    .dataframe thead th {\n",
              "        text-align: right;\n",
              "    }\n",
              "</style>\n",
              "<table border=\"1\" class=\"dataframe\">\n",
              "  <thead>\n",
              "    <tr style=\"text-align: right;\">\n",
              "      <th></th>\n",
              "      <th>0</th>\n",
              "    </tr>\n",
              "  </thead>\n",
              "  <tbody>\n",
              "    <tr>\n",
              "      <th>Prospect ID</th>\n",
              "      <td>0.000000</td>\n",
              "    </tr>\n",
              "    <tr>\n",
              "      <th>Lead Number</th>\n",
              "      <td>0.000000</td>\n",
              "    </tr>\n",
              "    <tr>\n",
              "      <th>Lead Origin</th>\n",
              "      <td>0.000000</td>\n",
              "    </tr>\n",
              "    <tr>\n",
              "      <th>Lead Source</th>\n",
              "      <td>0.389610</td>\n",
              "    </tr>\n",
              "    <tr>\n",
              "      <th>Do Not Email</th>\n",
              "      <td>0.000000</td>\n",
              "    </tr>\n",
              "    <tr>\n",
              "      <th>Do Not Call</th>\n",
              "      <td>0.000000</td>\n",
              "    </tr>\n",
              "    <tr>\n",
              "      <th>Converted</th>\n",
              "      <td>0.000000</td>\n",
              "    </tr>\n",
              "    <tr>\n",
              "      <th>TotalVisits</th>\n",
              "      <td>1.482684</td>\n",
              "    </tr>\n",
              "    <tr>\n",
              "      <th>Total Time Spent on Website</th>\n",
              "      <td>0.000000</td>\n",
              "    </tr>\n",
              "    <tr>\n",
              "      <th>Page Views Per Visit</th>\n",
              "      <td>1.482684</td>\n",
              "    </tr>\n",
              "    <tr>\n",
              "      <th>Last Activity</th>\n",
              "      <td>1.114719</td>\n",
              "    </tr>\n",
              "    <tr>\n",
              "      <th>Country</th>\n",
              "      <td>26.634199</td>\n",
              "    </tr>\n",
              "    <tr>\n",
              "      <th>Specialization</th>\n",
              "      <td>15.562771</td>\n",
              "    </tr>\n",
              "    <tr>\n",
              "      <th>How did you hear about X Education</th>\n",
              "      <td>23.885281</td>\n",
              "    </tr>\n",
              "    <tr>\n",
              "      <th>What is your current occupation</th>\n",
              "      <td>29.112554</td>\n",
              "    </tr>\n",
              "    <tr>\n",
              "      <th>What matters most to you in choosing a course</th>\n",
              "      <td>29.318182</td>\n",
              "    </tr>\n",
              "    <tr>\n",
              "      <th>Search</th>\n",
              "      <td>0.000000</td>\n",
              "    </tr>\n",
              "    <tr>\n",
              "      <th>Magazine</th>\n",
              "      <td>0.000000</td>\n",
              "    </tr>\n",
              "    <tr>\n",
              "      <th>Newspaper Article</th>\n",
              "      <td>0.000000</td>\n",
              "    </tr>\n",
              "    <tr>\n",
              "      <th>X Education Forums</th>\n",
              "      <td>0.000000</td>\n",
              "    </tr>\n",
              "    <tr>\n",
              "      <th>Newspaper</th>\n",
              "      <td>0.000000</td>\n",
              "    </tr>\n",
              "    <tr>\n",
              "      <th>Digital Advertisement</th>\n",
              "      <td>0.000000</td>\n",
              "    </tr>\n",
              "    <tr>\n",
              "      <th>Through Recommendations</th>\n",
              "      <td>0.000000</td>\n",
              "    </tr>\n",
              "    <tr>\n",
              "      <th>Receive More Updates About Our Courses</th>\n",
              "      <td>0.000000</td>\n",
              "    </tr>\n",
              "    <tr>\n",
              "      <th>Tags</th>\n",
              "      <td>36.287879</td>\n",
              "    </tr>\n",
              "    <tr>\n",
              "      <th>Lead Quality</th>\n",
              "      <td>51.590909</td>\n",
              "    </tr>\n",
              "    <tr>\n",
              "      <th>Update me on Supply Chain Content</th>\n",
              "      <td>0.000000</td>\n",
              "    </tr>\n",
              "    <tr>\n",
              "      <th>Get updates on DM Content</th>\n",
              "      <td>0.000000</td>\n",
              "    </tr>\n",
              "    <tr>\n",
              "      <th>Lead Profile</th>\n",
              "      <td>29.318182</td>\n",
              "    </tr>\n",
              "    <tr>\n",
              "      <th>City</th>\n",
              "      <td>15.367965</td>\n",
              "    </tr>\n",
              "    <tr>\n",
              "      <th>Asymmetrique Activity Index</th>\n",
              "      <td>45.649351</td>\n",
              "    </tr>\n",
              "    <tr>\n",
              "      <th>Asymmetrique Profile Index</th>\n",
              "      <td>45.649351</td>\n",
              "    </tr>\n",
              "    <tr>\n",
              "      <th>Asymmetrique Activity Score</th>\n",
              "      <td>45.649351</td>\n",
              "    </tr>\n",
              "    <tr>\n",
              "      <th>Asymmetrique Profile Score</th>\n",
              "      <td>45.649351</td>\n",
              "    </tr>\n",
              "    <tr>\n",
              "      <th>I agree to pay the amount through cheque</th>\n",
              "      <td>0.000000</td>\n",
              "    </tr>\n",
              "    <tr>\n",
              "      <th>A free copy of Mastering The Interview</th>\n",
              "      <td>0.000000</td>\n",
              "    </tr>\n",
              "    <tr>\n",
              "      <th>Last Notable Activity</th>\n",
              "      <td>0.000000</td>\n",
              "    </tr>\n",
              "  </tbody>\n",
              "</table>\n",
              "</div>\n",
              "      <button class=\"colab-df-convert\" onclick=\"convertToInteractive('df-e273d625-937a-4560-9ecd-cd7627c69036')\"\n",
              "              title=\"Convert this dataframe to an interactive table.\"\n",
              "              style=\"display:none;\">\n",
              "        \n",
              "  <svg xmlns=\"http://www.w3.org/2000/svg\" height=\"24px\"viewBox=\"0 0 24 24\"\n",
              "       width=\"24px\">\n",
              "    <path d=\"M0 0h24v24H0V0z\" fill=\"none\"/>\n",
              "    <path d=\"M18.56 5.44l.94 2.06.94-2.06 2.06-.94-2.06-.94-.94-2.06-.94 2.06-2.06.94zm-11 1L8.5 8.5l.94-2.06 2.06-.94-2.06-.94L8.5 2.5l-.94 2.06-2.06.94zm10 10l.94 2.06.94-2.06 2.06-.94-2.06-.94-.94-2.06-.94 2.06-2.06.94z\"/><path d=\"M17.41 7.96l-1.37-1.37c-.4-.4-.92-.59-1.43-.59-.52 0-1.04.2-1.43.59L10.3 9.45l-7.72 7.72c-.78.78-.78 2.05 0 2.83L4 21.41c.39.39.9.59 1.41.59.51 0 1.02-.2 1.41-.59l7.78-7.78 2.81-2.81c.8-.78.8-2.07 0-2.86zM5.41 20L4 18.59l7.72-7.72 1.47 1.35L5.41 20z\"/>\n",
              "  </svg>\n",
              "      </button>\n",
              "      \n",
              "  <style>\n",
              "    .colab-df-container {\n",
              "      display:flex;\n",
              "      flex-wrap:wrap;\n",
              "      gap: 12px;\n",
              "    }\n",
              "\n",
              "    .colab-df-convert {\n",
              "      background-color: #E8F0FE;\n",
              "      border: none;\n",
              "      border-radius: 50%;\n",
              "      cursor: pointer;\n",
              "      display: none;\n",
              "      fill: #1967D2;\n",
              "      height: 32px;\n",
              "      padding: 0 0 0 0;\n",
              "      width: 32px;\n",
              "    }\n",
              "\n",
              "    .colab-df-convert:hover {\n",
              "      background-color: #E2EBFA;\n",
              "      box-shadow: 0px 1px 2px rgba(60, 64, 67, 0.3), 0px 1px 3px 1px rgba(60, 64, 67, 0.15);\n",
              "      fill: #174EA6;\n",
              "    }\n",
              "\n",
              "    [theme=dark] .colab-df-convert {\n",
              "      background-color: #3B4455;\n",
              "      fill: #D2E3FC;\n",
              "    }\n",
              "\n",
              "    [theme=dark] .colab-df-convert:hover {\n",
              "      background-color: #434B5C;\n",
              "      box-shadow: 0px 1px 3px 1px rgba(0, 0, 0, 0.15);\n",
              "      filter: drop-shadow(0px 1px 2px rgba(0, 0, 0, 0.3));\n",
              "      fill: #FFFFFF;\n",
              "    }\n",
              "  </style>\n",
              "\n",
              "      <script>\n",
              "        const buttonEl =\n",
              "          document.querySelector('#df-e273d625-937a-4560-9ecd-cd7627c69036 button.colab-df-convert');\n",
              "        buttonEl.style.display =\n",
              "          google.colab.kernel.accessAllowed ? 'block' : 'none';\n",
              "\n",
              "        async function convertToInteractive(key) {\n",
              "          const element = document.querySelector('#df-e273d625-937a-4560-9ecd-cd7627c69036');\n",
              "          const dataTable =\n",
              "            await google.colab.kernel.invokeFunction('convertToInteractive',\n",
              "                                                     [key], {});\n",
              "          if (!dataTable) return;\n",
              "\n",
              "          const docLinkHtml = 'Like what you see? Visit the ' +\n",
              "            '<a target=\"_blank\" href=https://colab.research.google.com/notebooks/data_table.ipynb>data table notebook</a>'\n",
              "            + ' to learn more about interactive tables.';\n",
              "          element.innerHTML = '';\n",
              "          dataTable['output_type'] = 'display_data';\n",
              "          await google.colab.output.renderOutput(dataTable, element);\n",
              "          const docLink = document.createElement('div');\n",
              "          docLink.innerHTML = docLinkHtml;\n",
              "          element.appendChild(docLink);\n",
              "        }\n",
              "      </script>\n",
              "    </div>\n",
              "  </div>\n",
              "  "
            ]
          },
          "metadata": {},
          "execution_count": 7
        }
      ]
    },
    {
      "cell_type": "markdown",
      "source": [
        "Below are the columns which has more than 40% of null values:\n",
        "\n",
        "- Asymmetrique Activity Index\t\n",
        "- Asymmetrique Profile Index\t\n",
        "- Asymmetrique Activity Score\t\n",
        "- Asymmetrique Profile Score\n",
        "- Lead Quality\n"
      ],
      "metadata": {
        "id": "kBk46Cr1Yary"
      }
    },
    {
      "cell_type": "markdown",
      "source": [
        "### Checking for duplicate values"
      ],
      "metadata": {
        "id": "NOxnAyzwYKMh"
      }
    },
    {
      "cell_type": "code",
      "source": [
        "\n",
        "lead[lead.duplicated(keep=False)]"
      ],
      "metadata": {
        "id": "C8s5GiTjJbae",
        "colab": {
          "base_uri": "https://localhost:8080/",
          "height": 200
        },
        "outputId": "ccaed6be-3bb5-4b1e-8910-837ab1dc8cee"
      },
      "execution_count": 8,
      "outputs": [
        {
          "output_type": "execute_result",
          "data": {
            "text/plain": [
              "Empty DataFrame\n",
              "Columns: [Prospect ID, Lead Number, Lead Origin, Lead Source, Do Not Email, Do Not Call, Converted, TotalVisits, Total Time Spent on Website, Page Views Per Visit, Last Activity, Country, Specialization, How did you hear about X Education, What is your current occupation, What matters most to you in choosing a course, Search, Magazine, Newspaper Article, X Education Forums, Newspaper, Digital Advertisement, Through Recommendations, Receive More Updates About Our Courses, Tags, Lead Quality, Update me on Supply Chain Content, Get updates on DM Content, Lead Profile, City, Asymmetrique Activity Index, Asymmetrique Profile Index, Asymmetrique Activity Score, Asymmetrique Profile Score, I agree to pay the amount through cheque, A free copy of Mastering The Interview, Last Notable Activity]\n",
              "Index: []"
            ],
            "text/html": [
              "\n",
              "  <div id=\"df-a96b8e68-31ed-4d77-aca8-4c151fc4dc15\">\n",
              "    <div class=\"colab-df-container\">\n",
              "      <div>\n",
              "<style scoped>\n",
              "    .dataframe tbody tr th:only-of-type {\n",
              "        vertical-align: middle;\n",
              "    }\n",
              "\n",
              "    .dataframe tbody tr th {\n",
              "        vertical-align: top;\n",
              "    }\n",
              "\n",
              "    .dataframe thead th {\n",
              "        text-align: right;\n",
              "    }\n",
              "</style>\n",
              "<table border=\"1\" class=\"dataframe\">\n",
              "  <thead>\n",
              "    <tr style=\"text-align: right;\">\n",
              "      <th></th>\n",
              "      <th>Prospect ID</th>\n",
              "      <th>Lead Number</th>\n",
              "      <th>Lead Origin</th>\n",
              "      <th>Lead Source</th>\n",
              "      <th>Do Not Email</th>\n",
              "      <th>Do Not Call</th>\n",
              "      <th>Converted</th>\n",
              "      <th>TotalVisits</th>\n",
              "      <th>Total Time Spent on Website</th>\n",
              "      <th>Page Views Per Visit</th>\n",
              "      <th>Last Activity</th>\n",
              "      <th>Country</th>\n",
              "      <th>Specialization</th>\n",
              "      <th>How did you hear about X Education</th>\n",
              "      <th>What is your current occupation</th>\n",
              "      <th>What matters most to you in choosing a course</th>\n",
              "      <th>Search</th>\n",
              "      <th>Magazine</th>\n",
              "      <th>Newspaper Article</th>\n",
              "      <th>X Education Forums</th>\n",
              "      <th>Newspaper</th>\n",
              "      <th>Digital Advertisement</th>\n",
              "      <th>Through Recommendations</th>\n",
              "      <th>Receive More Updates About Our Courses</th>\n",
              "      <th>Tags</th>\n",
              "      <th>Lead Quality</th>\n",
              "      <th>Update me on Supply Chain Content</th>\n",
              "      <th>Get updates on DM Content</th>\n",
              "      <th>Lead Profile</th>\n",
              "      <th>City</th>\n",
              "      <th>Asymmetrique Activity Index</th>\n",
              "      <th>Asymmetrique Profile Index</th>\n",
              "      <th>Asymmetrique Activity Score</th>\n",
              "      <th>Asymmetrique Profile Score</th>\n",
              "      <th>I agree to pay the amount through cheque</th>\n",
              "      <th>A free copy of Mastering The Interview</th>\n",
              "      <th>Last Notable Activity</th>\n",
              "    </tr>\n",
              "  </thead>\n",
              "  <tbody>\n",
              "  </tbody>\n",
              "</table>\n",
              "</div>\n",
              "      <button class=\"colab-df-convert\" onclick=\"convertToInteractive('df-a96b8e68-31ed-4d77-aca8-4c151fc4dc15')\"\n",
              "              title=\"Convert this dataframe to an interactive table.\"\n",
              "              style=\"display:none;\">\n",
              "        \n",
              "  <svg xmlns=\"http://www.w3.org/2000/svg\" height=\"24px\"viewBox=\"0 0 24 24\"\n",
              "       width=\"24px\">\n",
              "    <path d=\"M0 0h24v24H0V0z\" fill=\"none\"/>\n",
              "    <path d=\"M18.56 5.44l.94 2.06.94-2.06 2.06-.94-2.06-.94-.94-2.06-.94 2.06-2.06.94zm-11 1L8.5 8.5l.94-2.06 2.06-.94-2.06-.94L8.5 2.5l-.94 2.06-2.06.94zm10 10l.94 2.06.94-2.06 2.06-.94-2.06-.94-.94-2.06-.94 2.06-2.06.94z\"/><path d=\"M17.41 7.96l-1.37-1.37c-.4-.4-.92-.59-1.43-.59-.52 0-1.04.2-1.43.59L10.3 9.45l-7.72 7.72c-.78.78-.78 2.05 0 2.83L4 21.41c.39.39.9.59 1.41.59.51 0 1.02-.2 1.41-.59l7.78-7.78 2.81-2.81c.8-.78.8-2.07 0-2.86zM5.41 20L4 18.59l7.72-7.72 1.47 1.35L5.41 20z\"/>\n",
              "  </svg>\n",
              "      </button>\n",
              "      \n",
              "  <style>\n",
              "    .colab-df-container {\n",
              "      display:flex;\n",
              "      flex-wrap:wrap;\n",
              "      gap: 12px;\n",
              "    }\n",
              "\n",
              "    .colab-df-convert {\n",
              "      background-color: #E8F0FE;\n",
              "      border: none;\n",
              "      border-radius: 50%;\n",
              "      cursor: pointer;\n",
              "      display: none;\n",
              "      fill: #1967D2;\n",
              "      height: 32px;\n",
              "      padding: 0 0 0 0;\n",
              "      width: 32px;\n",
              "    }\n",
              "\n",
              "    .colab-df-convert:hover {\n",
              "      background-color: #E2EBFA;\n",
              "      box-shadow: 0px 1px 2px rgba(60, 64, 67, 0.3), 0px 1px 3px 1px rgba(60, 64, 67, 0.15);\n",
              "      fill: #174EA6;\n",
              "    }\n",
              "\n",
              "    [theme=dark] .colab-df-convert {\n",
              "      background-color: #3B4455;\n",
              "      fill: #D2E3FC;\n",
              "    }\n",
              "\n",
              "    [theme=dark] .colab-df-convert:hover {\n",
              "      background-color: #434B5C;\n",
              "      box-shadow: 0px 1px 3px 1px rgba(0, 0, 0, 0.15);\n",
              "      filter: drop-shadow(0px 1px 2px rgba(0, 0, 0, 0.3));\n",
              "      fill: #FFFFFF;\n",
              "    }\n",
              "  </style>\n",
              "\n",
              "      <script>\n",
              "        const buttonEl =\n",
              "          document.querySelector('#df-a96b8e68-31ed-4d77-aca8-4c151fc4dc15 button.colab-df-convert');\n",
              "        buttonEl.style.display =\n",
              "          google.colab.kernel.accessAllowed ? 'block' : 'none';\n",
              "\n",
              "        async function convertToInteractive(key) {\n",
              "          const element = document.querySelector('#df-a96b8e68-31ed-4d77-aca8-4c151fc4dc15');\n",
              "          const dataTable =\n",
              "            await google.colab.kernel.invokeFunction('convertToInteractive',\n",
              "                                                     [key], {});\n",
              "          if (!dataTable) return;\n",
              "\n",
              "          const docLinkHtml = 'Like what you see? Visit the ' +\n",
              "            '<a target=\"_blank\" href=https://colab.research.google.com/notebooks/data_table.ipynb>data table notebook</a>'\n",
              "            + ' to learn more about interactive tables.';\n",
              "          element.innerHTML = '';\n",
              "          dataTable['output_type'] = 'display_data';\n",
              "          await google.colab.output.renderOutput(dataTable, element);\n",
              "          const docLink = document.createElement('div');\n",
              "          docLink.innerHTML = docLinkHtml;\n",
              "          element.appendChild(docLink);\n",
              "        }\n",
              "      </script>\n",
              "    </div>\n",
              "  </div>\n",
              "  "
            ]
          },
          "metadata": {},
          "execution_count": 8
        }
      ]
    },
    {
      "cell_type": "markdown",
      "source": [
        "No duplicates values are present in data set"
      ],
      "metadata": {
        "id": "Gr4QWDG7YjM_"
      }
    },
    {
      "cell_type": "markdown",
      "source": [
        "### Replacing \"select\" from below columns to NaN as customer has not selected any options\n",
        "\n",
        "- Specialization\n",
        "- Lead Profile\n",
        "- How did you hear about X Education\n",
        "- City"
      ],
      "metadata": {
        "id": "E3S-hznijcDe"
      }
    },
    {
      "cell_type": "code",
      "source": [
        "lead['Specialization'] = lead['Specialization'].replace('Select',np.nan)\n",
        "lead['How did you hear about X Education'] = lead['How did you hear about X Education'].replace('Select',np.nan)\n",
        "lead['Lead Profile'] = lead['Lead Profile'].replace('Select',np.nan)\n",
        "lead['City'] = lead['City'].replace('Select', np.nan)"
      ],
      "metadata": {
        "id": "lbFsaylTXgM2"
      },
      "execution_count": 9,
      "outputs": []
    },
    {
      "cell_type": "markdown",
      "source": [
        "### Analyzing Lead_Source\n"
      ],
      "metadata": {
        "id": "l4peXf9UqxUa"
      }
    },
    {
      "cell_type": "markdown",
      "source": [
        "GOOGLE is present both in upper and lower case hence converting both to \"Google\""
      ],
      "metadata": {
        "id": "awFL1OwPl8ZG"
      }
    },
    {
      "cell_type": "code",
      "source": [
        "lead['Lead Source'] = lead['Lead Source'].replace('google', 'Google')\n"
      ],
      "metadata": {
        "id": "0G7ukazIl2_a"
      },
      "execution_count": 10,
      "outputs": []
    },
    {
      "cell_type": "code",
      "source": [
        "lead['Lead Source'].value_counts()"
      ],
      "metadata": {
        "colab": {
          "base_uri": "https://localhost:8080/"
        },
        "id": "5CpDUbg-t3ED",
        "outputId": "0fa85e87-06ca-4178-b77d-2e6d660b2fa6"
      },
      "execution_count": 11,
      "outputs": [
        {
          "output_type": "execute_result",
          "data": {
            "text/plain": [
              "Google               2873\n",
              "Direct Traffic       2543\n",
              "Olark Chat           1755\n",
              "Organic Search       1154\n",
              "Reference             534\n",
              "Welingak Website      142\n",
              "Referral Sites        125\n",
              "Facebook               55\n",
              "bing                    6\n",
              "Click2call              4\n",
              "Social Media            2\n",
              "Live Chat               2\n",
              "Press_Release           2\n",
              "Pay per Click Ads       1\n",
              "blog                    1\n",
              "WeLearn                 1\n",
              "welearnblog_Home        1\n",
              "youtubechannel          1\n",
              "testone                 1\n",
              "NC_EDM                  1\n",
              "Name: Lead Source, dtype: int64"
            ]
          },
          "metadata": {},
          "execution_count": 11
        }
      ]
    },
    {
      "cell_type": "markdown",
      "source": [
        "In Lead search column Google has most number of counts and we can assume that most customer will serach through google and come to platform. Hence we can replace Nan value with Google.\n",
        "\n"
      ],
      "metadata": {
        "id": "h5PKlBqrwOsv"
      }
    },
    {
      "cell_type": "code",
      "source": [
        "lead['Lead Source'] = lead['Lead Source'].replace(np.nan, 'Google')"
      ],
      "metadata": {
        "id": "Xl5XLr4su30O"
      },
      "execution_count": 12,
      "outputs": []
    },
    {
      "cell_type": "code",
      "source": [
        "lead['Lead Source'].value_counts()"
      ],
      "metadata": {
        "colab": {
          "base_uri": "https://localhost:8080/"
        },
        "id": "1WPoIEO6pdPi",
        "outputId": "cc56a064-0fcc-4b2b-c322-78afd0fb16bb"
      },
      "execution_count": 13,
      "outputs": [
        {
          "output_type": "execute_result",
          "data": {
            "text/plain": [
              "Google               2909\n",
              "Direct Traffic       2543\n",
              "Olark Chat           1755\n",
              "Organic Search       1154\n",
              "Reference             534\n",
              "Welingak Website      142\n",
              "Referral Sites        125\n",
              "Facebook               55\n",
              "bing                    6\n",
              "Click2call              4\n",
              "Social Media            2\n",
              "Live Chat               2\n",
              "Press_Release           2\n",
              "Pay per Click Ads       1\n",
              "blog                    1\n",
              "WeLearn                 1\n",
              "welearnblog_Home        1\n",
              "youtubechannel          1\n",
              "testone                 1\n",
              "NC_EDM                  1\n",
              "Name: Lead Source, dtype: int64"
            ]
          },
          "metadata": {},
          "execution_count": 13
        }
      ]
    },
    {
      "cell_type": "markdown",
      "source": [
        "Lead source have similar values to columns like search, newspaper, magazine etc which indicate where customer saw ad so we can drop this column"
      ],
      "metadata": {
        "id": "SuDDplVOgg24"
      }
    },
    {
      "cell_type": "markdown",
      "source": [
        "### Analyzing How did you hear about X Education\n"
      ],
      "metadata": {
        "id": "RDDH2bMo_19W"
      }
    },
    {
      "cell_type": "code",
      "source": [
        "lead['How did you hear about X Education'].unique()"
      ],
      "metadata": {
        "colab": {
          "base_uri": "https://localhost:8080/"
        },
        "id": "2UISMC81-LoC",
        "outputId": "f488149b-e60b-44b8-d666-9c4d3b78df72"
      },
      "execution_count": 14,
      "outputs": [
        {
          "output_type": "execute_result",
          "data": {
            "text/plain": [
              "array([nan, 'Word Of Mouth', 'Other', 'Online Search', 'Multiple Sources',\n",
              "       'Advertisements', 'Student of SomeSchool', 'Email', 'Social Media',\n",
              "       'SMS'], dtype=object)"
            ]
          },
          "metadata": {},
          "execution_count": 14
        }
      ]
    },
    {
      "cell_type": "markdown",
      "source": [
        "How did you hear about X Education has similar values to columns like search, newspaper, magazine etc which indicate where customer saw ad so we can drop this column"
      ],
      "metadata": {
        "id": "5O-qNBspe7QQ"
      }
    },
    {
      "cell_type": "code",
      "source": [
        "lead['Last Activity'].unique()"
      ],
      "metadata": {
        "colab": {
          "base_uri": "https://localhost:8080/"
        },
        "id": "gigZ_TAZzDVo",
        "outputId": "efd44cc2-b0a7-4b16-da4d-43cfe49268b0"
      },
      "execution_count": 15,
      "outputs": [
        {
          "output_type": "execute_result",
          "data": {
            "text/plain": [
              "array(['Page Visited on Website', 'Email Opened', 'Unreachable',\n",
              "       'Converted to Lead', 'Olark Chat Conversation', 'Email Bounced',\n",
              "       'Email Link Clicked', 'Form Submitted on Website', 'Unsubscribed',\n",
              "       'Had a Phone Conversation', 'View in browser link Clicked', nan,\n",
              "       'Approached upfront', 'SMS Sent', 'Visited Booth in Tradeshow',\n",
              "       'Resubscribed to emails', 'Email Received', 'Email Marked Spam'],\n",
              "      dtype=object)"
            ]
          },
          "metadata": {},
          "execution_count": 15
        }
      ]
    },
    {
      "cell_type": "code",
      "source": [
        "lead['Last Activity'].isna().sum()"
      ],
      "metadata": {
        "colab": {
          "base_uri": "https://localhost:8080/"
        },
        "id": "zLhFv8W-pImK",
        "outputId": "357caa65-c892-4160-c4db-ed74c5af0e48"
      },
      "execution_count": 16,
      "outputs": [
        {
          "output_type": "execute_result",
          "data": {
            "text/plain": [
              "103"
            ]
          },
          "metadata": {},
          "execution_count": 16
        }
      ]
    },
    {
      "cell_type": "markdown",
      "source": [
        "In last activity column number of nul values in 103 and since we don't know customer's last activity will replace it with \"no activity\""
      ],
      "metadata": {
        "id": "cM7bb4RYptED"
      }
    },
    {
      "cell_type": "code",
      "source": [
        "lead['Last Activity'] = lead['Last Activity'].replace(np.nan, 'No activity')"
      ],
      "metadata": {
        "id": "lcM7an1jzP3I"
      },
      "execution_count": 17,
      "outputs": []
    },
    {
      "cell_type": "markdown",
      "source": [
        "value counts for the column \"What is your current Occupation\""
      ],
      "metadata": {
        "id": "ooguMtQo_j4h"
      }
    },
    {
      "cell_type": "code",
      "source": [
        "lead['What is your current occupation'].value_counts()"
      ],
      "metadata": {
        "colab": {
          "base_uri": "https://localhost:8080/"
        },
        "id": "6VZZGRGs0uyw",
        "outputId": "5d26377f-621f-4f9d-99f6-651637bbb252"
      },
      "execution_count": 18,
      "outputs": [
        {
          "output_type": "execute_result",
          "data": {
            "text/plain": [
              "Unemployed              5600\n",
              "Working Professional     706\n",
              "Student                  210\n",
              "Other                     16\n",
              "Housewife                 10\n",
              "Businessman                8\n",
              "Name: What is your current occupation, dtype: int64"
            ]
          },
          "metadata": {},
          "execution_count": 18
        }
      ]
    },
    {
      "cell_type": "code",
      "source": [
        "sum_val1=lead.isnull().sum()\n",
        "pd.DataFrame(100*sum_val1/lead.shape[0])"
      ],
      "metadata": {
        "id": "ZrTjIKjc2s9C",
        "colab": {
          "base_uri": "https://localhost:8080/",
          "height": 1000
        },
        "outputId": "465420d1-86ad-45dc-b4c1-84ac1e53fe5d"
      },
      "execution_count": 19,
      "outputs": [
        {
          "output_type": "execute_result",
          "data": {
            "text/plain": [
              "                                                       0\n",
              "Prospect ID                                     0.000000\n",
              "Lead Number                                     0.000000\n",
              "Lead Origin                                     0.000000\n",
              "Lead Source                                     0.000000\n",
              "Do Not Email                                    0.000000\n",
              "Do Not Call                                     0.000000\n",
              "Converted                                       0.000000\n",
              "TotalVisits                                     1.482684\n",
              "Total Time Spent on Website                     0.000000\n",
              "Page Views Per Visit                            1.482684\n",
              "Last Activity                                   0.000000\n",
              "Country                                        26.634199\n",
              "Specialization                                 36.580087\n",
              "How did you hear about X Education             78.463203\n",
              "What is your current occupation                29.112554\n",
              "What matters most to you in choosing a course  29.318182\n",
              "Search                                          0.000000\n",
              "Magazine                                        0.000000\n",
              "Newspaper Article                               0.000000\n",
              "X Education Forums                              0.000000\n",
              "Newspaper                                       0.000000\n",
              "Digital Advertisement                           0.000000\n",
              "Through Recommendations                         0.000000\n",
              "Receive More Updates About Our Courses          0.000000\n",
              "Tags                                           36.287879\n",
              "Lead Quality                                   51.590909\n",
              "Update me on Supply Chain Content               0.000000\n",
              "Get updates on DM Content                       0.000000\n",
              "Lead Profile                                   74.188312\n",
              "City                                           39.707792\n",
              "Asymmetrique Activity Index                    45.649351\n",
              "Asymmetrique Profile Index                     45.649351\n",
              "Asymmetrique Activity Score                    45.649351\n",
              "Asymmetrique Profile Score                     45.649351\n",
              "I agree to pay the amount through cheque        0.000000\n",
              "A free copy of Mastering The Interview          0.000000\n",
              "Last Notable Activity                           0.000000"
            ],
            "text/html": [
              "\n",
              "  <div id=\"df-d9cb064d-46ec-4431-bf5b-dddbd169b84a\">\n",
              "    <div class=\"colab-df-container\">\n",
              "      <div>\n",
              "<style scoped>\n",
              "    .dataframe tbody tr th:only-of-type {\n",
              "        vertical-align: middle;\n",
              "    }\n",
              "\n",
              "    .dataframe tbody tr th {\n",
              "        vertical-align: top;\n",
              "    }\n",
              "\n",
              "    .dataframe thead th {\n",
              "        text-align: right;\n",
              "    }\n",
              "</style>\n",
              "<table border=\"1\" class=\"dataframe\">\n",
              "  <thead>\n",
              "    <tr style=\"text-align: right;\">\n",
              "      <th></th>\n",
              "      <th>0</th>\n",
              "    </tr>\n",
              "  </thead>\n",
              "  <tbody>\n",
              "    <tr>\n",
              "      <th>Prospect ID</th>\n",
              "      <td>0.000000</td>\n",
              "    </tr>\n",
              "    <tr>\n",
              "      <th>Lead Number</th>\n",
              "      <td>0.000000</td>\n",
              "    </tr>\n",
              "    <tr>\n",
              "      <th>Lead Origin</th>\n",
              "      <td>0.000000</td>\n",
              "    </tr>\n",
              "    <tr>\n",
              "      <th>Lead Source</th>\n",
              "      <td>0.000000</td>\n",
              "    </tr>\n",
              "    <tr>\n",
              "      <th>Do Not Email</th>\n",
              "      <td>0.000000</td>\n",
              "    </tr>\n",
              "    <tr>\n",
              "      <th>Do Not Call</th>\n",
              "      <td>0.000000</td>\n",
              "    </tr>\n",
              "    <tr>\n",
              "      <th>Converted</th>\n",
              "      <td>0.000000</td>\n",
              "    </tr>\n",
              "    <tr>\n",
              "      <th>TotalVisits</th>\n",
              "      <td>1.482684</td>\n",
              "    </tr>\n",
              "    <tr>\n",
              "      <th>Total Time Spent on Website</th>\n",
              "      <td>0.000000</td>\n",
              "    </tr>\n",
              "    <tr>\n",
              "      <th>Page Views Per Visit</th>\n",
              "      <td>1.482684</td>\n",
              "    </tr>\n",
              "    <tr>\n",
              "      <th>Last Activity</th>\n",
              "      <td>0.000000</td>\n",
              "    </tr>\n",
              "    <tr>\n",
              "      <th>Country</th>\n",
              "      <td>26.634199</td>\n",
              "    </tr>\n",
              "    <tr>\n",
              "      <th>Specialization</th>\n",
              "      <td>36.580087</td>\n",
              "    </tr>\n",
              "    <tr>\n",
              "      <th>How did you hear about X Education</th>\n",
              "      <td>78.463203</td>\n",
              "    </tr>\n",
              "    <tr>\n",
              "      <th>What is your current occupation</th>\n",
              "      <td>29.112554</td>\n",
              "    </tr>\n",
              "    <tr>\n",
              "      <th>What matters most to you in choosing a course</th>\n",
              "      <td>29.318182</td>\n",
              "    </tr>\n",
              "    <tr>\n",
              "      <th>Search</th>\n",
              "      <td>0.000000</td>\n",
              "    </tr>\n",
              "    <tr>\n",
              "      <th>Magazine</th>\n",
              "      <td>0.000000</td>\n",
              "    </tr>\n",
              "    <tr>\n",
              "      <th>Newspaper Article</th>\n",
              "      <td>0.000000</td>\n",
              "    </tr>\n",
              "    <tr>\n",
              "      <th>X Education Forums</th>\n",
              "      <td>0.000000</td>\n",
              "    </tr>\n",
              "    <tr>\n",
              "      <th>Newspaper</th>\n",
              "      <td>0.000000</td>\n",
              "    </tr>\n",
              "    <tr>\n",
              "      <th>Digital Advertisement</th>\n",
              "      <td>0.000000</td>\n",
              "    </tr>\n",
              "    <tr>\n",
              "      <th>Through Recommendations</th>\n",
              "      <td>0.000000</td>\n",
              "    </tr>\n",
              "    <tr>\n",
              "      <th>Receive More Updates About Our Courses</th>\n",
              "      <td>0.000000</td>\n",
              "    </tr>\n",
              "    <tr>\n",
              "      <th>Tags</th>\n",
              "      <td>36.287879</td>\n",
              "    </tr>\n",
              "    <tr>\n",
              "      <th>Lead Quality</th>\n",
              "      <td>51.590909</td>\n",
              "    </tr>\n",
              "    <tr>\n",
              "      <th>Update me on Supply Chain Content</th>\n",
              "      <td>0.000000</td>\n",
              "    </tr>\n",
              "    <tr>\n",
              "      <th>Get updates on DM Content</th>\n",
              "      <td>0.000000</td>\n",
              "    </tr>\n",
              "    <tr>\n",
              "      <th>Lead Profile</th>\n",
              "      <td>74.188312</td>\n",
              "    </tr>\n",
              "    <tr>\n",
              "      <th>City</th>\n",
              "      <td>39.707792</td>\n",
              "    </tr>\n",
              "    <tr>\n",
              "      <th>Asymmetrique Activity Index</th>\n",
              "      <td>45.649351</td>\n",
              "    </tr>\n",
              "    <tr>\n",
              "      <th>Asymmetrique Profile Index</th>\n",
              "      <td>45.649351</td>\n",
              "    </tr>\n",
              "    <tr>\n",
              "      <th>Asymmetrique Activity Score</th>\n",
              "      <td>45.649351</td>\n",
              "    </tr>\n",
              "    <tr>\n",
              "      <th>Asymmetrique Profile Score</th>\n",
              "      <td>45.649351</td>\n",
              "    </tr>\n",
              "    <tr>\n",
              "      <th>I agree to pay the amount through cheque</th>\n",
              "      <td>0.000000</td>\n",
              "    </tr>\n",
              "    <tr>\n",
              "      <th>A free copy of Mastering The Interview</th>\n",
              "      <td>0.000000</td>\n",
              "    </tr>\n",
              "    <tr>\n",
              "      <th>Last Notable Activity</th>\n",
              "      <td>0.000000</td>\n",
              "    </tr>\n",
              "  </tbody>\n",
              "</table>\n",
              "</div>\n",
              "      <button class=\"colab-df-convert\" onclick=\"convertToInteractive('df-d9cb064d-46ec-4431-bf5b-dddbd169b84a')\"\n",
              "              title=\"Convert this dataframe to an interactive table.\"\n",
              "              style=\"display:none;\">\n",
              "        \n",
              "  <svg xmlns=\"http://www.w3.org/2000/svg\" height=\"24px\"viewBox=\"0 0 24 24\"\n",
              "       width=\"24px\">\n",
              "    <path d=\"M0 0h24v24H0V0z\" fill=\"none\"/>\n",
              "    <path d=\"M18.56 5.44l.94 2.06.94-2.06 2.06-.94-2.06-.94-.94-2.06-.94 2.06-2.06.94zm-11 1L8.5 8.5l.94-2.06 2.06-.94-2.06-.94L8.5 2.5l-.94 2.06-2.06.94zm10 10l.94 2.06.94-2.06 2.06-.94-2.06-.94-.94-2.06-.94 2.06-2.06.94z\"/><path d=\"M17.41 7.96l-1.37-1.37c-.4-.4-.92-.59-1.43-.59-.52 0-1.04.2-1.43.59L10.3 9.45l-7.72 7.72c-.78.78-.78 2.05 0 2.83L4 21.41c.39.39.9.59 1.41.59.51 0 1.02-.2 1.41-.59l7.78-7.78 2.81-2.81c.8-.78.8-2.07 0-2.86zM5.41 20L4 18.59l7.72-7.72 1.47 1.35L5.41 20z\"/>\n",
              "  </svg>\n",
              "      </button>\n",
              "      \n",
              "  <style>\n",
              "    .colab-df-container {\n",
              "      display:flex;\n",
              "      flex-wrap:wrap;\n",
              "      gap: 12px;\n",
              "    }\n",
              "\n",
              "    .colab-df-convert {\n",
              "      background-color: #E8F0FE;\n",
              "      border: none;\n",
              "      border-radius: 50%;\n",
              "      cursor: pointer;\n",
              "      display: none;\n",
              "      fill: #1967D2;\n",
              "      height: 32px;\n",
              "      padding: 0 0 0 0;\n",
              "      width: 32px;\n",
              "    }\n",
              "\n",
              "    .colab-df-convert:hover {\n",
              "      background-color: #E2EBFA;\n",
              "      box-shadow: 0px 1px 2px rgba(60, 64, 67, 0.3), 0px 1px 3px 1px rgba(60, 64, 67, 0.15);\n",
              "      fill: #174EA6;\n",
              "    }\n",
              "\n",
              "    [theme=dark] .colab-df-convert {\n",
              "      background-color: #3B4455;\n",
              "      fill: #D2E3FC;\n",
              "    }\n",
              "\n",
              "    [theme=dark] .colab-df-convert:hover {\n",
              "      background-color: #434B5C;\n",
              "      box-shadow: 0px 1px 3px 1px rgba(0, 0, 0, 0.15);\n",
              "      filter: drop-shadow(0px 1px 2px rgba(0, 0, 0, 0.3));\n",
              "      fill: #FFFFFF;\n",
              "    }\n",
              "  </style>\n",
              "\n",
              "      <script>\n",
              "        const buttonEl =\n",
              "          document.querySelector('#df-d9cb064d-46ec-4431-bf5b-dddbd169b84a button.colab-df-convert');\n",
              "        buttonEl.style.display =\n",
              "          google.colab.kernel.accessAllowed ? 'block' : 'none';\n",
              "\n",
              "        async function convertToInteractive(key) {\n",
              "          const element = document.querySelector('#df-d9cb064d-46ec-4431-bf5b-dddbd169b84a');\n",
              "          const dataTable =\n",
              "            await google.colab.kernel.invokeFunction('convertToInteractive',\n",
              "                                                     [key], {});\n",
              "          if (!dataTable) return;\n",
              "\n",
              "          const docLinkHtml = 'Like what you see? Visit the ' +\n",
              "            '<a target=\"_blank\" href=https://colab.research.google.com/notebooks/data_table.ipynb>data table notebook</a>'\n",
              "            + ' to learn more about interactive tables.';\n",
              "          element.innerHTML = '';\n",
              "          dataTable['output_type'] = 'display_data';\n",
              "          await google.colab.output.renderOutput(dataTable, element);\n",
              "          const docLink = document.createElement('div');\n",
              "          docLink.innerHTML = docLinkHtml;\n",
              "          element.appendChild(docLink);\n",
              "        }\n",
              "      </script>\n",
              "    </div>\n",
              "  </div>\n",
              "  "
            ]
          },
          "metadata": {},
          "execution_count": 19
        }
      ]
    },
    {
      "cell_type": "code",
      "source": [
        "lead['Converted'].value_counts()"
      ],
      "metadata": {
        "colab": {
          "base_uri": "https://localhost:8080/"
        },
        "id": "R3LWiZ2HOTy7",
        "outputId": "7adf4144-8076-435c-f357-5dbe6ba0e39a"
      },
      "execution_count": 20,
      "outputs": [
        {
          "output_type": "execute_result",
          "data": {
            "text/plain": [
              "0    5679\n",
              "1    3561\n",
              "Name: Converted, dtype: int64"
            ]
          },
          "metadata": {},
          "execution_count": 20
        }
      ]
    },
    {
      "cell_type": "markdown",
      "source": [
        "### Analyzing Lead Quality and Lead Profile "
      ],
      "metadata": {
        "id": "EfLTL9cc_rjQ"
      }
    },
    {
      "cell_type": "code",
      "source": [
        "lead['Lead Quality'].value_counts()"
      ],
      "metadata": {
        "colab": {
          "base_uri": "https://localhost:8080/"
        },
        "id": "FXut9D-5q-gk",
        "outputId": "3947113d-1805-4cf0-f829-18aab7289b07"
      },
      "execution_count": 21,
      "outputs": [
        {
          "output_type": "execute_result",
          "data": {
            "text/plain": [
              "Might be             1560\n",
              "Not Sure             1092\n",
              "High in Relevance     637\n",
              "Worst                 601\n",
              "Low in Relevance      583\n",
              "Name: Lead Quality, dtype: int64"
            ]
          },
          "metadata": {},
          "execution_count": 21
        }
      ]
    },
    {
      "cell_type": "code",
      "source": [
        "lead['Lead Profile'].value_counts()"
      ],
      "metadata": {
        "colab": {
          "base_uri": "https://localhost:8080/"
        },
        "id": "rnhRvV6e7LCJ",
        "outputId": "948c695b-efe4-47f1-eb48-8414378d46ad"
      },
      "execution_count": 22,
      "outputs": [
        {
          "output_type": "execute_result",
          "data": {
            "text/plain": [
              "Potential Lead                 1613\n",
              "Other Leads                     487\n",
              "Student of SomeSchool           241\n",
              "Lateral Student                  24\n",
              "Dual Specialization Student      20\n",
              "Name: Lead Profile, dtype: int64"
            ]
          },
          "metadata": {},
          "execution_count": 22
        }
      ]
    },
    {
      "cell_type": "markdown",
      "source": [
        "Lead quality and Lead profile has more than 50% of null values and there is no information based on what these values are assigned.\n"
      ],
      "metadata": {
        "id": "-OOdKsHbr0hd"
      }
    },
    {
      "cell_type": "code",
      "source": [
        "# lead['Lead Quality'].fillna('Might be',inplace=True)"
      ],
      "metadata": {
        "id": "5eLXeA_F7Np4"
      },
      "execution_count": 23,
      "outputs": []
    },
    {
      "cell_type": "code",
      "source": [
        "# lead['Lead Quality'].unique()"
      ],
      "metadata": {
        "id": "iG6omdY99ZMp"
      },
      "execution_count": 24,
      "outputs": []
    },
    {
      "cell_type": "code",
      "source": [
        "# lead['Lead Profile'].fillna('Potential Lead',inplace=True)"
      ],
      "metadata": {
        "id": "gKRaEKxe9dCE"
      },
      "execution_count": 25,
      "outputs": []
    },
    {
      "cell_type": "code",
      "source": [
        "# lead['Lead Profile'].unique()"
      ],
      "metadata": {
        "id": "dweOoXv192UQ"
      },
      "execution_count": 26,
      "outputs": []
    },
    {
      "cell_type": "code",
      "source": [
        "sum_val2=lead.isnull().sum()\n",
        "pd.DataFrame(100*sum_val2/lead.shape[0])"
      ],
      "metadata": {
        "colab": {
          "base_uri": "https://localhost:8080/",
          "height": 1000
        },
        "id": "2rUGYLDK97gX",
        "outputId": "5664aee5-2ec7-48b2-a327-c2a65b4a11d5"
      },
      "execution_count": 27,
      "outputs": [
        {
          "output_type": "execute_result",
          "data": {
            "text/plain": [
              "                                                       0\n",
              "Prospect ID                                     0.000000\n",
              "Lead Number                                     0.000000\n",
              "Lead Origin                                     0.000000\n",
              "Lead Source                                     0.000000\n",
              "Do Not Email                                    0.000000\n",
              "Do Not Call                                     0.000000\n",
              "Converted                                       0.000000\n",
              "TotalVisits                                     1.482684\n",
              "Total Time Spent on Website                     0.000000\n",
              "Page Views Per Visit                            1.482684\n",
              "Last Activity                                   0.000000\n",
              "Country                                        26.634199\n",
              "Specialization                                 36.580087\n",
              "How did you hear about X Education             78.463203\n",
              "What is your current occupation                29.112554\n",
              "What matters most to you in choosing a course  29.318182\n",
              "Search                                          0.000000\n",
              "Magazine                                        0.000000\n",
              "Newspaper Article                               0.000000\n",
              "X Education Forums                              0.000000\n",
              "Newspaper                                       0.000000\n",
              "Digital Advertisement                           0.000000\n",
              "Through Recommendations                         0.000000\n",
              "Receive More Updates About Our Courses          0.000000\n",
              "Tags                                           36.287879\n",
              "Lead Quality                                   51.590909\n",
              "Update me on Supply Chain Content               0.000000\n",
              "Get updates on DM Content                       0.000000\n",
              "Lead Profile                                   74.188312\n",
              "City                                           39.707792\n",
              "Asymmetrique Activity Index                    45.649351\n",
              "Asymmetrique Profile Index                     45.649351\n",
              "Asymmetrique Activity Score                    45.649351\n",
              "Asymmetrique Profile Score                     45.649351\n",
              "I agree to pay the amount through cheque        0.000000\n",
              "A free copy of Mastering The Interview          0.000000\n",
              "Last Notable Activity                           0.000000"
            ],
            "text/html": [
              "\n",
              "  <div id=\"df-7aaf7d0b-88eb-4acb-be44-698d14de699f\">\n",
              "    <div class=\"colab-df-container\">\n",
              "      <div>\n",
              "<style scoped>\n",
              "    .dataframe tbody tr th:only-of-type {\n",
              "        vertical-align: middle;\n",
              "    }\n",
              "\n",
              "    .dataframe tbody tr th {\n",
              "        vertical-align: top;\n",
              "    }\n",
              "\n",
              "    .dataframe thead th {\n",
              "        text-align: right;\n",
              "    }\n",
              "</style>\n",
              "<table border=\"1\" class=\"dataframe\">\n",
              "  <thead>\n",
              "    <tr style=\"text-align: right;\">\n",
              "      <th></th>\n",
              "      <th>0</th>\n",
              "    </tr>\n",
              "  </thead>\n",
              "  <tbody>\n",
              "    <tr>\n",
              "      <th>Prospect ID</th>\n",
              "      <td>0.000000</td>\n",
              "    </tr>\n",
              "    <tr>\n",
              "      <th>Lead Number</th>\n",
              "      <td>0.000000</td>\n",
              "    </tr>\n",
              "    <tr>\n",
              "      <th>Lead Origin</th>\n",
              "      <td>0.000000</td>\n",
              "    </tr>\n",
              "    <tr>\n",
              "      <th>Lead Source</th>\n",
              "      <td>0.000000</td>\n",
              "    </tr>\n",
              "    <tr>\n",
              "      <th>Do Not Email</th>\n",
              "      <td>0.000000</td>\n",
              "    </tr>\n",
              "    <tr>\n",
              "      <th>Do Not Call</th>\n",
              "      <td>0.000000</td>\n",
              "    </tr>\n",
              "    <tr>\n",
              "      <th>Converted</th>\n",
              "      <td>0.000000</td>\n",
              "    </tr>\n",
              "    <tr>\n",
              "      <th>TotalVisits</th>\n",
              "      <td>1.482684</td>\n",
              "    </tr>\n",
              "    <tr>\n",
              "      <th>Total Time Spent on Website</th>\n",
              "      <td>0.000000</td>\n",
              "    </tr>\n",
              "    <tr>\n",
              "      <th>Page Views Per Visit</th>\n",
              "      <td>1.482684</td>\n",
              "    </tr>\n",
              "    <tr>\n",
              "      <th>Last Activity</th>\n",
              "      <td>0.000000</td>\n",
              "    </tr>\n",
              "    <tr>\n",
              "      <th>Country</th>\n",
              "      <td>26.634199</td>\n",
              "    </tr>\n",
              "    <tr>\n",
              "      <th>Specialization</th>\n",
              "      <td>36.580087</td>\n",
              "    </tr>\n",
              "    <tr>\n",
              "      <th>How did you hear about X Education</th>\n",
              "      <td>78.463203</td>\n",
              "    </tr>\n",
              "    <tr>\n",
              "      <th>What is your current occupation</th>\n",
              "      <td>29.112554</td>\n",
              "    </tr>\n",
              "    <tr>\n",
              "      <th>What matters most to you in choosing a course</th>\n",
              "      <td>29.318182</td>\n",
              "    </tr>\n",
              "    <tr>\n",
              "      <th>Search</th>\n",
              "      <td>0.000000</td>\n",
              "    </tr>\n",
              "    <tr>\n",
              "      <th>Magazine</th>\n",
              "      <td>0.000000</td>\n",
              "    </tr>\n",
              "    <tr>\n",
              "      <th>Newspaper Article</th>\n",
              "      <td>0.000000</td>\n",
              "    </tr>\n",
              "    <tr>\n",
              "      <th>X Education Forums</th>\n",
              "      <td>0.000000</td>\n",
              "    </tr>\n",
              "    <tr>\n",
              "      <th>Newspaper</th>\n",
              "      <td>0.000000</td>\n",
              "    </tr>\n",
              "    <tr>\n",
              "      <th>Digital Advertisement</th>\n",
              "      <td>0.000000</td>\n",
              "    </tr>\n",
              "    <tr>\n",
              "      <th>Through Recommendations</th>\n",
              "      <td>0.000000</td>\n",
              "    </tr>\n",
              "    <tr>\n",
              "      <th>Receive More Updates About Our Courses</th>\n",
              "      <td>0.000000</td>\n",
              "    </tr>\n",
              "    <tr>\n",
              "      <th>Tags</th>\n",
              "      <td>36.287879</td>\n",
              "    </tr>\n",
              "    <tr>\n",
              "      <th>Lead Quality</th>\n",
              "      <td>51.590909</td>\n",
              "    </tr>\n",
              "    <tr>\n",
              "      <th>Update me on Supply Chain Content</th>\n",
              "      <td>0.000000</td>\n",
              "    </tr>\n",
              "    <tr>\n",
              "      <th>Get updates on DM Content</th>\n",
              "      <td>0.000000</td>\n",
              "    </tr>\n",
              "    <tr>\n",
              "      <th>Lead Profile</th>\n",
              "      <td>74.188312</td>\n",
              "    </tr>\n",
              "    <tr>\n",
              "      <th>City</th>\n",
              "      <td>39.707792</td>\n",
              "    </tr>\n",
              "    <tr>\n",
              "      <th>Asymmetrique Activity Index</th>\n",
              "      <td>45.649351</td>\n",
              "    </tr>\n",
              "    <tr>\n",
              "      <th>Asymmetrique Profile Index</th>\n",
              "      <td>45.649351</td>\n",
              "    </tr>\n",
              "    <tr>\n",
              "      <th>Asymmetrique Activity Score</th>\n",
              "      <td>45.649351</td>\n",
              "    </tr>\n",
              "    <tr>\n",
              "      <th>Asymmetrique Profile Score</th>\n",
              "      <td>45.649351</td>\n",
              "    </tr>\n",
              "    <tr>\n",
              "      <th>I agree to pay the amount through cheque</th>\n",
              "      <td>0.000000</td>\n",
              "    </tr>\n",
              "    <tr>\n",
              "      <th>A free copy of Mastering The Interview</th>\n",
              "      <td>0.000000</td>\n",
              "    </tr>\n",
              "    <tr>\n",
              "      <th>Last Notable Activity</th>\n",
              "      <td>0.000000</td>\n",
              "    </tr>\n",
              "  </tbody>\n",
              "</table>\n",
              "</div>\n",
              "      <button class=\"colab-df-convert\" onclick=\"convertToInteractive('df-7aaf7d0b-88eb-4acb-be44-698d14de699f')\"\n",
              "              title=\"Convert this dataframe to an interactive table.\"\n",
              "              style=\"display:none;\">\n",
              "        \n",
              "  <svg xmlns=\"http://www.w3.org/2000/svg\" height=\"24px\"viewBox=\"0 0 24 24\"\n",
              "       width=\"24px\">\n",
              "    <path d=\"M0 0h24v24H0V0z\" fill=\"none\"/>\n",
              "    <path d=\"M18.56 5.44l.94 2.06.94-2.06 2.06-.94-2.06-.94-.94-2.06-.94 2.06-2.06.94zm-11 1L8.5 8.5l.94-2.06 2.06-.94-2.06-.94L8.5 2.5l-.94 2.06-2.06.94zm10 10l.94 2.06.94-2.06 2.06-.94-2.06-.94-.94-2.06-.94 2.06-2.06.94z\"/><path d=\"M17.41 7.96l-1.37-1.37c-.4-.4-.92-.59-1.43-.59-.52 0-1.04.2-1.43.59L10.3 9.45l-7.72 7.72c-.78.78-.78 2.05 0 2.83L4 21.41c.39.39.9.59 1.41.59.51 0 1.02-.2 1.41-.59l7.78-7.78 2.81-2.81c.8-.78.8-2.07 0-2.86zM5.41 20L4 18.59l7.72-7.72 1.47 1.35L5.41 20z\"/>\n",
              "  </svg>\n",
              "      </button>\n",
              "      \n",
              "  <style>\n",
              "    .colab-df-container {\n",
              "      display:flex;\n",
              "      flex-wrap:wrap;\n",
              "      gap: 12px;\n",
              "    }\n",
              "\n",
              "    .colab-df-convert {\n",
              "      background-color: #E8F0FE;\n",
              "      border: none;\n",
              "      border-radius: 50%;\n",
              "      cursor: pointer;\n",
              "      display: none;\n",
              "      fill: #1967D2;\n",
              "      height: 32px;\n",
              "      padding: 0 0 0 0;\n",
              "      width: 32px;\n",
              "    }\n",
              "\n",
              "    .colab-df-convert:hover {\n",
              "      background-color: #E2EBFA;\n",
              "      box-shadow: 0px 1px 2px rgba(60, 64, 67, 0.3), 0px 1px 3px 1px rgba(60, 64, 67, 0.15);\n",
              "      fill: #174EA6;\n",
              "    }\n",
              "\n",
              "    [theme=dark] .colab-df-convert {\n",
              "      background-color: #3B4455;\n",
              "      fill: #D2E3FC;\n",
              "    }\n",
              "\n",
              "    [theme=dark] .colab-df-convert:hover {\n",
              "      background-color: #434B5C;\n",
              "      box-shadow: 0px 1px 3px 1px rgba(0, 0, 0, 0.15);\n",
              "      filter: drop-shadow(0px 1px 2px rgba(0, 0, 0, 0.3));\n",
              "      fill: #FFFFFF;\n",
              "    }\n",
              "  </style>\n",
              "\n",
              "      <script>\n",
              "        const buttonEl =\n",
              "          document.querySelector('#df-7aaf7d0b-88eb-4acb-be44-698d14de699f button.colab-df-convert');\n",
              "        buttonEl.style.display =\n",
              "          google.colab.kernel.accessAllowed ? 'block' : 'none';\n",
              "\n",
              "        async function convertToInteractive(key) {\n",
              "          const element = document.querySelector('#df-7aaf7d0b-88eb-4acb-be44-698d14de699f');\n",
              "          const dataTable =\n",
              "            await google.colab.kernel.invokeFunction('convertToInteractive',\n",
              "                                                     [key], {});\n",
              "          if (!dataTable) return;\n",
              "\n",
              "          const docLinkHtml = 'Like what you see? Visit the ' +\n",
              "            '<a target=\"_blank\" href=https://colab.research.google.com/notebooks/data_table.ipynb>data table notebook</a>'\n",
              "            + ' to learn more about interactive tables.';\n",
              "          element.innerHTML = '';\n",
              "          dataTable['output_type'] = 'display_data';\n",
              "          await google.colab.output.renderOutput(dataTable, element);\n",
              "          const docLink = document.createElement('div');\n",
              "          docLink.innerHTML = docLinkHtml;\n",
              "          element.appendChild(docLink);\n",
              "        }\n",
              "      </script>\n",
              "    </div>\n",
              "  </div>\n",
              "  "
            ]
          },
          "metadata": {},
          "execution_count": 27
        }
      ]
    },
    {
      "cell_type": "markdown",
      "source": [
        "### list of columns to be droppped "
      ],
      "metadata": {
        "id": "rKjXYZKS6-It"
      }
    },
    {
      "cell_type": "markdown",
      "source": [
        "Below are columns which can be dropped\n",
        "- Prospect ID\t\n",
        "- Lead Number\n",
        "- Lead Source \n",
        "- How did you hear about X Education\n",
        "- A free copy of Mastering The Interview\n",
        "- Last Notable Activity\n",
        "\n",
        "Prospectid and lead number is a id assigned to each lead which is not useful in analysis\n",
        "\n",
        "Lead score and how did you hear abot X eductaion will be duplicate when we will create dummy variables as columns like search, newspaper, maganize, recommendation etc already exists \n",
        "\n",
        "A free copy of mastering the interview and last notable ativity will be used by leads which are converted\n"
      ],
      "metadata": {
        "id": "tT-WpDoQfjuy"
      }
    },
    {
      "cell_type": "code",
      "source": [
        "list_of_columns_to_drop=['Prospect ID','Lead Number','Lead Source','How did you hear about X Education','A free copy of Mastering The Interview','Last Notable Activity']\n",
        "\n",
        "new_lead=lead.drop(columns=list_of_columns_to_drop,axis=1)\n",
        "new_lead.head()"
      ],
      "metadata": {
        "colab": {
          "base_uri": "https://localhost:8080/",
          "height": 565
        },
        "id": "phE3rYHufgip",
        "outputId": "eee5df62-8862-4e93-dab5-ab8dd7f0a1a7"
      },
      "execution_count": 28,
      "outputs": [
        {
          "output_type": "execute_result",
          "data": {
            "text/plain": [
              "               Lead Origin Do Not Email Do Not Call  Converted  TotalVisits  \\\n",
              "0                      API           No          No          0          0.0   \n",
              "1                      API           No          No          0          5.0   \n",
              "2  Landing Page Submission           No          No          1          2.0   \n",
              "3  Landing Page Submission           No          No          0          1.0   \n",
              "4  Landing Page Submission           No          No          1          2.0   \n",
              "\n",
              "   Total Time Spent on Website  Page Views Per Visit            Last Activity  \\\n",
              "0                            0                   0.0  Page Visited on Website   \n",
              "1                          674                   2.5             Email Opened   \n",
              "2                         1532                   2.0             Email Opened   \n",
              "3                          305                   1.0              Unreachable   \n",
              "4                         1428                   1.0        Converted to Lead   \n",
              "\n",
              "  Country           Specialization What is your current occupation  \\\n",
              "0     NaN                      NaN                      Unemployed   \n",
              "1   India                      NaN                      Unemployed   \n",
              "2   India  Business Administration                         Student   \n",
              "3   India    Media and Advertising                      Unemployed   \n",
              "4   India                      NaN                      Unemployed   \n",
              "\n",
              "  What matters most to you in choosing a course Search Magazine  \\\n",
              "0                       Better Career Prospects     No       No   \n",
              "1                       Better Career Prospects     No       No   \n",
              "2                       Better Career Prospects     No       No   \n",
              "3                       Better Career Prospects     No       No   \n",
              "4                       Better Career Prospects     No       No   \n",
              "\n",
              "  Newspaper Article X Education Forums Newspaper Digital Advertisement  \\\n",
              "0                No                 No        No                    No   \n",
              "1                No                 No        No                    No   \n",
              "2                No                 No        No                    No   \n",
              "3                No                 No        No                    No   \n",
              "4                No                 No        No                    No   \n",
              "\n",
              "  Through Recommendations Receive More Updates About Our Courses  \\\n",
              "0                      No                                     No   \n",
              "1                      No                                     No   \n",
              "2                      No                                     No   \n",
              "3                      No                                     No   \n",
              "4                      No                                     No   \n",
              "\n",
              "                                  Tags      Lead Quality  \\\n",
              "0          Interested in other courses  Low in Relevance   \n",
              "1                              Ringing               NaN   \n",
              "2  Will revert after reading the email          Might be   \n",
              "3                              Ringing          Not Sure   \n",
              "4  Will revert after reading the email          Might be   \n",
              "\n",
              "  Update me on Supply Chain Content Get updates on DM Content    Lead Profile  \\\n",
              "0                                No                        No             NaN   \n",
              "1                                No                        No             NaN   \n",
              "2                                No                        No  Potential Lead   \n",
              "3                                No                        No             NaN   \n",
              "4                                No                        No             NaN   \n",
              "\n",
              "     City Asymmetrique Activity Index Asymmetrique Profile Index  \\\n",
              "0     NaN                   02.Medium                  02.Medium   \n",
              "1     NaN                   02.Medium                  02.Medium   \n",
              "2  Mumbai                   02.Medium                    01.High   \n",
              "3  Mumbai                   02.Medium                    01.High   \n",
              "4  Mumbai                   02.Medium                    01.High   \n",
              "\n",
              "   Asymmetrique Activity Score  Asymmetrique Profile Score  \\\n",
              "0                         15.0                        15.0   \n",
              "1                         15.0                        15.0   \n",
              "2                         14.0                        20.0   \n",
              "3                         13.0                        17.0   \n",
              "4                         15.0                        18.0   \n",
              "\n",
              "  I agree to pay the amount through cheque  \n",
              "0                                       No  \n",
              "1                                       No  \n",
              "2                                       No  \n",
              "3                                       No  \n",
              "4                                       No  "
            ],
            "text/html": [
              "\n",
              "  <div id=\"df-513e8b8d-1a0a-41e7-89a5-2ea7d6d77b29\">\n",
              "    <div class=\"colab-df-container\">\n",
              "      <div>\n",
              "<style scoped>\n",
              "    .dataframe tbody tr th:only-of-type {\n",
              "        vertical-align: middle;\n",
              "    }\n",
              "\n",
              "    .dataframe tbody tr th {\n",
              "        vertical-align: top;\n",
              "    }\n",
              "\n",
              "    .dataframe thead th {\n",
              "        text-align: right;\n",
              "    }\n",
              "</style>\n",
              "<table border=\"1\" class=\"dataframe\">\n",
              "  <thead>\n",
              "    <tr style=\"text-align: right;\">\n",
              "      <th></th>\n",
              "      <th>Lead Origin</th>\n",
              "      <th>Do Not Email</th>\n",
              "      <th>Do Not Call</th>\n",
              "      <th>Converted</th>\n",
              "      <th>TotalVisits</th>\n",
              "      <th>Total Time Spent on Website</th>\n",
              "      <th>Page Views Per Visit</th>\n",
              "      <th>Last Activity</th>\n",
              "      <th>Country</th>\n",
              "      <th>Specialization</th>\n",
              "      <th>What is your current occupation</th>\n",
              "      <th>What matters most to you in choosing a course</th>\n",
              "      <th>Search</th>\n",
              "      <th>Magazine</th>\n",
              "      <th>Newspaper Article</th>\n",
              "      <th>X Education Forums</th>\n",
              "      <th>Newspaper</th>\n",
              "      <th>Digital Advertisement</th>\n",
              "      <th>Through Recommendations</th>\n",
              "      <th>Receive More Updates About Our Courses</th>\n",
              "      <th>Tags</th>\n",
              "      <th>Lead Quality</th>\n",
              "      <th>Update me on Supply Chain Content</th>\n",
              "      <th>Get updates on DM Content</th>\n",
              "      <th>Lead Profile</th>\n",
              "      <th>City</th>\n",
              "      <th>Asymmetrique Activity Index</th>\n",
              "      <th>Asymmetrique Profile Index</th>\n",
              "      <th>Asymmetrique Activity Score</th>\n",
              "      <th>Asymmetrique Profile Score</th>\n",
              "      <th>I agree to pay the amount through cheque</th>\n",
              "    </tr>\n",
              "  </thead>\n",
              "  <tbody>\n",
              "    <tr>\n",
              "      <th>0</th>\n",
              "      <td>API</td>\n",
              "      <td>No</td>\n",
              "      <td>No</td>\n",
              "      <td>0</td>\n",
              "      <td>0.0</td>\n",
              "      <td>0</td>\n",
              "      <td>0.0</td>\n",
              "      <td>Page Visited on Website</td>\n",
              "      <td>NaN</td>\n",
              "      <td>NaN</td>\n",
              "      <td>Unemployed</td>\n",
              "      <td>Better Career Prospects</td>\n",
              "      <td>No</td>\n",
              "      <td>No</td>\n",
              "      <td>No</td>\n",
              "      <td>No</td>\n",
              "      <td>No</td>\n",
              "      <td>No</td>\n",
              "      <td>No</td>\n",
              "      <td>No</td>\n",
              "      <td>Interested in other courses</td>\n",
              "      <td>Low in Relevance</td>\n",
              "      <td>No</td>\n",
              "      <td>No</td>\n",
              "      <td>NaN</td>\n",
              "      <td>NaN</td>\n",
              "      <td>02.Medium</td>\n",
              "      <td>02.Medium</td>\n",
              "      <td>15.0</td>\n",
              "      <td>15.0</td>\n",
              "      <td>No</td>\n",
              "    </tr>\n",
              "    <tr>\n",
              "      <th>1</th>\n",
              "      <td>API</td>\n",
              "      <td>No</td>\n",
              "      <td>No</td>\n",
              "      <td>0</td>\n",
              "      <td>5.0</td>\n",
              "      <td>674</td>\n",
              "      <td>2.5</td>\n",
              "      <td>Email Opened</td>\n",
              "      <td>India</td>\n",
              "      <td>NaN</td>\n",
              "      <td>Unemployed</td>\n",
              "      <td>Better Career Prospects</td>\n",
              "      <td>No</td>\n",
              "      <td>No</td>\n",
              "      <td>No</td>\n",
              "      <td>No</td>\n",
              "      <td>No</td>\n",
              "      <td>No</td>\n",
              "      <td>No</td>\n",
              "      <td>No</td>\n",
              "      <td>Ringing</td>\n",
              "      <td>NaN</td>\n",
              "      <td>No</td>\n",
              "      <td>No</td>\n",
              "      <td>NaN</td>\n",
              "      <td>NaN</td>\n",
              "      <td>02.Medium</td>\n",
              "      <td>02.Medium</td>\n",
              "      <td>15.0</td>\n",
              "      <td>15.0</td>\n",
              "      <td>No</td>\n",
              "    </tr>\n",
              "    <tr>\n",
              "      <th>2</th>\n",
              "      <td>Landing Page Submission</td>\n",
              "      <td>No</td>\n",
              "      <td>No</td>\n",
              "      <td>1</td>\n",
              "      <td>2.0</td>\n",
              "      <td>1532</td>\n",
              "      <td>2.0</td>\n",
              "      <td>Email Opened</td>\n",
              "      <td>India</td>\n",
              "      <td>Business Administration</td>\n",
              "      <td>Student</td>\n",
              "      <td>Better Career Prospects</td>\n",
              "      <td>No</td>\n",
              "      <td>No</td>\n",
              "      <td>No</td>\n",
              "      <td>No</td>\n",
              "      <td>No</td>\n",
              "      <td>No</td>\n",
              "      <td>No</td>\n",
              "      <td>No</td>\n",
              "      <td>Will revert after reading the email</td>\n",
              "      <td>Might be</td>\n",
              "      <td>No</td>\n",
              "      <td>No</td>\n",
              "      <td>Potential Lead</td>\n",
              "      <td>Mumbai</td>\n",
              "      <td>02.Medium</td>\n",
              "      <td>01.High</td>\n",
              "      <td>14.0</td>\n",
              "      <td>20.0</td>\n",
              "      <td>No</td>\n",
              "    </tr>\n",
              "    <tr>\n",
              "      <th>3</th>\n",
              "      <td>Landing Page Submission</td>\n",
              "      <td>No</td>\n",
              "      <td>No</td>\n",
              "      <td>0</td>\n",
              "      <td>1.0</td>\n",
              "      <td>305</td>\n",
              "      <td>1.0</td>\n",
              "      <td>Unreachable</td>\n",
              "      <td>India</td>\n",
              "      <td>Media and Advertising</td>\n",
              "      <td>Unemployed</td>\n",
              "      <td>Better Career Prospects</td>\n",
              "      <td>No</td>\n",
              "      <td>No</td>\n",
              "      <td>No</td>\n",
              "      <td>No</td>\n",
              "      <td>No</td>\n",
              "      <td>No</td>\n",
              "      <td>No</td>\n",
              "      <td>No</td>\n",
              "      <td>Ringing</td>\n",
              "      <td>Not Sure</td>\n",
              "      <td>No</td>\n",
              "      <td>No</td>\n",
              "      <td>NaN</td>\n",
              "      <td>Mumbai</td>\n",
              "      <td>02.Medium</td>\n",
              "      <td>01.High</td>\n",
              "      <td>13.0</td>\n",
              "      <td>17.0</td>\n",
              "      <td>No</td>\n",
              "    </tr>\n",
              "    <tr>\n",
              "      <th>4</th>\n",
              "      <td>Landing Page Submission</td>\n",
              "      <td>No</td>\n",
              "      <td>No</td>\n",
              "      <td>1</td>\n",
              "      <td>2.0</td>\n",
              "      <td>1428</td>\n",
              "      <td>1.0</td>\n",
              "      <td>Converted to Lead</td>\n",
              "      <td>India</td>\n",
              "      <td>NaN</td>\n",
              "      <td>Unemployed</td>\n",
              "      <td>Better Career Prospects</td>\n",
              "      <td>No</td>\n",
              "      <td>No</td>\n",
              "      <td>No</td>\n",
              "      <td>No</td>\n",
              "      <td>No</td>\n",
              "      <td>No</td>\n",
              "      <td>No</td>\n",
              "      <td>No</td>\n",
              "      <td>Will revert after reading the email</td>\n",
              "      <td>Might be</td>\n",
              "      <td>No</td>\n",
              "      <td>No</td>\n",
              "      <td>NaN</td>\n",
              "      <td>Mumbai</td>\n",
              "      <td>02.Medium</td>\n",
              "      <td>01.High</td>\n",
              "      <td>15.0</td>\n",
              "      <td>18.0</td>\n",
              "      <td>No</td>\n",
              "    </tr>\n",
              "  </tbody>\n",
              "</table>\n",
              "</div>\n",
              "      <button class=\"colab-df-convert\" onclick=\"convertToInteractive('df-513e8b8d-1a0a-41e7-89a5-2ea7d6d77b29')\"\n",
              "              title=\"Convert this dataframe to an interactive table.\"\n",
              "              style=\"display:none;\">\n",
              "        \n",
              "  <svg xmlns=\"http://www.w3.org/2000/svg\" height=\"24px\"viewBox=\"0 0 24 24\"\n",
              "       width=\"24px\">\n",
              "    <path d=\"M0 0h24v24H0V0z\" fill=\"none\"/>\n",
              "    <path d=\"M18.56 5.44l.94 2.06.94-2.06 2.06-.94-2.06-.94-.94-2.06-.94 2.06-2.06.94zm-11 1L8.5 8.5l.94-2.06 2.06-.94-2.06-.94L8.5 2.5l-.94 2.06-2.06.94zm10 10l.94 2.06.94-2.06 2.06-.94-2.06-.94-.94-2.06-.94 2.06-2.06.94z\"/><path d=\"M17.41 7.96l-1.37-1.37c-.4-.4-.92-.59-1.43-.59-.52 0-1.04.2-1.43.59L10.3 9.45l-7.72 7.72c-.78.78-.78 2.05 0 2.83L4 21.41c.39.39.9.59 1.41.59.51 0 1.02-.2 1.41-.59l7.78-7.78 2.81-2.81c.8-.78.8-2.07 0-2.86zM5.41 20L4 18.59l7.72-7.72 1.47 1.35L5.41 20z\"/>\n",
              "  </svg>\n",
              "      </button>\n",
              "      \n",
              "  <style>\n",
              "    .colab-df-container {\n",
              "      display:flex;\n",
              "      flex-wrap:wrap;\n",
              "      gap: 12px;\n",
              "    }\n",
              "\n",
              "    .colab-df-convert {\n",
              "      background-color: #E8F0FE;\n",
              "      border: none;\n",
              "      border-radius: 50%;\n",
              "      cursor: pointer;\n",
              "      display: none;\n",
              "      fill: #1967D2;\n",
              "      height: 32px;\n",
              "      padding: 0 0 0 0;\n",
              "      width: 32px;\n",
              "    }\n",
              "\n",
              "    .colab-df-convert:hover {\n",
              "      background-color: #E2EBFA;\n",
              "      box-shadow: 0px 1px 2px rgba(60, 64, 67, 0.3), 0px 1px 3px 1px rgba(60, 64, 67, 0.15);\n",
              "      fill: #174EA6;\n",
              "    }\n",
              "\n",
              "    [theme=dark] .colab-df-convert {\n",
              "      background-color: #3B4455;\n",
              "      fill: #D2E3FC;\n",
              "    }\n",
              "\n",
              "    [theme=dark] .colab-df-convert:hover {\n",
              "      background-color: #434B5C;\n",
              "      box-shadow: 0px 1px 3px 1px rgba(0, 0, 0, 0.15);\n",
              "      filter: drop-shadow(0px 1px 2px rgba(0, 0, 0, 0.3));\n",
              "      fill: #FFFFFF;\n",
              "    }\n",
              "  </style>\n",
              "\n",
              "      <script>\n",
              "        const buttonEl =\n",
              "          document.querySelector('#df-513e8b8d-1a0a-41e7-89a5-2ea7d6d77b29 button.colab-df-convert');\n",
              "        buttonEl.style.display =\n",
              "          google.colab.kernel.accessAllowed ? 'block' : 'none';\n",
              "\n",
              "        async function convertToInteractive(key) {\n",
              "          const element = document.querySelector('#df-513e8b8d-1a0a-41e7-89a5-2ea7d6d77b29');\n",
              "          const dataTable =\n",
              "            await google.colab.kernel.invokeFunction('convertToInteractive',\n",
              "                                                     [key], {});\n",
              "          if (!dataTable) return;\n",
              "\n",
              "          const docLinkHtml = 'Like what you see? Visit the ' +\n",
              "            '<a target=\"_blank\" href=https://colab.research.google.com/notebooks/data_table.ipynb>data table notebook</a>'\n",
              "            + ' to learn more about interactive tables.';\n",
              "          element.innerHTML = '';\n",
              "          dataTable['output_type'] = 'display_data';\n",
              "          await google.colab.output.renderOutput(dataTable, element);\n",
              "          const docLink = document.createElement('div');\n",
              "          docLink.innerHTML = docLinkHtml;\n",
              "          element.appendChild(docLink);\n",
              "        }\n",
              "      </script>\n",
              "    </div>\n",
              "  </div>\n",
              "  "
            ]
          },
          "metadata": {},
          "execution_count": 28
        }
      ]
    },
    {
      "cell_type": "code",
      "source": [
        "new_lead.shape"
      ],
      "metadata": {
        "colab": {
          "base_uri": "https://localhost:8080/"
        },
        "id": "z3aOESVMjb2s",
        "outputId": "b650c376-c21d-4597-9f35-d86005cce0b7"
      },
      "execution_count": 29,
      "outputs": [
        {
          "output_type": "execute_result",
          "data": {
            "text/plain": [
              "(9240, 31)"
            ]
          },
          "metadata": {},
          "execution_count": 29
        }
      ]
    },
    {
      "cell_type": "code",
      "source": [
        "column_list=new_lead.columns"
      ],
      "metadata": {
        "id": "bMtMDCaDA-jN"
      },
      "execution_count": 30,
      "outputs": []
    },
    {
      "cell_type": "code",
      "source": [
        "for c in column_list:\n",
        "  print(c, new_lead[c].unique())"
      ],
      "metadata": {
        "colab": {
          "base_uri": "https://localhost:8080/"
        },
        "id": "CdgkRb4aCwd-",
        "outputId": "b3f4c577-d50e-4427-dc02-ac50b623155d"
      },
      "execution_count": 31,
      "outputs": [
        {
          "output_type": "stream",
          "name": "stdout",
          "text": [
            "Lead Origin ['API' 'Landing Page Submission' 'Lead Add Form' 'Lead Import'\n",
            " 'Quick Add Form']\n",
            "Do Not Email ['No' 'Yes']\n",
            "Do Not Call ['No' 'Yes']\n",
            "Converted [0 1]\n",
            "TotalVisits [  0.   5.   2.   1.   4.   8.  11.   6.   3.   7.  13.  17.  nan   9.\n",
            "  12.  10.  16.  14.  21.  15.  22.  19.  18.  20.  43.  30.  23.  55.\n",
            " 141.  25.  27.  29.  24.  28.  26.  74.  41.  54. 115. 251.  32.  42.]\n",
            "Total Time Spent on Website [   0  674 1532 ...  603  483  927]\n",
            "Page Views Per Visit [ 0.    2.5   2.    1.    4.    8.    2.67 11.    5.    6.    3.    1.33\n",
            "  1.5   3.5   7.    2.33 13.    8.5   5.5   1.67   nan  4.5   3.33 16.\n",
            " 12.    1.71  1.8   6.5   4.33 14.    3.4  10.    1.25  1.75  2.63 15.\n",
            "  2.25  3.67  1.43  9.    2.6   4.75  1.27  3.25  5.33  2.57  2.17  2.75\n",
            "  2.8   2.2   2.86  3.91  1.4   5.67  3.2   1.38  2.09  2.4  55.    5.25\n",
            "  6.71  3.57  2.22  1.83  3.6   1.2   1.57  1.56  5.4   4.25  1.31  1.6\n",
            "  2.9   1.23  1.78  3.83  7.5   1.14  2.71  1.45  2.38  1.86  2.29  1.21\n",
            " 12.33  3.43  2.56  6.33  1.64  8.21  4.4   3.17  8.33  1.48  1.22 24.\n",
            "  3.75  6.67  1.54  2.13  2.14  2.45  3.29  4.17  1.63  3.38  1.17 14.5\n",
            "  3.8   1.19  3.82  2.83  1.93 11.5   2.08]\n",
            "Last Activity ['Page Visited on Website' 'Email Opened' 'Unreachable'\n",
            " 'Converted to Lead' 'Olark Chat Conversation' 'Email Bounced'\n",
            " 'Email Link Clicked' 'Form Submitted on Website' 'Unsubscribed'\n",
            " 'Had a Phone Conversation' 'View in browser link Clicked' 'No activity'\n",
            " 'Approached upfront' 'SMS Sent' 'Visited Booth in Tradeshow'\n",
            " 'Resubscribed to emails' 'Email Received' 'Email Marked Spam']\n",
            "Country [nan 'India' 'Russia' 'Kuwait' 'Oman' 'United Arab Emirates'\n",
            " 'United States' 'Australia' 'United Kingdom' 'Bahrain' 'Ghana'\n",
            " 'Singapore' 'Qatar' 'Saudi Arabia' 'Belgium' 'France' 'Sri Lanka' 'China'\n",
            " 'Canada' 'Netherlands' 'Sweden' 'Nigeria' 'Hong Kong' 'Germany'\n",
            " 'Asia/Pacific Region' 'Uganda' 'Kenya' 'Italy' 'South Africa' 'Tanzania'\n",
            " 'unknown' 'Malaysia' 'Liberia' 'Switzerland' 'Denmark' 'Philippines'\n",
            " 'Bangladesh' 'Vietnam' 'Indonesia']\n",
            "Specialization [nan 'Business Administration' 'Media and Advertising'\n",
            " 'Supply Chain Management' 'IT Projects Management' 'Finance Management'\n",
            " 'Travel and Tourism' 'Human Resource Management' 'Marketing Management'\n",
            " 'Banking, Investment And Insurance' 'International Business' 'E-COMMERCE'\n",
            " 'Operations Management' 'Retail Management' 'Services Excellence'\n",
            " 'Hospitality Management' 'Rural and Agribusiness' 'Healthcare Management'\n",
            " 'E-Business']\n",
            "What is your current occupation ['Unemployed' 'Student' nan 'Working Professional' 'Businessman' 'Other'\n",
            " 'Housewife']\n",
            "What matters most to you in choosing a course ['Better Career Prospects' nan 'Flexibility & Convenience' 'Other']\n",
            "Search ['No' 'Yes']\n",
            "Magazine ['No']\n",
            "Newspaper Article ['No' 'Yes']\n",
            "X Education Forums ['No' 'Yes']\n",
            "Newspaper ['No' 'Yes']\n",
            "Digital Advertisement ['No' 'Yes']\n",
            "Through Recommendations ['No' 'Yes']\n",
            "Receive More Updates About Our Courses ['No']\n",
            "Tags ['Interested in other courses' 'Ringing'\n",
            " 'Will revert after reading the email' nan 'Lost to EINS'\n",
            " 'In confusion whether part time or DLP' 'Busy' 'switched off'\n",
            " 'in touch with EINS' 'Already a student' 'Diploma holder (Not Eligible)'\n",
            " 'Graduation in progress' 'Closed by Horizzon' 'number not provided'\n",
            " 'opp hangup' 'Not doing further education' 'invalid number'\n",
            " 'wrong number given' 'Interested  in full time MBA' 'Still Thinking'\n",
            " 'Lost to Others' 'Shall take in the next coming month' 'Lateral student'\n",
            " 'Interested in Next batch' 'Recognition issue (DEC approval)'\n",
            " 'Want to take admission but has financial problems'\n",
            " 'University not recognized']\n",
            "Lead Quality ['Low in Relevance' nan 'Might be' 'Not Sure' 'Worst' 'High in Relevance']\n",
            "Update me on Supply Chain Content ['No']\n",
            "Get updates on DM Content ['No']\n",
            "Lead Profile [nan 'Potential Lead' 'Other Leads' 'Lateral Student'\n",
            " 'Dual Specialization Student' 'Student of SomeSchool']\n",
            "City [nan 'Mumbai' 'Thane & Outskirts' 'Other Metro Cities' 'Other Cities'\n",
            " 'Other Cities of Maharashtra' 'Tier II Cities']\n",
            "Asymmetrique Activity Index ['02.Medium' '01.High' '03.Low' nan]\n",
            "Asymmetrique Profile Index ['02.Medium' '01.High' '03.Low' nan]\n",
            "Asymmetrique Activity Score [15. 14. 13. 17. 16. 11. 12. 10.  9.  8. 18. nan  7.]\n",
            "Asymmetrique Profile Score [15. 20. 17. 18. 14. 16. 13. 19. 12. nan 11.]\n",
            "I agree to pay the amount through cheque ['No']\n"
          ]
        }
      ]
    },
    {
      "cell_type": "markdown",
      "source": [
        "Below columns has only one value i.e 'No'so dropping it:\n",
        "- I agree to pay the amount through cheque\n",
        "- Get updates on DM Content\n",
        "- Update me on Supply Chain Content\n",
        "- Receive More Updates About Our Courses \n",
        "- Magazine"
      ],
      "metadata": {
        "id": "kn9cj0nq29qi"
      }
    },
    {
      "cell_type": "code",
      "source": [
        "list_of_columns_with_no=['I agree to pay the amount through cheque','Get updates on DM Content','Update me on Supply Chain Content','Receive More Updates About Our Courses','Magazine']\n",
        "new_lead.drop(columns=list_of_columns_with_no,axis=1,inplace=True)\n",
        "new_lead.head()\n"
      ],
      "metadata": {
        "id": "JiJ1XBVsDXoB",
        "colab": {
          "base_uri": "https://localhost:8080/",
          "height": 565
        },
        "outputId": "75afec4d-c071-4cc2-f615-a8c549fbdd17"
      },
      "execution_count": 32,
      "outputs": [
        {
          "output_type": "execute_result",
          "data": {
            "text/plain": [
              "               Lead Origin Do Not Email Do Not Call  Converted  TotalVisits  \\\n",
              "0                      API           No          No          0          0.0   \n",
              "1                      API           No          No          0          5.0   \n",
              "2  Landing Page Submission           No          No          1          2.0   \n",
              "3  Landing Page Submission           No          No          0          1.0   \n",
              "4  Landing Page Submission           No          No          1          2.0   \n",
              "\n",
              "   Total Time Spent on Website  Page Views Per Visit            Last Activity  \\\n",
              "0                            0                   0.0  Page Visited on Website   \n",
              "1                          674                   2.5             Email Opened   \n",
              "2                         1532                   2.0             Email Opened   \n",
              "3                          305                   1.0              Unreachable   \n",
              "4                         1428                   1.0        Converted to Lead   \n",
              "\n",
              "  Country           Specialization What is your current occupation  \\\n",
              "0     NaN                      NaN                      Unemployed   \n",
              "1   India                      NaN                      Unemployed   \n",
              "2   India  Business Administration                         Student   \n",
              "3   India    Media and Advertising                      Unemployed   \n",
              "4   India                      NaN                      Unemployed   \n",
              "\n",
              "  What matters most to you in choosing a course Search Newspaper Article  \\\n",
              "0                       Better Career Prospects     No                No   \n",
              "1                       Better Career Prospects     No                No   \n",
              "2                       Better Career Prospects     No                No   \n",
              "3                       Better Career Prospects     No                No   \n",
              "4                       Better Career Prospects     No                No   \n",
              "\n",
              "  X Education Forums Newspaper Digital Advertisement Through Recommendations  \\\n",
              "0                 No        No                    No                      No   \n",
              "1                 No        No                    No                      No   \n",
              "2                 No        No                    No                      No   \n",
              "3                 No        No                    No                      No   \n",
              "4                 No        No                    No                      No   \n",
              "\n",
              "                                  Tags      Lead Quality    Lead Profile  \\\n",
              "0          Interested in other courses  Low in Relevance             NaN   \n",
              "1                              Ringing               NaN             NaN   \n",
              "2  Will revert after reading the email          Might be  Potential Lead   \n",
              "3                              Ringing          Not Sure             NaN   \n",
              "4  Will revert after reading the email          Might be             NaN   \n",
              "\n",
              "     City Asymmetrique Activity Index Asymmetrique Profile Index  \\\n",
              "0     NaN                   02.Medium                  02.Medium   \n",
              "1     NaN                   02.Medium                  02.Medium   \n",
              "2  Mumbai                   02.Medium                    01.High   \n",
              "3  Mumbai                   02.Medium                    01.High   \n",
              "4  Mumbai                   02.Medium                    01.High   \n",
              "\n",
              "   Asymmetrique Activity Score  Asymmetrique Profile Score  \n",
              "0                         15.0                        15.0  \n",
              "1                         15.0                        15.0  \n",
              "2                         14.0                        20.0  \n",
              "3                         13.0                        17.0  \n",
              "4                         15.0                        18.0  "
            ],
            "text/html": [
              "\n",
              "  <div id=\"df-42c50cd7-a722-42ff-962e-66a9e3a2d6ad\">\n",
              "    <div class=\"colab-df-container\">\n",
              "      <div>\n",
              "<style scoped>\n",
              "    .dataframe tbody tr th:only-of-type {\n",
              "        vertical-align: middle;\n",
              "    }\n",
              "\n",
              "    .dataframe tbody tr th {\n",
              "        vertical-align: top;\n",
              "    }\n",
              "\n",
              "    .dataframe thead th {\n",
              "        text-align: right;\n",
              "    }\n",
              "</style>\n",
              "<table border=\"1\" class=\"dataframe\">\n",
              "  <thead>\n",
              "    <tr style=\"text-align: right;\">\n",
              "      <th></th>\n",
              "      <th>Lead Origin</th>\n",
              "      <th>Do Not Email</th>\n",
              "      <th>Do Not Call</th>\n",
              "      <th>Converted</th>\n",
              "      <th>TotalVisits</th>\n",
              "      <th>Total Time Spent on Website</th>\n",
              "      <th>Page Views Per Visit</th>\n",
              "      <th>Last Activity</th>\n",
              "      <th>Country</th>\n",
              "      <th>Specialization</th>\n",
              "      <th>What is your current occupation</th>\n",
              "      <th>What matters most to you in choosing a course</th>\n",
              "      <th>Search</th>\n",
              "      <th>Newspaper Article</th>\n",
              "      <th>X Education Forums</th>\n",
              "      <th>Newspaper</th>\n",
              "      <th>Digital Advertisement</th>\n",
              "      <th>Through Recommendations</th>\n",
              "      <th>Tags</th>\n",
              "      <th>Lead Quality</th>\n",
              "      <th>Lead Profile</th>\n",
              "      <th>City</th>\n",
              "      <th>Asymmetrique Activity Index</th>\n",
              "      <th>Asymmetrique Profile Index</th>\n",
              "      <th>Asymmetrique Activity Score</th>\n",
              "      <th>Asymmetrique Profile Score</th>\n",
              "    </tr>\n",
              "  </thead>\n",
              "  <tbody>\n",
              "    <tr>\n",
              "      <th>0</th>\n",
              "      <td>API</td>\n",
              "      <td>No</td>\n",
              "      <td>No</td>\n",
              "      <td>0</td>\n",
              "      <td>0.0</td>\n",
              "      <td>0</td>\n",
              "      <td>0.0</td>\n",
              "      <td>Page Visited on Website</td>\n",
              "      <td>NaN</td>\n",
              "      <td>NaN</td>\n",
              "      <td>Unemployed</td>\n",
              "      <td>Better Career Prospects</td>\n",
              "      <td>No</td>\n",
              "      <td>No</td>\n",
              "      <td>No</td>\n",
              "      <td>No</td>\n",
              "      <td>No</td>\n",
              "      <td>No</td>\n",
              "      <td>Interested in other courses</td>\n",
              "      <td>Low in Relevance</td>\n",
              "      <td>NaN</td>\n",
              "      <td>NaN</td>\n",
              "      <td>02.Medium</td>\n",
              "      <td>02.Medium</td>\n",
              "      <td>15.0</td>\n",
              "      <td>15.0</td>\n",
              "    </tr>\n",
              "    <tr>\n",
              "      <th>1</th>\n",
              "      <td>API</td>\n",
              "      <td>No</td>\n",
              "      <td>No</td>\n",
              "      <td>0</td>\n",
              "      <td>5.0</td>\n",
              "      <td>674</td>\n",
              "      <td>2.5</td>\n",
              "      <td>Email Opened</td>\n",
              "      <td>India</td>\n",
              "      <td>NaN</td>\n",
              "      <td>Unemployed</td>\n",
              "      <td>Better Career Prospects</td>\n",
              "      <td>No</td>\n",
              "      <td>No</td>\n",
              "      <td>No</td>\n",
              "      <td>No</td>\n",
              "      <td>No</td>\n",
              "      <td>No</td>\n",
              "      <td>Ringing</td>\n",
              "      <td>NaN</td>\n",
              "      <td>NaN</td>\n",
              "      <td>NaN</td>\n",
              "      <td>02.Medium</td>\n",
              "      <td>02.Medium</td>\n",
              "      <td>15.0</td>\n",
              "      <td>15.0</td>\n",
              "    </tr>\n",
              "    <tr>\n",
              "      <th>2</th>\n",
              "      <td>Landing Page Submission</td>\n",
              "      <td>No</td>\n",
              "      <td>No</td>\n",
              "      <td>1</td>\n",
              "      <td>2.0</td>\n",
              "      <td>1532</td>\n",
              "      <td>2.0</td>\n",
              "      <td>Email Opened</td>\n",
              "      <td>India</td>\n",
              "      <td>Business Administration</td>\n",
              "      <td>Student</td>\n",
              "      <td>Better Career Prospects</td>\n",
              "      <td>No</td>\n",
              "      <td>No</td>\n",
              "      <td>No</td>\n",
              "      <td>No</td>\n",
              "      <td>No</td>\n",
              "      <td>No</td>\n",
              "      <td>Will revert after reading the email</td>\n",
              "      <td>Might be</td>\n",
              "      <td>Potential Lead</td>\n",
              "      <td>Mumbai</td>\n",
              "      <td>02.Medium</td>\n",
              "      <td>01.High</td>\n",
              "      <td>14.0</td>\n",
              "      <td>20.0</td>\n",
              "    </tr>\n",
              "    <tr>\n",
              "      <th>3</th>\n",
              "      <td>Landing Page Submission</td>\n",
              "      <td>No</td>\n",
              "      <td>No</td>\n",
              "      <td>0</td>\n",
              "      <td>1.0</td>\n",
              "      <td>305</td>\n",
              "      <td>1.0</td>\n",
              "      <td>Unreachable</td>\n",
              "      <td>India</td>\n",
              "      <td>Media and Advertising</td>\n",
              "      <td>Unemployed</td>\n",
              "      <td>Better Career Prospects</td>\n",
              "      <td>No</td>\n",
              "      <td>No</td>\n",
              "      <td>No</td>\n",
              "      <td>No</td>\n",
              "      <td>No</td>\n",
              "      <td>No</td>\n",
              "      <td>Ringing</td>\n",
              "      <td>Not Sure</td>\n",
              "      <td>NaN</td>\n",
              "      <td>Mumbai</td>\n",
              "      <td>02.Medium</td>\n",
              "      <td>01.High</td>\n",
              "      <td>13.0</td>\n",
              "      <td>17.0</td>\n",
              "    </tr>\n",
              "    <tr>\n",
              "      <th>4</th>\n",
              "      <td>Landing Page Submission</td>\n",
              "      <td>No</td>\n",
              "      <td>No</td>\n",
              "      <td>1</td>\n",
              "      <td>2.0</td>\n",
              "      <td>1428</td>\n",
              "      <td>1.0</td>\n",
              "      <td>Converted to Lead</td>\n",
              "      <td>India</td>\n",
              "      <td>NaN</td>\n",
              "      <td>Unemployed</td>\n",
              "      <td>Better Career Prospects</td>\n",
              "      <td>No</td>\n",
              "      <td>No</td>\n",
              "      <td>No</td>\n",
              "      <td>No</td>\n",
              "      <td>No</td>\n",
              "      <td>No</td>\n",
              "      <td>Will revert after reading the email</td>\n",
              "      <td>Might be</td>\n",
              "      <td>NaN</td>\n",
              "      <td>Mumbai</td>\n",
              "      <td>02.Medium</td>\n",
              "      <td>01.High</td>\n",
              "      <td>15.0</td>\n",
              "      <td>18.0</td>\n",
              "    </tr>\n",
              "  </tbody>\n",
              "</table>\n",
              "</div>\n",
              "      <button class=\"colab-df-convert\" onclick=\"convertToInteractive('df-42c50cd7-a722-42ff-962e-66a9e3a2d6ad')\"\n",
              "              title=\"Convert this dataframe to an interactive table.\"\n",
              "              style=\"display:none;\">\n",
              "        \n",
              "  <svg xmlns=\"http://www.w3.org/2000/svg\" height=\"24px\"viewBox=\"0 0 24 24\"\n",
              "       width=\"24px\">\n",
              "    <path d=\"M0 0h24v24H0V0z\" fill=\"none\"/>\n",
              "    <path d=\"M18.56 5.44l.94 2.06.94-2.06 2.06-.94-2.06-.94-.94-2.06-.94 2.06-2.06.94zm-11 1L8.5 8.5l.94-2.06 2.06-.94-2.06-.94L8.5 2.5l-.94 2.06-2.06.94zm10 10l.94 2.06.94-2.06 2.06-.94-2.06-.94-.94-2.06-.94 2.06-2.06.94z\"/><path d=\"M17.41 7.96l-1.37-1.37c-.4-.4-.92-.59-1.43-.59-.52 0-1.04.2-1.43.59L10.3 9.45l-7.72 7.72c-.78.78-.78 2.05 0 2.83L4 21.41c.39.39.9.59 1.41.59.51 0 1.02-.2 1.41-.59l7.78-7.78 2.81-2.81c.8-.78.8-2.07 0-2.86zM5.41 20L4 18.59l7.72-7.72 1.47 1.35L5.41 20z\"/>\n",
              "  </svg>\n",
              "      </button>\n",
              "      \n",
              "  <style>\n",
              "    .colab-df-container {\n",
              "      display:flex;\n",
              "      flex-wrap:wrap;\n",
              "      gap: 12px;\n",
              "    }\n",
              "\n",
              "    .colab-df-convert {\n",
              "      background-color: #E8F0FE;\n",
              "      border: none;\n",
              "      border-radius: 50%;\n",
              "      cursor: pointer;\n",
              "      display: none;\n",
              "      fill: #1967D2;\n",
              "      height: 32px;\n",
              "      padding: 0 0 0 0;\n",
              "      width: 32px;\n",
              "    }\n",
              "\n",
              "    .colab-df-convert:hover {\n",
              "      background-color: #E2EBFA;\n",
              "      box-shadow: 0px 1px 2px rgba(60, 64, 67, 0.3), 0px 1px 3px 1px rgba(60, 64, 67, 0.15);\n",
              "      fill: #174EA6;\n",
              "    }\n",
              "\n",
              "    [theme=dark] .colab-df-convert {\n",
              "      background-color: #3B4455;\n",
              "      fill: #D2E3FC;\n",
              "    }\n",
              "\n",
              "    [theme=dark] .colab-df-convert:hover {\n",
              "      background-color: #434B5C;\n",
              "      box-shadow: 0px 1px 3px 1px rgba(0, 0, 0, 0.15);\n",
              "      filter: drop-shadow(0px 1px 2px rgba(0, 0, 0, 0.3));\n",
              "      fill: #FFFFFF;\n",
              "    }\n",
              "  </style>\n",
              "\n",
              "      <script>\n",
              "        const buttonEl =\n",
              "          document.querySelector('#df-42c50cd7-a722-42ff-962e-66a9e3a2d6ad button.colab-df-convert');\n",
              "        buttonEl.style.display =\n",
              "          google.colab.kernel.accessAllowed ? 'block' : 'none';\n",
              "\n",
              "        async function convertToInteractive(key) {\n",
              "          const element = document.querySelector('#df-42c50cd7-a722-42ff-962e-66a9e3a2d6ad');\n",
              "          const dataTable =\n",
              "            await google.colab.kernel.invokeFunction('convertToInteractive',\n",
              "                                                     [key], {});\n",
              "          if (!dataTable) return;\n",
              "\n",
              "          const docLinkHtml = 'Like what you see? Visit the ' +\n",
              "            '<a target=\"_blank\" href=https://colab.research.google.com/notebooks/data_table.ipynb>data table notebook</a>'\n",
              "            + ' to learn more about interactive tables.';\n",
              "          element.innerHTML = '';\n",
              "          dataTable['output_type'] = 'display_data';\n",
              "          await google.colab.output.renderOutput(dataTable, element);\n",
              "          const docLink = document.createElement('div');\n",
              "          docLink.innerHTML = docLinkHtml;\n",
              "          element.appendChild(docLink);\n",
              "        }\n",
              "      </script>\n",
              "    </div>\n",
              "  </div>\n",
              "  "
            ]
          },
          "metadata": {},
          "execution_count": 32
        }
      ]
    },
    {
      "cell_type": "code",
      "source": [
        "new_lead.shape"
      ],
      "metadata": {
        "colab": {
          "base_uri": "https://localhost:8080/"
        },
        "id": "lmCxMX0v5kXc",
        "outputId": "bed1bbb1-5d7a-4dd6-d099-e77f3e32dbe4"
      },
      "execution_count": 33,
      "outputs": [
        {
          "output_type": "execute_result",
          "data": {
            "text/plain": [
              "(9240, 26)"
            ]
          },
          "metadata": {},
          "execution_count": 33
        }
      ]
    },
    {
      "cell_type": "code",
      "source": [
        "sum_val3=new_lead.isna().sum()\n",
        "pd.DataFrame(100*sum_val3/new_lead.shape[0])"
      ],
      "metadata": {
        "colab": {
          "base_uri": "https://localhost:8080/",
          "height": 865
        },
        "id": "prQERKPRjkjt",
        "outputId": "1edaa217-f052-47ab-e623-87340cfd704c"
      },
      "execution_count": 34,
      "outputs": [
        {
          "output_type": "execute_result",
          "data": {
            "text/plain": [
              "                                                       0\n",
              "Lead Origin                                     0.000000\n",
              "Do Not Email                                    0.000000\n",
              "Do Not Call                                     0.000000\n",
              "Converted                                       0.000000\n",
              "TotalVisits                                     1.482684\n",
              "Total Time Spent on Website                     0.000000\n",
              "Page Views Per Visit                            1.482684\n",
              "Last Activity                                   0.000000\n",
              "Country                                        26.634199\n",
              "Specialization                                 36.580087\n",
              "What is your current occupation                29.112554\n",
              "What matters most to you in choosing a course  29.318182\n",
              "Search                                          0.000000\n",
              "Newspaper Article                               0.000000\n",
              "X Education Forums                              0.000000\n",
              "Newspaper                                       0.000000\n",
              "Digital Advertisement                           0.000000\n",
              "Through Recommendations                         0.000000\n",
              "Tags                                           36.287879\n",
              "Lead Quality                                   51.590909\n",
              "Lead Profile                                   74.188312\n",
              "City                                           39.707792\n",
              "Asymmetrique Activity Index                    45.649351\n",
              "Asymmetrique Profile Index                     45.649351\n",
              "Asymmetrique Activity Score                    45.649351\n",
              "Asymmetrique Profile Score                     45.649351"
            ],
            "text/html": [
              "\n",
              "  <div id=\"df-30de2ffc-f1fa-4821-abdd-b4beda9c9e4e\">\n",
              "    <div class=\"colab-df-container\">\n",
              "      <div>\n",
              "<style scoped>\n",
              "    .dataframe tbody tr th:only-of-type {\n",
              "        vertical-align: middle;\n",
              "    }\n",
              "\n",
              "    .dataframe tbody tr th {\n",
              "        vertical-align: top;\n",
              "    }\n",
              "\n",
              "    .dataframe thead th {\n",
              "        text-align: right;\n",
              "    }\n",
              "</style>\n",
              "<table border=\"1\" class=\"dataframe\">\n",
              "  <thead>\n",
              "    <tr style=\"text-align: right;\">\n",
              "      <th></th>\n",
              "      <th>0</th>\n",
              "    </tr>\n",
              "  </thead>\n",
              "  <tbody>\n",
              "    <tr>\n",
              "      <th>Lead Origin</th>\n",
              "      <td>0.000000</td>\n",
              "    </tr>\n",
              "    <tr>\n",
              "      <th>Do Not Email</th>\n",
              "      <td>0.000000</td>\n",
              "    </tr>\n",
              "    <tr>\n",
              "      <th>Do Not Call</th>\n",
              "      <td>0.000000</td>\n",
              "    </tr>\n",
              "    <tr>\n",
              "      <th>Converted</th>\n",
              "      <td>0.000000</td>\n",
              "    </tr>\n",
              "    <tr>\n",
              "      <th>TotalVisits</th>\n",
              "      <td>1.482684</td>\n",
              "    </tr>\n",
              "    <tr>\n",
              "      <th>Total Time Spent on Website</th>\n",
              "      <td>0.000000</td>\n",
              "    </tr>\n",
              "    <tr>\n",
              "      <th>Page Views Per Visit</th>\n",
              "      <td>1.482684</td>\n",
              "    </tr>\n",
              "    <tr>\n",
              "      <th>Last Activity</th>\n",
              "      <td>0.000000</td>\n",
              "    </tr>\n",
              "    <tr>\n",
              "      <th>Country</th>\n",
              "      <td>26.634199</td>\n",
              "    </tr>\n",
              "    <tr>\n",
              "      <th>Specialization</th>\n",
              "      <td>36.580087</td>\n",
              "    </tr>\n",
              "    <tr>\n",
              "      <th>What is your current occupation</th>\n",
              "      <td>29.112554</td>\n",
              "    </tr>\n",
              "    <tr>\n",
              "      <th>What matters most to you in choosing a course</th>\n",
              "      <td>29.318182</td>\n",
              "    </tr>\n",
              "    <tr>\n",
              "      <th>Search</th>\n",
              "      <td>0.000000</td>\n",
              "    </tr>\n",
              "    <tr>\n",
              "      <th>Newspaper Article</th>\n",
              "      <td>0.000000</td>\n",
              "    </tr>\n",
              "    <tr>\n",
              "      <th>X Education Forums</th>\n",
              "      <td>0.000000</td>\n",
              "    </tr>\n",
              "    <tr>\n",
              "      <th>Newspaper</th>\n",
              "      <td>0.000000</td>\n",
              "    </tr>\n",
              "    <tr>\n",
              "      <th>Digital Advertisement</th>\n",
              "      <td>0.000000</td>\n",
              "    </tr>\n",
              "    <tr>\n",
              "      <th>Through Recommendations</th>\n",
              "      <td>0.000000</td>\n",
              "    </tr>\n",
              "    <tr>\n",
              "      <th>Tags</th>\n",
              "      <td>36.287879</td>\n",
              "    </tr>\n",
              "    <tr>\n",
              "      <th>Lead Quality</th>\n",
              "      <td>51.590909</td>\n",
              "    </tr>\n",
              "    <tr>\n",
              "      <th>Lead Profile</th>\n",
              "      <td>74.188312</td>\n",
              "    </tr>\n",
              "    <tr>\n",
              "      <th>City</th>\n",
              "      <td>39.707792</td>\n",
              "    </tr>\n",
              "    <tr>\n",
              "      <th>Asymmetrique Activity Index</th>\n",
              "      <td>45.649351</td>\n",
              "    </tr>\n",
              "    <tr>\n",
              "      <th>Asymmetrique Profile Index</th>\n",
              "      <td>45.649351</td>\n",
              "    </tr>\n",
              "    <tr>\n",
              "      <th>Asymmetrique Activity Score</th>\n",
              "      <td>45.649351</td>\n",
              "    </tr>\n",
              "    <tr>\n",
              "      <th>Asymmetrique Profile Score</th>\n",
              "      <td>45.649351</td>\n",
              "    </tr>\n",
              "  </tbody>\n",
              "</table>\n",
              "</div>\n",
              "      <button class=\"colab-df-convert\" onclick=\"convertToInteractive('df-30de2ffc-f1fa-4821-abdd-b4beda9c9e4e')\"\n",
              "              title=\"Convert this dataframe to an interactive table.\"\n",
              "              style=\"display:none;\">\n",
              "        \n",
              "  <svg xmlns=\"http://www.w3.org/2000/svg\" height=\"24px\"viewBox=\"0 0 24 24\"\n",
              "       width=\"24px\">\n",
              "    <path d=\"M0 0h24v24H0V0z\" fill=\"none\"/>\n",
              "    <path d=\"M18.56 5.44l.94 2.06.94-2.06 2.06-.94-2.06-.94-.94-2.06-.94 2.06-2.06.94zm-11 1L8.5 8.5l.94-2.06 2.06-.94-2.06-.94L8.5 2.5l-.94 2.06-2.06.94zm10 10l.94 2.06.94-2.06 2.06-.94-2.06-.94-.94-2.06-.94 2.06-2.06.94z\"/><path d=\"M17.41 7.96l-1.37-1.37c-.4-.4-.92-.59-1.43-.59-.52 0-1.04.2-1.43.59L10.3 9.45l-7.72 7.72c-.78.78-.78 2.05 0 2.83L4 21.41c.39.39.9.59 1.41.59.51 0 1.02-.2 1.41-.59l7.78-7.78 2.81-2.81c.8-.78.8-2.07 0-2.86zM5.41 20L4 18.59l7.72-7.72 1.47 1.35L5.41 20z\"/>\n",
              "  </svg>\n",
              "      </button>\n",
              "      \n",
              "  <style>\n",
              "    .colab-df-container {\n",
              "      display:flex;\n",
              "      flex-wrap:wrap;\n",
              "      gap: 12px;\n",
              "    }\n",
              "\n",
              "    .colab-df-convert {\n",
              "      background-color: #E8F0FE;\n",
              "      border: none;\n",
              "      border-radius: 50%;\n",
              "      cursor: pointer;\n",
              "      display: none;\n",
              "      fill: #1967D2;\n",
              "      height: 32px;\n",
              "      padding: 0 0 0 0;\n",
              "      width: 32px;\n",
              "    }\n",
              "\n",
              "    .colab-df-convert:hover {\n",
              "      background-color: #E2EBFA;\n",
              "      box-shadow: 0px 1px 2px rgba(60, 64, 67, 0.3), 0px 1px 3px 1px rgba(60, 64, 67, 0.15);\n",
              "      fill: #174EA6;\n",
              "    }\n",
              "\n",
              "    [theme=dark] .colab-df-convert {\n",
              "      background-color: #3B4455;\n",
              "      fill: #D2E3FC;\n",
              "    }\n",
              "\n",
              "    [theme=dark] .colab-df-convert:hover {\n",
              "      background-color: #434B5C;\n",
              "      box-shadow: 0px 1px 3px 1px rgba(0, 0, 0, 0.15);\n",
              "      filter: drop-shadow(0px 1px 2px rgba(0, 0, 0, 0.3));\n",
              "      fill: #FFFFFF;\n",
              "    }\n",
              "  </style>\n",
              "\n",
              "      <script>\n",
              "        const buttonEl =\n",
              "          document.querySelector('#df-30de2ffc-f1fa-4821-abdd-b4beda9c9e4e button.colab-df-convert');\n",
              "        buttonEl.style.display =\n",
              "          google.colab.kernel.accessAllowed ? 'block' : 'none';\n",
              "\n",
              "        async function convertToInteractive(key) {\n",
              "          const element = document.querySelector('#df-30de2ffc-f1fa-4821-abdd-b4beda9c9e4e');\n",
              "          const dataTable =\n",
              "            await google.colab.kernel.invokeFunction('convertToInteractive',\n",
              "                                                     [key], {});\n",
              "          if (!dataTable) return;\n",
              "\n",
              "          const docLinkHtml = 'Like what you see? Visit the ' +\n",
              "            '<a target=\"_blank\" href=https://colab.research.google.com/notebooks/data_table.ipynb>data table notebook</a>'\n",
              "            + ' to learn more about interactive tables.';\n",
              "          element.innerHTML = '';\n",
              "          dataTable['output_type'] = 'display_data';\n",
              "          await google.colab.output.renderOutput(dataTable, element);\n",
              "          const docLink = document.createElement('div');\n",
              "          docLink.innerHTML = docLinkHtml;\n",
              "          element.appendChild(docLink);\n",
              "        }\n",
              "      </script>\n",
              "    </div>\n",
              "  </div>\n",
              "  "
            ]
          },
          "metadata": {},
          "execution_count": 34
        }
      ]
    },
    {
      "cell_type": "markdown",
      "source": [
        "## Data Visualisation\n"
      ],
      "metadata": {
        "id": "AzbVmCbBA31u"
      }
    },
    {
      "cell_type": "markdown",
      "source": [
        "### checking for outliers"
      ],
      "metadata": {
        "id": "VWbv7uJUBLYL"
      }
    },
    {
      "cell_type": "code",
      "source": [
        "list_of_numerical_variable=['TotalVisits', 'Total Time Spent on Website', 'Page Views Per Visit',\t 'Asymmetrique Activity Score', 'Asymmetrique Profile Score']\n",
        "\n",
        "for ele in list_of_numerical_variable:\n",
        "  sns.boxplot(data=new_lead,y=ele)\n",
        "  plt.show()"
      ],
      "metadata": {
        "colab": {
          "base_uri": "https://localhost:8080/",
          "height": 1000
        },
        "id": "PTi-8IwrAWJj",
        "outputId": "0fa70fe1-5f8a-416d-9ce3-77c40689c633"
      },
      "execution_count": 35,
      "outputs": [
        {
          "output_type": "display_data",
          "data": {
            "text/plain": [
              "<Figure size 432x288 with 1 Axes>"
            ],
            "image/png": "[encoded data removed]"
          },
          "metadata": {
            "needs_background": "light"
          }
        },
        {
          "output_type": "display_data",
          "data": {
            "text/plain": [
              "<Figure size 432x288 with 1 Axes>"
            ],
            "image/png": "[encoded data removed]"
          },
          "metadata": {
            "needs_background": "light"
          }
        },
        {
          "output_type": "display_data",
          "data": {
            "text/plain": [
              "<Figure size 432x288 with 1 Axes>"
            ],
            "image/png": "[encoded data removed]"
          },
          "metadata": {
            "needs_background": "light"
          }
        },
        {
          "output_type": "display_data",
          "data": {
            "text/plain": [
              "<Figure size 432x288 with 1 Axes>"
            ],
            "image/png": "[encoded data removed]"
          },
          "metadata": {
            "needs_background": "light"
          }
        },
        {
          "output_type": "display_data",
          "data": {
            "text/plain": [
              "<Figure size 432x288 with 1 Axes>"
            ],
            "image/png": "[encoded data removed]"
          },
          "metadata": {
            "needs_background": "light"
          }
        }
      ]
    },
    {
      "cell_type": "markdown",
      "source": [
        "### Removing outliers "
      ],
      "metadata": {
        "id": "Ou1vE2-JCiHi"
      }
    },
    {
      "cell_type": "markdown",
      "source": [
        "Replacing outliers with upper whisker and lower whisker values"
      ],
      "metadata": {
        "id": "NcN9w3PtjMSj"
      }
    },
    {
      "cell_type": "code",
      "source": [
        "def remove_outliers(colname):\n",
        "  \n",
        "  quantile_75 = new_lead[colname].quantile(0.75) # 75% quantile value of boxplot i.e. Q3\n",
        "  quantile_25 = new_lead[colname].quantile(0.25) # 25%  quantile value of boxplot i.e. Q1\n",
        "  upperlimit =  quantile_75 + (quantile_75 - quantile_25) * 1.5 # calculating upper limit = Q3+1.5(Q1+Q3)\n",
        "  lowerlimit =  quantile_25 - (quantile_75 - quantile_25) * 1.5 # calculating upper limit = Q1-1.5(Q1+Q3)\n",
        "\n",
        "  condition = new_lead[colname] < upperlimit\n",
        "  condition1 = new_lead[colname] > lowerlimit\n",
        "  new_lead[colname].where(condition,upperlimit,inplace=True)\n",
        "  new_lead[colname].where(condition1,lowerlimit,inplace=True)"
      ],
      "metadata": {
        "id": "rp7ZFYzxCqF0"
      },
      "execution_count": 36,
      "outputs": []
    },
    {
      "cell_type": "code",
      "source": [
        "for ele in list_of_numerical_variable:\n",
        "  remove_outliers(ele)"
      ],
      "metadata": {
        "id": "nZSAMe3w_6GL"
      },
      "execution_count": 37,
      "outputs": []
    },
    {
      "cell_type": "code",
      "source": [
        "for ele in list_of_numerical_variable:\n",
        "  sns.boxplot(data=new_lead,y=ele)\n",
        "  plt.show()"
      ],
      "metadata": {
        "colab": {
          "base_uri": "https://localhost:8080/",
          "height": 1000
        },
        "id": "u1-BA2rRA5cc",
        "outputId": "289deb11-38c0-4543-fe1d-1284d77d845d"
      },
      "execution_count": 38,
      "outputs": [
        {
          "output_type": "display_data",
          "data": {
            "text/plain": [
              "<Figure size 432x288 with 1 Axes>"
            ],
            "image/png": "[encoded data removed]"
          },
          "metadata": {
            "needs_background": "light"
          }
        },
        {
          "output_type": "display_data",
          "data": {
            "text/plain": [
              "<Figure size 432x288 with 1 Axes>"
            ],
            "image/png": "[encoded data removed]"
          },
          "metadata": {
            "needs_background": "light"
          }
        },
        {
          "output_type": "display_data",
          "data": {
            "text/plain": [
              "<Figure size 432x288 with 1 Axes>"
            ],
            "image/png": "[encoded data removed]"
          },
          "metadata": {
            "needs_background": "light"
          }
        },
        {
          "output_type": "display_data",
          "data": {
            "text/plain": [
              "<Figure size 432x288 with 1 Axes>"
            ],
            "image/png": "[encoded data removed]"
          },
          "metadata": {
            "needs_background": "light"
          }
        },
        {
          "output_type": "display_data",
          "data": {
            "text/plain": [
              "<Figure size 432x288 with 1 Axes>"
            ],
            "image/png": "[encoded data removed]"
          },
          "metadata": {
            "needs_background": "light"
          }
        }
      ]
    },
    {
      "cell_type": "code",
      "source": [
        "\n",
        "new_lead.columns"
      ],
      "metadata": {
        "colab": {
          "base_uri": "https://localhost:8080/"
        },
        "id": "cF8Wm-mg8a_C",
        "outputId": "e298e8ce-3def-4454-9816-c77deeec9a9e"
      },
      "execution_count": 39,
      "outputs": [
        {
          "output_type": "execute_result",
          "data": {
            "text/plain": [
              "Index(['Lead Origin', 'Do Not Email', 'Do Not Call', 'Converted',\n",
              "       'TotalVisits', 'Total Time Spent on Website', 'Page Views Per Visit',\n",
              "       'Last Activity', 'Country', 'Specialization',\n",
              "       'What is your current occupation',\n",
              "       'What matters most to you in choosing a course', 'Search',\n",
              "       'Newspaper Article', 'X Education Forums', 'Newspaper',\n",
              "       'Digital Advertisement', 'Through Recommendations', 'Tags',\n",
              "       'Lead Quality', 'Lead Profile', 'City', 'Asymmetrique Activity Index',\n",
              "       'Asymmetrique Profile Index', 'Asymmetrique Activity Score',\n",
              "       'Asymmetrique Profile Score'],\n",
              "      dtype='object')"
            ]
          },
          "metadata": {},
          "execution_count": 39
        }
      ]
    },
    {
      "cell_type": "markdown",
      "source": [
        "### Converted v/s categorical values"
      ],
      "metadata": {
        "id": "R6m6r12mRgcN"
      }
    },
    {
      "cell_type": "code",
      "source": [
        "for ele in list_of_numerical_variable:\n",
        "  sns.boxplot(data=new_lead,y=ele,x='Converted')\n",
        "  plt.show()"
      ],
      "metadata": {
        "colab": {
          "base_uri": "https://localhost:8080/",
          "height": 1000
        },
        "id": "DCE2CsY4P-4G",
        "outputId": "2ea1844a-374c-454f-dc3a-fb75672e4e23"
      },
      "execution_count": 40,
      "outputs": [
        {
          "output_type": "display_data",
          "data": {
            "text/plain": [
              "<Figure size 432x288 with 1 Axes>"
            ],
            "image/png": "[encoded data removed]"
          },
          "metadata": {
            "needs_background": "light"
          }
        },
        {
          "output_type": "display_data",
          "data": {
            "text/plain": [
              "<Figure size 432x288 with 1 Axes>"
            ],
            "image/png": "[encoded data removed]"
          },
          "metadata": {
            "needs_background": "light"
          }
        },
        {
          "output_type": "display_data",
          "data": {
            "text/plain": [
              "<Figure size 432x288 with 1 Axes>"
            ],
            "image/png": "[encoded data removed]"
          },
          "metadata": {
            "needs_background": "light"
          }
        },
        {
          "output_type": "display_data",
          "data": {
            "text/plain": [
              "<Figure size 432x288 with 1 Axes>"
            ],
            "image/png": "[encoded data removed]"
          },
          "metadata": {
            "needs_background": "light"
          }
        },
        {
          "output_type": "display_data",
          "data": {
            "text/plain": [
              "<Figure size 432x288 with 1 Axes>"
            ],
            "image/png": "[encoded data removed]"
          },
          "metadata": {
            "needs_background": "light"
          }
        }
      ]
    },
    {
      "cell_type": "markdown",
      "source": [
        "Total Visits, Total Time Spent on Website, Page Views Per Visit and Asymmetrique Activity Score is high for converted leads.\n"
      ],
      "metadata": {
        "id": "y8FejVUbdIyf"
      }
    },
    {
      "cell_type": "code",
      "source": [
        "def converted_barplot(col1):\n",
        "  col2 = 'Converted'\n",
        "  res = new_lead.groupby([col1,col2])[col2].count().unstack().plot.bar()\n",
        "  plt.ylabel('Count')\n",
        "  \n",
        "  plt.show()\n"
      ],
      "metadata": {
        "id": "ZdtpBQr9RQBR"
      },
      "execution_count": 41,
      "outputs": []
    },
    {
      "cell_type": "code",
      "source": [
        "list_of_columns=['Lead Origin', 'Do Not Email', 'Do Not Call',\n",
        "       'TotalVisits','Last Activity', 'Country', 'Specialization',\n",
        "       'What is your current occupation',\n",
        "       'What matters most to you in choosing a course', 'Search',\n",
        "       'Newspaper Article', 'X Education Forums', 'Newspaper',\n",
        "       'Digital Advertisement', 'Through Recommendations', 'Tags',\n",
        "       'Lead Quality', 'Lead Profile', 'City', 'Asymmetrique Activity Index',\n",
        "       'Asymmetrique Profile Index', 'Asymmetrique Activity Score',\n",
        "       'Asymmetrique Profile Score']\n"
      ],
      "metadata": {
        "id": "e9QDVt-hpT6j"
      },
      "execution_count": 42,
      "outputs": []
    },
    {
      "cell_type": "code",
      "source": [
        "for ele in list_of_columns:\n",
        "  converted_barplot(ele)"
      ],
      "metadata": {
        "colab": {
          "base_uri": "https://localhost:8080/",
          "height": 1000
        },
        "id": "x9YyphpzpeR6",
        "outputId": "5dca4c34-573c-4507-a70e-72bc759947a4"
      },
      "execution_count": 43,
      "outputs": [
        {
          "output_type": "display_data",
          "data": {
            "text/plain": [
              "<Figure size 432x288 with 1 Axes>"
            ],
            "image/png": "[encoded data removed]"
          },
          "metadata": {
            "needs_background": "light"
          }
        },
        {
          "output_type": "display_data",
          "data": {
            "text/plain": [
              "<Figure size 432x288 with 1 Axes>"
            ],
            "image/png": "[encoded data removed]"
          },
          "metadata": {
            "needs_background": "light"
          }
        },
        {
          "output_type": "display_data",
          "data": {
            "text/plain": [
              "<Figure size 432x288 with 1 Axes>"
            ],
            "image/png": "[encoded data removed]"
          },
          "metadata": {
            "needs_background": "light"
          }
        },
        {
          "output_type": "display_data",
          "data": {
            "text/plain": [
              "<Figure size 432x288 with 1 Axes>"
            ],
            "image/png": "[encoded data removed]"
          },
          "metadata": {
            "needs_background": "light"
          }
        },
        {
          "output_type": "display_data",
          "data": {
            "text/plain": [
              "<Figure size 432x288 with 1 Axes>"
            ],
            "image/png": "[encoded data removed]"
          },
          "metadata": {
            "needs_background": "light"
          }
        },
        {
          "output_type": "display_data",
          "data": {
            "text/plain": [
              "<Figure size 432x288 with 1 Axes>"
            ],
            "image/png": "[encoded data removed]"
          },
          "metadata": {
            "needs_background": "light"
          }
        },
        {
          "output_type": "display_data",
          "data": {
            "text/plain": [
              "<Figure size 432x288 with 1 Axes>"
            ],
            "image/png": "[encoded data removed]"
          },
          "metadata": {
            "needs_background": "light"
          }
        },
        {
          "output_type": "display_data",
          "data": {
            "text/plain": [
              "<Figure size 432x288 with 1 Axes>"
            ],
            "image/png": "[encoded data removed]"
          },
          "metadata": {
            "needs_background": "light"
          }
        },
        {
          "output_type": "display_data",
          "data": {
            "text/plain": [
              "<Figure size 432x288 with 1 Axes>"
            ],
            "image/png": "[encoded data removed]"
          },
          "metadata": {
            "needs_background": "light"
          }
        },
        {
          "output_type": "display_data",
          "data": {
            "text/plain": [
              "<Figure size 432x288 with 1 Axes>"
            ],
            "image/png": "[encoded data removed]"
          },
          "metadata": {
            "needs_background": "light"
          }
        },
        {
          "output_type": "display_data",
          "data": {
            "text/plain": [
              "<Figure size 432x288 with 1 Axes>"
            ],
            "image/png": "[encoded data removed]"
          },
          "metadata": {
            "needs_background": "light"
          }
        },
        {
          "output_type": "display_data",
          "data": {
            "text/plain": [
              "<Figure size 432x288 with 1 Axes>"
            ],
            "image/png": "[encoded data removed]"
          },
          "metadata": {
            "needs_background": "light"
          }
        },
        {
          "output_type": "display_data",
          "data": {
            "text/plain": [
              "<Figure size 432x288 with 1 Axes>"
            ],
            "image/png": "[encoded data removed]"
          },
          "metadata": {
            "needs_background": "light"
          }
        },
        {
          "output_type": "display_data",
          "data": {
            "text/plain": [
              "<Figure size 432x288 with 1 Axes>"
            ],
            "image/png": "[encoded data removed]"
          },
          "metadata": {
            "needs_background": "light"
          }
        },
        {
          "output_type": "display_data",
          "data": {
            "text/plain": [
              "<Figure size 432x288 with 1 Axes>"
            ],
            "image/png": "[encoded data removed]"
          },
          "metadata": {
            "needs_background": "light"
          }
        },
        {
          "output_type": "display_data",
          "data": {
            "text/plain": [
              "<Figure size 432x288 with 1 Axes>"
            ],
            "image/png": "[encoded data removed]"
          },
          "metadata": {
            "needs_background": "light"
          }
        },
        {
          "output_type": "display_data",
          "data": {
            "text/plain": [
              "<Figure size 432x288 with 1 Axes>"
            ],
            "image/png": "[encoded data removed]"
          },
          "metadata": {
            "needs_background": "light"
          }
        },
        {
          "output_type": "display_data",
          "data": {
            "text/plain": [
              "<Figure size 432x288 with 1 Axes>"
            ],
            "image/png": "[encoded data removed]"
          },
          "metadata": {
            "needs_background": "light"
          }
        },
        {
          "output_type": "display_data",
          "data": {
            "text/plain": [
              "<Figure size 432x288 with 1 Axes>"
            ],
            "image/png": "[encoded data removed]"
          },
          "metadata": {
            "needs_background": "light"
          }
        },
        {
          "output_type": "display_data",
          "data": {
            "text/plain": [
              "<Figure size 432x288 with 1 Axes>"
            ],
            "image/png": "[encoded data removed]"
          },
          "metadata": {
            "needs_background": "light"
          }
        },
        {
          "output_type": "display_data",
          "data": {
            "text/plain": [
              "<Figure size 432x288 with 1 Axes>"
            ],
            "image/png": "[encoded data removed]"
          },
          "metadata": {
            "needs_background": "light"
          }
        },
        {
          "output_type": "display_data",
          "data": {
            "text/plain": [
              "<Figure size 432x288 with 1 Axes>"
            ],
            "image/png": "[encoded data removed]"
          },
          "metadata": {
            "needs_background": "light"
          }
        },
        {
          "output_type": "display_data",
          "data": {
            "text/plain": [
              "<Figure size 432x288 with 1 Axes>"
            ],
            "image/png": "[encoded data removed]"
          },
          "metadata": {
            "needs_background": "light"
          }
        }
      ]
    },
    {
      "cell_type": "markdown",
      "source": [
        "Search, Newspaper, Newspaper Article, X Education Forums, Digital Advertisement, Through Recommendations and Do Not Call has very less count of yes which is no helpful in analysis hence we can drop these columns."
      ],
      "metadata": {
        "id": "MqsknhHty7OW"
      }
    },
    {
      "cell_type": "code",
      "source": [
        "new_lead_columns_to_drop=['Search', 'Newspaper', 'Newspaper Article', 'X Education Forums', 'Digital Advertisement', 'Through Recommendations', 'Do Not Call']"
      ],
      "metadata": {
        "id": "k0APnPQtsuQm"
      },
      "execution_count": 44,
      "outputs": []
    },
    {
      "cell_type": "code",
      "source": [
        "new_lead.drop(columns=new_lead_columns_to_drop,inplace=True)"
      ],
      "metadata": {
        "id": "64WrLSQ90DRW"
      },
      "execution_count": 45,
      "outputs": []
    },
    {
      "cell_type": "code",
      "source": [
        "new_lead.shape"
      ],
      "metadata": {
        "colab": {
          "base_uri": "https://localhost:8080/"
        },
        "id": "9qgPU4634qTH",
        "outputId": "858e9adf-f916-4c94-e7b6-5c9e4ae3c570"
      },
      "execution_count": 46,
      "outputs": [
        {
          "output_type": "execute_result",
          "data": {
            "text/plain": [
              "(9240, 19)"
            ]
          },
          "metadata": {},
          "execution_count": 46
        }
      ]
    },
    {
      "cell_type": "code",
      "source": [
        "sum_val4=new_lead.isnull().sum()\n",
        "pd.DataFrame(100*sum_val4/new_lead.shape[0])"
      ],
      "metadata": {
        "colab": {
          "base_uri": "https://localhost:8080/",
          "height": 645
        },
        "id": "vSY8uBlr40LF",
        "outputId": "ae6d303b-5665-4489-a67c-09824f77e21f"
      },
      "execution_count": 47,
      "outputs": [
        {
          "output_type": "execute_result",
          "data": {
            "text/plain": [
              "                                                       0\n",
              "Lead Origin                                     0.000000\n",
              "Do Not Email                                    0.000000\n",
              "Converted                                       0.000000\n",
              "TotalVisits                                     0.000000\n",
              "Total Time Spent on Website                     0.000000\n",
              "Page Views Per Visit                            0.000000\n",
              "Last Activity                                   0.000000\n",
              "Country                                        26.634199\n",
              "Specialization                                 36.580087\n",
              "What is your current occupation                29.112554\n",
              "What matters most to you in choosing a course  29.318182\n",
              "Tags                                           36.287879\n",
              "Lead Quality                                   51.590909\n",
              "Lead Profile                                   74.188312\n",
              "City                                           39.707792\n",
              "Asymmetrique Activity Index                    45.649351\n",
              "Asymmetrique Profile Index                     45.649351\n",
              "Asymmetrique Activity Score                     0.000000\n",
              "Asymmetrique Profile Score                      0.000000"
            ],
            "text/html": [
              "\n",
              "  <div id=\"df-b5a8ac16-5ffd-4749-9cf9-f33f977a2621\">\n",
              "    <div class=\"colab-df-container\">\n",
              "      <div>\n",
              "<style scoped>\n",
              "    .dataframe tbody tr th:only-of-type {\n",
              "        vertical-align: middle;\n",
              "    }\n",
              "\n",
              "    .dataframe tbody tr th {\n",
              "        vertical-align: top;\n",
              "    }\n",
              "\n",
              "    .dataframe thead th {\n",
              "        text-align: right;\n",
              "    }\n",
              "</style>\n",
              "<table border=\"1\" class=\"dataframe\">\n",
              "  <thead>\n",
              "    <tr style=\"text-align: right;\">\n",
              "      <th></th>\n",
              "      <th>0</th>\n",
              "    </tr>\n",
              "  </thead>\n",
              "  <tbody>\n",
              "    <tr>\n",
              "      <th>Lead Origin</th>\n",
              "      <td>0.000000</td>\n",
              "    </tr>\n",
              "    <tr>\n",
              "      <th>Do Not Email</th>\n",
              "      <td>0.000000</td>\n",
              "    </tr>\n",
              "    <tr>\n",
              "      <th>Converted</th>\n",
              "      <td>0.000000</td>\n",
              "    </tr>\n",
              "    <tr>\n",
              "      <th>TotalVisits</th>\n",
              "      <td>0.000000</td>\n",
              "    </tr>\n",
              "    <tr>\n",
              "      <th>Total Time Spent on Website</th>\n",
              "      <td>0.000000</td>\n",
              "    </tr>\n",
              "    <tr>\n",
              "      <th>Page Views Per Visit</th>\n",
              "      <td>0.000000</td>\n",
              "    </tr>\n",
              "    <tr>\n",
              "      <th>Last Activity</th>\n",
              "      <td>0.000000</td>\n",
              "    </tr>\n",
              "    <tr>\n",
              "      <th>Country</th>\n",
              "      <td>26.634199</td>\n",
              "    </tr>\n",
              "    <tr>\n",
              "      <th>Specialization</th>\n",
              "      <td>36.580087</td>\n",
              "    </tr>\n",
              "    <tr>\n",
              "      <th>What is your current occupation</th>\n",
              "      <td>29.112554</td>\n",
              "    </tr>\n",
              "    <tr>\n",
              "      <th>What matters most to you in choosing a course</th>\n",
              "      <td>29.318182</td>\n",
              "    </tr>\n",
              "    <tr>\n",
              "      <th>Tags</th>\n",
              "      <td>36.287879</td>\n",
              "    </tr>\n",
              "    <tr>\n",
              "      <th>Lead Quality</th>\n",
              "      <td>51.590909</td>\n",
              "    </tr>\n",
              "    <tr>\n",
              "      <th>Lead Profile</th>\n",
              "      <td>74.188312</td>\n",
              "    </tr>\n",
              "    <tr>\n",
              "      <th>City</th>\n",
              "      <td>39.707792</td>\n",
              "    </tr>\n",
              "    <tr>\n",
              "      <th>Asymmetrique Activity Index</th>\n",
              "      <td>45.649351</td>\n",
              "    </tr>\n",
              "    <tr>\n",
              "      <th>Asymmetrique Profile Index</th>\n",
              "      <td>45.649351</td>\n",
              "    </tr>\n",
              "    <tr>\n",
              "      <th>Asymmetrique Activity Score</th>\n",
              "      <td>0.000000</td>\n",
              "    </tr>\n",
              "    <tr>\n",
              "      <th>Asymmetrique Profile Score</th>\n",
              "      <td>0.000000</td>\n",
              "    </tr>\n",
              "  </tbody>\n",
              "</table>\n",
              "</div>\n",
              "      <button class=\"colab-df-convert\" onclick=\"convertToInteractive('df-b5a8ac16-5ffd-4749-9cf9-f33f977a2621')\"\n",
              "              title=\"Convert this dataframe to an interactive table.\"\n",
              "              style=\"display:none;\">\n",
              "        \n",
              "  <svg xmlns=\"http://www.w3.org/2000/svg\" height=\"24px\"viewBox=\"0 0 24 24\"\n",
              "       width=\"24px\">\n",
              "    <path d=\"M0 0h24v24H0V0z\" fill=\"none\"/>\n",
              "    <path d=\"M18.56 5.44l.94 2.06.94-2.06 2.06-.94-2.06-.94-.94-2.06-.94 2.06-2.06.94zm-11 1L8.5 8.5l.94-2.06 2.06-.94-2.06-.94L8.5 2.5l-.94 2.06-2.06.94zm10 10l.94 2.06.94-2.06 2.06-.94-2.06-.94-.94-2.06-.94 2.06-2.06.94z\"/><path d=\"M17.41 7.96l-1.37-1.37c-.4-.4-.92-.59-1.43-.59-.52 0-1.04.2-1.43.59L10.3 9.45l-7.72 7.72c-.78.78-.78 2.05 0 2.83L4 21.41c.39.39.9.59 1.41.59.51 0 1.02-.2 1.41-.59l7.78-7.78 2.81-2.81c.8-.78.8-2.07 0-2.86zM5.41 20L4 18.59l7.72-7.72 1.47 1.35L5.41 20z\"/>\n",
              "  </svg>\n",
              "      </button>\n",
              "      \n",
              "  <style>\n",
              "    .colab-df-container {\n",
              "      display:flex;\n",
              "      flex-wrap:wrap;\n",
              "      gap: 12px;\n",
              "    }\n",
              "\n",
              "    .colab-df-convert {\n",
              "      background-color: #E8F0FE;\n",
              "      border: none;\n",
              "      border-radius: 50%;\n",
              "      cursor: pointer;\n",
              "      display: none;\n",
              "      fill: #1967D2;\n",
              "      height: 32px;\n",
              "      padding: 0 0 0 0;\n",
              "      width: 32px;\n",
              "    }\n",
              "\n",
              "    .colab-df-convert:hover {\n",
              "      background-color: #E2EBFA;\n",
              "      box-shadow: 0px 1px 2px rgba(60, 64, 67, 0.3), 0px 1px 3px 1px rgba(60, 64, 67, 0.15);\n",
              "      fill: #174EA6;\n",
              "    }\n",
              "\n",
              "    [theme=dark] .colab-df-convert {\n",
              "      background-color: #3B4455;\n",
              "      fill: #D2E3FC;\n",
              "    }\n",
              "\n",
              "    [theme=dark] .colab-df-convert:hover {\n",
              "      background-color: #434B5C;\n",
              "      box-shadow: 0px 1px 3px 1px rgba(0, 0, 0, 0.15);\n",
              "      filter: drop-shadow(0px 1px 2px rgba(0, 0, 0, 0.3));\n",
              "      fill: #FFFFFF;\n",
              "    }\n",
              "  </style>\n",
              "\n",
              "      <script>\n",
              "        const buttonEl =\n",
              "          document.querySelector('#df-b5a8ac16-5ffd-4749-9cf9-f33f977a2621 button.colab-df-convert');\n",
              "        buttonEl.style.display =\n",
              "          google.colab.kernel.accessAllowed ? 'block' : 'none';\n",
              "\n",
              "        async function convertToInteractive(key) {\n",
              "          const element = document.querySelector('#df-b5a8ac16-5ffd-4749-9cf9-f33f977a2621');\n",
              "          const dataTable =\n",
              "            await google.colab.kernel.invokeFunction('convertToInteractive',\n",
              "                                                     [key], {});\n",
              "          if (!dataTable) return;\n",
              "\n",
              "          const docLinkHtml = 'Like what you see? Visit the ' +\n",
              "            '<a target=\"_blank\" href=https://colab.research.google.com/notebooks/data_table.ipynb>data table notebook</a>'\n",
              "            + ' to learn more about interactive tables.';\n",
              "          element.innerHTML = '';\n",
              "          dataTable['output_type'] = 'display_data';\n",
              "          await google.colab.output.renderOutput(dataTable, element);\n",
              "          const docLink = document.createElement('div');\n",
              "          docLink.innerHTML = docLinkHtml;\n",
              "          element.appendChild(docLink);\n",
              "        }\n",
              "      </script>\n",
              "    </div>\n",
              "  </div>\n",
              "  "
            ]
          },
          "metadata": {},
          "execution_count": 47
        }
      ]
    },
    {
      "cell_type": "markdown",
      "source": [
        "Asymmetrique Profile Index and Asymmetrique Activity Index is ordered and it has 45% of null values. We don't have information of what it actually means hence dropping it"
      ],
      "metadata": {
        "id": "uwdcVjbWDuQe"
      }
    },
    {
      "cell_type": "code",
      "source": [
        "new_lead.drop(columns=['Asymmetrique Profile Index','Asymmetrique Activity Index'],inplace=True)"
      ],
      "metadata": {
        "id": "LKsRMFCZEGE_"
      },
      "execution_count": 48,
      "outputs": []
    },
    {
      "cell_type": "code",
      "source": [
        "new_lead.shape"
      ],
      "metadata": {
        "colab": {
          "base_uri": "https://localhost:8080/"
        },
        "id": "cJx6bpdlEcQi",
        "outputId": "c06a2869-8bc2-4dd2-aa31-e9ce15ece187"
      },
      "execution_count": 49,
      "outputs": [
        {
          "output_type": "execute_result",
          "data": {
            "text/plain": [
              "(9240, 17)"
            ]
          },
          "metadata": {},
          "execution_count": 49
        }
      ]
    },
    {
      "cell_type": "code",
      "source": [
        "new_lead['Lead Quality'].value_counts()"
      ],
      "metadata": {
        "colab": {
          "base_uri": "https://localhost:8080/"
        },
        "id": "EkJaFbhj5JXv",
        "outputId": "73fa98d9-a61a-4b2c-e7cf-b8cbe7471ac3"
      },
      "execution_count": 50,
      "outputs": [
        {
          "output_type": "execute_result",
          "data": {
            "text/plain": [
              "Might be             1560\n",
              "Not Sure             1092\n",
              "High in Relevance     637\n",
              "Worst                 601\n",
              "Low in Relevance      583\n",
              "Name: Lead Quality, dtype: int64"
            ]
          },
          "metadata": {},
          "execution_count": 50
        }
      ]
    },
    {
      "cell_type": "code",
      "source": [
        "new_lead['City'].value_counts()"
      ],
      "metadata": {
        "colab": {
          "base_uri": "https://localhost:8080/"
        },
        "id": "oSodIt3CnlAa",
        "outputId": "98396629-a882-4110-dfc5-f428b914f526"
      },
      "execution_count": 51,
      "outputs": [
        {
          "output_type": "execute_result",
          "data": {
            "text/plain": [
              "Mumbai                         3222\n",
              "Thane & Outskirts               752\n",
              "Other Cities                    686\n",
              "Other Cities of Maharashtra     457\n",
              "Other Metro Cities              380\n",
              "Tier II Cities                   74\n",
              "Name: City, dtype: int64"
            ]
          },
          "metadata": {},
          "execution_count": 51
        }
      ]
    },
    {
      "cell_type": "code",
      "source": [
        "new_lead['Country'].value_counts()"
      ],
      "metadata": {
        "colab": {
          "base_uri": "https://localhost:8080/"
        },
        "id": "W3TFqbJGnmwj",
        "outputId": "916e2b32-8082-4220-9c5f-b4ca405ec845"
      },
      "execution_count": 52,
      "outputs": [
        {
          "output_type": "execute_result",
          "data": {
            "text/plain": [
              "India                   6492\n",
              "United States             69\n",
              "United Arab Emirates      53\n",
              "Singapore                 24\n",
              "Saudi Arabia              21\n",
              "United Kingdom            15\n",
              "Australia                 13\n",
              "Qatar                     10\n",
              "Hong Kong                  7\n",
              "Bahrain                    7\n",
              "Oman                       6\n",
              "France                     6\n",
              "unknown                    5\n",
              "South Africa               4\n",
              "Nigeria                    4\n",
              "Germany                    4\n",
              "Kuwait                     4\n",
              "Canada                     4\n",
              "Sweden                     3\n",
              "China                      2\n",
              "Asia/Pacific Region        2\n",
              "Uganda                     2\n",
              "Bangladesh                 2\n",
              "Italy                      2\n",
              "Belgium                    2\n",
              "Netherlands                2\n",
              "Ghana                      2\n",
              "Philippines                2\n",
              "Russia                     1\n",
              "Switzerland                1\n",
              "Vietnam                    1\n",
              "Denmark                    1\n",
              "Tanzania                   1\n",
              "Liberia                    1\n",
              "Malaysia                   1\n",
              "Kenya                      1\n",
              "Sri Lanka                  1\n",
              "Indonesia                  1\n",
              "Name: Country, dtype: int64"
            ]
          },
          "metadata": {},
          "execution_count": 52
        }
      ]
    },
    {
      "cell_type": "code",
      "source": [
        "new_lead['Tags'].value_counts()"
      ],
      "metadata": {
        "colab": {
          "base_uri": "https://localhost:8080/"
        },
        "id": "MEQQK11_7zb6",
        "outputId": "c43a1060-def0-4355-ea85-4119028d8292"
      },
      "execution_count": 53,
      "outputs": [
        {
          "output_type": "execute_result",
          "data": {
            "text/plain": [
              "Will revert after reading the email                  2072\n",
              "Ringing                                              1203\n",
              "Interested in other courses                           513\n",
              "Already a student                                     465\n",
              "Closed by Horizzon                                    358\n",
              "switched off                                          240\n",
              "Busy                                                  186\n",
              "Lost to EINS                                          175\n",
              "Not doing further education                           145\n",
              "Interested  in full time MBA                          117\n",
              "Graduation in progress                                111\n",
              "invalid number                                         83\n",
              "Diploma holder (Not Eligible)                          63\n",
              "wrong number given                                     47\n",
              "opp hangup                                             33\n",
              "number not provided                                    27\n",
              "in touch with EINS                                     12\n",
              "Lost to Others                                          7\n",
              "Still Thinking                                          6\n",
              "Want to take admission but has financial problems       6\n",
              "In confusion whether part time or DLP                   5\n",
              "Interested in Next batch                                5\n",
              "Lateral student                                         3\n",
              "Shall take in the next coming month                     2\n",
              "University not recognized                               2\n",
              "Recognition issue (DEC approval)                        1\n",
              "Name: Tags, dtype: int64"
            ]
          },
          "metadata": {},
          "execution_count": 53
        }
      ]
    },
    {
      "cell_type": "markdown",
      "source": [
        "Dropping bellow columns as they have unstructured data\n",
        "- country\n",
        "- city\n",
        "- Tags\n",
        "- Last Activity\n",
        "- Lead Quality\n",
        "- Lead Profile\n",
        "\n",
        "Dropping below as they have more than 40% of null values\n",
        "- Asymmetrique Activity Score\n",
        "- Asymmetrique Profile Score "
      ],
      "metadata": {
        "id": "35WF77Dt6yK7"
      }
    },
    {
      "cell_type": "code",
      "source": [
        "new_lead.drop(columns=[ 'Country', 'City', 'Tags','Asymmetrique Activity Score','Asymmetrique Profile Score', 'Lead Quality','Lead Profile','Last Activity'],inplace=True)"
      ],
      "metadata": {
        "id": "egc5Ui2U7DlV"
      },
      "execution_count": 54,
      "outputs": []
    },
    {
      "cell_type": "code",
      "source": [
        "new_lead.shape"
      ],
      "metadata": {
        "colab": {
          "base_uri": "https://localhost:8080/"
        },
        "id": "aiZuKjv3K1bf",
        "outputId": "e9ef9f78-9e8e-4775-90e6-8e69210e2f73"
      },
      "execution_count": 55,
      "outputs": [
        {
          "output_type": "execute_result",
          "data": {
            "text/plain": [
              "(9240, 9)"
            ]
          },
          "metadata": {},
          "execution_count": 55
        }
      ]
    },
    {
      "cell_type": "code",
      "source": [
        "new_lead.columns"
      ],
      "metadata": {
        "colab": {
          "base_uri": "https://localhost:8080/"
        },
        "id": "YQeY9pZkn5eC",
        "outputId": "04b95f5d-8f7a-4ae8-dd78-9ed6e8f6916f"
      },
      "execution_count": 56,
      "outputs": [
        {
          "output_type": "execute_result",
          "data": {
            "text/plain": [
              "Index(['Lead Origin', 'Do Not Email', 'Converted', 'TotalVisits',\n",
              "       'Total Time Spent on Website', 'Page Views Per Visit', 'Specialization',\n",
              "       'What is your current occupation',\n",
              "       'What matters most to you in choosing a course'],\n",
              "      dtype='object')"
            ]
          },
          "metadata": {},
          "execution_count": 56
        }
      ]
    },
    {
      "cell_type": "markdown",
      "source": [
        "\n",
        "## Data Preparation"
      ],
      "metadata": {
        "id": "cJQ_C1esHFva"
      }
    },
    {
      "cell_type": "code",
      "source": [
        "def creating_dummies(X, col):\n",
        "  dummy1=pd.get_dummies(X[col])\n",
        "  X=pd.concat([X,dummy1],axis=1)\n",
        "  X.drop(columns=col,inplace=True)\n",
        "  return X"
      ],
      "metadata": {
        "id": "ng1btGghG9rL"
      },
      "execution_count": 57,
      "outputs": []
    },
    {
      "cell_type": "code",
      "source": [
        "list_of_col_to_dummy=['Lead Origin','Specialization', 'What is your current occupation', 'What matters most to you in choosing a course']\n",
        "for ele in list_of_col_to_dummy:\n",
        "  new_lead=creating_dummies(new_lead,ele)\n"
      ],
      "metadata": {
        "id": "sUy_shsyONQQ"
      },
      "execution_count": 58,
      "outputs": []
    },
    {
      "cell_type": "code",
      "source": [
        "new_lead.shape"
      ],
      "metadata": {
        "colab": {
          "base_uri": "https://localhost:8080/"
        },
        "id": "Ha4cKh5EOSrv",
        "outputId": "0b8e634d-fd54-46c8-8dc5-007ed4238f6f"
      },
      "execution_count": 59,
      "outputs": [
        {
          "output_type": "execute_result",
          "data": {
            "text/plain": [
              "(9240, 37)"
            ]
          },
          "metadata": {},
          "execution_count": 59
        }
      ]
    },
    {
      "cell_type": "code",
      "source": [
        "new_lead.head()"
      ],
      "metadata": {
        "colab": {
          "base_uri": "https://localhost:8080/",
          "height": 340
        },
        "id": "IwDxqq2bPyyT",
        "outputId": "20aafa30-777f-4109-9f29-8180938a25bc"
      },
      "execution_count": 60,
      "outputs": [
        {
          "output_type": "execute_result",
          "data": {
            "text/plain": [
              "  Do Not Email  Converted  TotalVisits  Total Time Spent on Website  \\\n",
              "0           No          0          0.0                            0   \n",
              "1           No          0          5.0                          674   \n",
              "2           No          1          2.0                         1532   \n",
              "3           No          0          1.0                          305   \n",
              "4           No          1          2.0                         1428   \n",
              "\n",
              "   Page Views Per Visit  API  Landing Page Submission  Lead Add Form  \\\n",
              "0                   0.0    1                        0              0   \n",
              "1                   2.5    1                        0              0   \n",
              "2                   2.0    0                        1              0   \n",
              "3                   1.0    0                        1              0   \n",
              "4                   1.0    0                        1              0   \n",
              "\n",
              "   Lead Import  Quick Add Form  Banking, Investment And Insurance  \\\n",
              "0            0               0                                  0   \n",
              "1            0               0                                  0   \n",
              "2            0               0                                  0   \n",
              "3            0               0                                  0   \n",
              "4            0               0                                  0   \n",
              "\n",
              "   Business Administration  E-Business  E-COMMERCE  Finance Management  \\\n",
              "0                        0           0           0                   0   \n",
              "1                        0           0           0                   0   \n",
              "2                        1           0           0                   0   \n",
              "3                        0           0           0                   0   \n",
              "4                        0           0           0                   0   \n",
              "\n",
              "   Healthcare Management  Hospitality Management  Human Resource Management  \\\n",
              "0                      0                       0                          0   \n",
              "1                      0                       0                          0   \n",
              "2                      0                       0                          0   \n",
              "3                      0                       0                          0   \n",
              "4                      0                       0                          0   \n",
              "\n",
              "   IT Projects Management  International Business  Marketing Management  \\\n",
              "0                       0                       0                     0   \n",
              "1                       0                       0                     0   \n",
              "2                       0                       0                     0   \n",
              "3                       0                       0                     0   \n",
              "4                       0                       0                     0   \n",
              "\n",
              "   Media and Advertising  Operations Management  Retail Management  \\\n",
              "0                      0                      0                  0   \n",
              "1                      0                      0                  0   \n",
              "2                      0                      0                  0   \n",
              "3                      1                      0                  0   \n",
              "4                      0                      0                  0   \n",
              "\n",
              "   Rural and Agribusiness  Services Excellence  Supply Chain Management  \\\n",
              "0                       0                    0                        0   \n",
              "1                       0                    0                        0   \n",
              "2                       0                    0                        0   \n",
              "3                       0                    0                        0   \n",
              "4                       0                    0                        0   \n",
              "\n",
              "   Travel and Tourism  Businessman  Housewife  Other  Student  Unemployed  \\\n",
              "0                   0            0          0      0        0           1   \n",
              "1                   0            0          0      0        0           1   \n",
              "2                   0            0          0      0        1           0   \n",
              "3                   0            0          0      0        0           1   \n",
              "4                   0            0          0      0        0           1   \n",
              "\n",
              "   Working Professional  Better Career Prospects  Flexibility & Convenience  \\\n",
              "0                     0                        1                          0   \n",
              "1                     0                        1                          0   \n",
              "2                     0                        1                          0   \n",
              "3                     0                        1                          0   \n",
              "4                     0                        1                          0   \n",
              "\n",
              "   Other  \n",
              "0      0  \n",
              "1      0  \n",
              "2      0  \n",
              "3      0  \n",
              "4      0  "
            ],
            "text/html": [
              "\n",
              "  <div id=\"df-d30a353d-3196-4f8a-95d8-713fc5b2356e\">\n",
              "    <div class=\"colab-df-container\">\n",
              "      <div>\n",
              "<style scoped>\n",
              "    .dataframe tbody tr th:only-of-type {\n",
              "        vertical-align: middle;\n",
              "    }\n",
              "\n",
              "    .dataframe tbody tr th {\n",
              "        vertical-align: top;\n",
              "    }\n",
              "\n",
              "    .dataframe thead th {\n",
              "        text-align: right;\n",
              "    }\n",
              "</style>\n",
              "<table border=\"1\" class=\"dataframe\">\n",
              "  <thead>\n",
              "    <tr style=\"text-align: right;\">\n",
              "      <th></th>\n",
              "      <th>Do Not Email</th>\n",
              "      <th>Converted</th>\n",
              "      <th>TotalVisits</th>\n",
              "      <th>Total Time Spent on Website</th>\n",
              "      <th>Page Views Per Visit</th>\n",
              "      <th>API</th>\n",
              "      <th>Landing Page Submission</th>\n",
              "      <th>Lead Add Form</th>\n",
              "      <th>Lead Import</th>\n",
              "      <th>Quick Add Form</th>\n",
              "      <th>Banking, Investment And Insurance</th>\n",
              "      <th>Business Administration</th>\n",
              "      <th>E-Business</th>\n",
              "      <th>E-COMMERCE</th>\n",
              "      <th>Finance Management</th>\n",
              "      <th>Healthcare Management</th>\n",
              "      <th>Hospitality Management</th>\n",
              "      <th>Human Resource Management</th>\n",
              "      <th>IT Projects Management</th>\n",
              "      <th>International Business</th>\n",
              "      <th>Marketing Management</th>\n",
              "      <th>Media and Advertising</th>\n",
              "      <th>Operations Management</th>\n",
              "      <th>Retail Management</th>\n",
              "      <th>Rural and Agribusiness</th>\n",
              "      <th>Services Excellence</th>\n",
              "      <th>Supply Chain Management</th>\n",
              "      <th>Travel and Tourism</th>\n",
              "      <th>Businessman</th>\n",
              "      <th>Housewife</th>\n",
              "      <th>Other</th>\n",
              "      <th>Student</th>\n",
              "      <th>Unemployed</th>\n",
              "      <th>Working Professional</th>\n",
              "      <th>Better Career Prospects</th>\n",
              "      <th>Flexibility &amp; Convenience</th>\n",
              "      <th>Other</th>\n",
              "    </tr>\n",
              "  </thead>\n",
              "  <tbody>\n",
              "    <tr>\n",
              "      <th>0</th>\n",
              "      <td>No</td>\n",
              "      <td>0</td>\n",
              "      <td>0.0</td>\n",
              "      <td>0</td>\n",
              "      <td>0.0</td>\n",
              "      <td>1</td>\n",
              "      <td>0</td>\n",
              "      <td>0</td>\n",
              "      <td>0</td>\n",
              "      <td>0</td>\n",
              "      <td>0</td>\n",
              "      <td>0</td>\n",
              "      <td>0</td>\n",
              "      <td>0</td>\n",
              "      <td>0</td>\n",
              "      <td>0</td>\n",
              "      <td>0</td>\n",
              "      <td>0</td>\n",
              "      <td>0</td>\n",
              "      <td>0</td>\n",
              "      <td>0</td>\n",
              "      <td>0</td>\n",
              "      <td>0</td>\n",
              "      <td>0</td>\n",
              "      <td>0</td>\n",
              "      <td>0</td>\n",
              "      <td>0</td>\n",
              "      <td>0</td>\n",
              "      <td>0</td>\n",
              "      <td>0</td>\n",
              "      <td>0</td>\n",
              "      <td>0</td>\n",
              "      <td>1</td>\n",
              "      <td>0</td>\n",
              "      <td>1</td>\n",
              "      <td>0</td>\n",
              "      <td>0</td>\n",
              "    </tr>\n",
              "    <tr>\n",
              "      <th>1</th>\n",
              "      <td>No</td>\n",
              "      <td>0</td>\n",
              "      <td>5.0</td>\n",
              "      <td>674</td>\n",
              "      <td>2.5</td>\n",
              "      <td>1</td>\n",
              "      <td>0</td>\n",
              "      <td>0</td>\n",
              "      <td>0</td>\n",
              "      <td>0</td>\n",
              "      <td>0</td>\n",
              "      <td>0</td>\n",
              "      <td>0</td>\n",
              "      <td>0</td>\n",
              "      <td>0</td>\n",
              "      <td>0</td>\n",
              "      <td>0</td>\n",
              "      <td>0</td>\n",
              "      <td>0</td>\n",
              "      <td>0</td>\n",
              "      <td>0</td>\n",
              "      <td>0</td>\n",
              "      <td>0</td>\n",
              "      <td>0</td>\n",
              "      <td>0</td>\n",
              "      <td>0</td>\n",
              "      <td>0</td>\n",
              "      <td>0</td>\n",
              "      <td>0</td>\n",
              "      <td>0</td>\n",
              "      <td>0</td>\n",
              "      <td>0</td>\n",
              "      <td>1</td>\n",
              "      <td>0</td>\n",
              "      <td>1</td>\n",
              "      <td>0</td>\n",
              "      <td>0</td>\n",
              "    </tr>\n",
              "    <tr>\n",
              "      <th>2</th>\n",
              "      <td>No</td>\n",
              "      <td>1</td>\n",
              "      <td>2.0</td>\n",
              "      <td>1532</td>\n",
              "      <td>2.0</td>\n",
              "      <td>0</td>\n",
              "      <td>1</td>\n",
              "      <td>0</td>\n",
              "      <td>0</td>\n",
              "      <td>0</td>\n",
              "      <td>0</td>\n",
              "      <td>1</td>\n",
              "      <td>0</td>\n",
              "      <td>0</td>\n",
              "      <td>0</td>\n",
              "      <td>0</td>\n",
              "      <td>0</td>\n",
              "      <td>0</td>\n",
              "      <td>0</td>\n",
              "      <td>0</td>\n",
              "      <td>0</td>\n",
              "      <td>0</td>\n",
              "      <td>0</td>\n",
              "      <td>0</td>\n",
              "      <td>0</td>\n",
              "      <td>0</td>\n",
              "      <td>0</td>\n",
              "      <td>0</td>\n",
              "      <td>0</td>\n",
              "      <td>0</td>\n",
              "      <td>0</td>\n",
              "      <td>1</td>\n",
              "      <td>0</td>\n",
              "      <td>0</td>\n",
              "      <td>1</td>\n",
              "      <td>0</td>\n",
              "      <td>0</td>\n",
              "    </tr>\n",
              "    <tr>\n",
              "      <th>3</th>\n",
              "      <td>No</td>\n",
              "      <td>0</td>\n",
              "      <td>1.0</td>\n",
              "      <td>305</td>\n",
              "      <td>1.0</td>\n",
              "      <td>0</td>\n",
              "      <td>1</td>\n",
              "      <td>0</td>\n",
              "      <td>0</td>\n",
              "      <td>0</td>\n",
              "      <td>0</td>\n",
              "      <td>0</td>\n",
              "      <td>0</td>\n",
              "      <td>0</td>\n",
              "      <td>0</td>\n",
              "      <td>0</td>\n",
              "      <td>0</td>\n",
              "      <td>0</td>\n",
              "      <td>0</td>\n",
              "      <td>0</td>\n",
              "      <td>0</td>\n",
              "      <td>1</td>\n",
              "      <td>0</td>\n",
              "      <td>0</td>\n",
              "      <td>0</td>\n",
              "      <td>0</td>\n",
              "      <td>0</td>\n",
              "      <td>0</td>\n",
              "      <td>0</td>\n",
              "      <td>0</td>\n",
              "      <td>0</td>\n",
              "      <td>0</td>\n",
              "      <td>1</td>\n",
              "      <td>0</td>\n",
              "      <td>1</td>\n",
              "      <td>0</td>\n",
              "      <td>0</td>\n",
              "    </tr>\n",
              "    <tr>\n",
              "      <th>4</th>\n",
              "      <td>No</td>\n",
              "      <td>1</td>\n",
              "      <td>2.0</td>\n",
              "      <td>1428</td>\n",
              "      <td>1.0</td>\n",
              "      <td>0</td>\n",
              "      <td>1</td>\n",
              "      <td>0</td>\n",
              "      <td>0</td>\n",
              "      <td>0</td>\n",
              "      <td>0</td>\n",
              "      <td>0</td>\n",
              "      <td>0</td>\n",
              "      <td>0</td>\n",
              "      <td>0</td>\n",
              "      <td>0</td>\n",
              "      <td>0</td>\n",
              "      <td>0</td>\n",
              "      <td>0</td>\n",
              "      <td>0</td>\n",
              "      <td>0</td>\n",
              "      <td>0</td>\n",
              "      <td>0</td>\n",
              "      <td>0</td>\n",
              "      <td>0</td>\n",
              "      <td>0</td>\n",
              "      <td>0</td>\n",
              "      <td>0</td>\n",
              "      <td>0</td>\n",
              "      <td>0</td>\n",
              "      <td>0</td>\n",
              "      <td>0</td>\n",
              "      <td>1</td>\n",
              "      <td>0</td>\n",
              "      <td>1</td>\n",
              "      <td>0</td>\n",
              "      <td>0</td>\n",
              "    </tr>\n",
              "  </tbody>\n",
              "</table>\n",
              "</div>\n",
              "      <button class=\"colab-df-convert\" onclick=\"convertToInteractive('df-d30a353d-3196-4f8a-95d8-713fc5b2356e')\"\n",
              "              title=\"Convert this dataframe to an interactive table.\"\n",
              "              style=\"display:none;\">\n",
              "        \n",
              "  <svg xmlns=\"http://www.w3.org/2000/svg\" height=\"24px\"viewBox=\"0 0 24 24\"\n",
              "       width=\"24px\">\n",
              "    <path d=\"M0 0h24v24H0V0z\" fill=\"none\"/>\n",
              "    <path d=\"M18.56 5.44l.94 2.06.94-2.06 2.06-.94-2.06-.94-.94-2.06-.94 2.06-2.06.94zm-11 1L8.5 8.5l.94-2.06 2.06-.94-2.06-.94L8.5 2.5l-.94 2.06-2.06.94zm10 10l.94 2.06.94-2.06 2.06-.94-2.06-.94-.94-2.06-.94 2.06-2.06.94z\"/><path d=\"M17.41 7.96l-1.37-1.37c-.4-.4-.92-.59-1.43-.59-.52 0-1.04.2-1.43.59L10.3 9.45l-7.72 7.72c-.78.78-.78 2.05 0 2.83L4 21.41c.39.39.9.59 1.41.59.51 0 1.02-.2 1.41-.59l7.78-7.78 2.81-2.81c.8-.78.8-2.07 0-2.86zM5.41 20L4 18.59l7.72-7.72 1.47 1.35L5.41 20z\"/>\n",
              "  </svg>\n",
              "      </button>\n",
              "      \n",
              "  <style>\n",
              "    .colab-df-container {\n",
              "      display:flex;\n",
              "      flex-wrap:wrap;\n",
              "      gap: 12px;\n",
              "    }\n",
              "\n",
              "    .colab-df-convert {\n",
              "      background-color: #E8F0FE;\n",
              "      border: none;\n",
              "      border-radius: 50%;\n",
              "      cursor: pointer;\n",
              "      display: none;\n",
              "      fill: #1967D2;\n",
              "      height: 32px;\n",
              "      padding: 0 0 0 0;\n",
              "      width: 32px;\n",
              "    }\n",
              "\n",
              "    .colab-df-convert:hover {\n",
              "      background-color: #E2EBFA;\n",
              "      box-shadow: 0px 1px 2px rgba(60, 64, 67, 0.3), 0px 1px 3px 1px rgba(60, 64, 67, 0.15);\n",
              "      fill: #174EA6;\n",
              "    }\n",
              "\n",
              "    [theme=dark] .colab-df-convert {\n",
              "      background-color: #3B4455;\n",
              "      fill: #D2E3FC;\n",
              "    }\n",
              "\n",
              "    [theme=dark] .colab-df-convert:hover {\n",
              "      background-color: #434B5C;\n",
              "      box-shadow: 0px 1px 3px 1px rgba(0, 0, 0, 0.15);\n",
              "      filter: drop-shadow(0px 1px 2px rgba(0, 0, 0, 0.3));\n",
              "      fill: #FFFFFF;\n",
              "    }\n",
              "  </style>\n",
              "\n",
              "      <script>\n",
              "        const buttonEl =\n",
              "          document.querySelector('#df-d30a353d-3196-4f8a-95d8-713fc5b2356e button.colab-df-convert');\n",
              "        buttonEl.style.display =\n",
              "          google.colab.kernel.accessAllowed ? 'block' : 'none';\n",
              "\n",
              "        async function convertToInteractive(key) {\n",
              "          const element = document.querySelector('#df-d30a353d-3196-4f8a-95d8-713fc5b2356e');\n",
              "          const dataTable =\n",
              "            await google.colab.kernel.invokeFunction('convertToInteractive',\n",
              "                                                     [key], {});\n",
              "          if (!dataTable) return;\n",
              "\n",
              "          const docLinkHtml = 'Like what you see? Visit the ' +\n",
              "            '<a target=\"_blank\" href=https://colab.research.google.com/notebooks/data_table.ipynb>data table notebook</a>'\n",
              "            + ' to learn more about interactive tables.';\n",
              "          element.innerHTML = '';\n",
              "          dataTable['output_type'] = 'display_data';\n",
              "          await google.colab.output.renderOutput(dataTable, element);\n",
              "          const docLink = document.createElement('div');\n",
              "          docLink.innerHTML = docLinkHtml;\n",
              "          element.appendChild(docLink);\n",
              "        }\n",
              "      </script>\n",
              "    </div>\n",
              "  </div>\n",
              "  "
            ]
          },
          "metadata": {},
          "execution_count": 60
        }
      ]
    },
    {
      "cell_type": "code",
      "source": [
        "sum_val6=new_lead.isnull().sum()\n",
        "pd.DataFrame(100*sum_val6/new_lead.shape[0])"
      ],
      "metadata": {
        "id": "XmlMu0mYTX8o",
        "colab": {
          "base_uri": "https://localhost:8080/",
          "height": 1000
        },
        "outputId": "bc31a812-bcbc-4882-c9e5-6d6315989e71"
      },
      "execution_count": 61,
      "outputs": [
        {
          "output_type": "execute_result",
          "data": {
            "text/plain": [
              "                                     0\n",
              "Do Not Email                       0.0\n",
              "Converted                          0.0\n",
              "TotalVisits                        0.0\n",
              "Total Time Spent on Website        0.0\n",
              "Page Views Per Visit               0.0\n",
              "API                                0.0\n",
              "Landing Page Submission            0.0\n",
              "Lead Add Form                      0.0\n",
              "Lead Import                        0.0\n",
              "Quick Add Form                     0.0\n",
              "Banking, Investment And Insurance  0.0\n",
              "Business Administration            0.0\n",
              "E-Business                         0.0\n",
              "E-COMMERCE                         0.0\n",
              "Finance Management                 0.0\n",
              "Healthcare Management              0.0\n",
              "Hospitality Management             0.0\n",
              "Human Resource Management          0.0\n",
              "IT Projects Management             0.0\n",
              "International Business             0.0\n",
              "Marketing Management               0.0\n",
              "Media and Advertising              0.0\n",
              "Operations Management              0.0\n",
              "Retail Management                  0.0\n",
              "Rural and Agribusiness             0.0\n",
              "Services Excellence                0.0\n",
              "Supply Chain Management            0.0\n",
              "Travel and Tourism                 0.0\n",
              "Businessman                        0.0\n",
              "Housewife                          0.0\n",
              "Other                              0.0\n",
              "Student                            0.0\n",
              "Unemployed                         0.0\n",
              "Working Professional               0.0\n",
              "Better Career Prospects            0.0\n",
              "Flexibility & Convenience          0.0\n",
              "Other                              0.0"
            ],
            "text/html": [
              "\n",
              "  <div id=\"df-c07576e4-8813-4a27-8162-1996d053210a\">\n",
              "    <div class=\"colab-df-container\">\n",
              "      <div>\n",
              "<style scoped>\n",
              "    .dataframe tbody tr th:only-of-type {\n",
              "        vertical-align: middle;\n",
              "    }\n",
              "\n",
              "    .dataframe tbody tr th {\n",
              "        vertical-align: top;\n",
              "    }\n",
              "\n",
              "    .dataframe thead th {\n",
              "        text-align: right;\n",
              "    }\n",
              "</style>\n",
              "<table border=\"1\" class=\"dataframe\">\n",
              "  <thead>\n",
              "    <tr style=\"text-align: right;\">\n",
              "      <th></th>\n",
              "      <th>0</th>\n",
              "    </tr>\n",
              "  </thead>\n",
              "  <tbody>\n",
              "    <tr>\n",
              "      <th>Do Not Email</th>\n",
              "      <td>0.0</td>\n",
              "    </tr>\n",
              "    <tr>\n",
              "      <th>Converted</th>\n",
              "      <td>0.0</td>\n",
              "    </tr>\n",
              "    <tr>\n",
              "      <th>TotalVisits</th>\n",
              "      <td>0.0</td>\n",
              "    </tr>\n",
              "    <tr>\n",
              "      <th>Total Time Spent on Website</th>\n",
              "      <td>0.0</td>\n",
              "    </tr>\n",
              "    <tr>\n",
              "      <th>Page Views Per Visit</th>\n",
              "      <td>0.0</td>\n",
              "    </tr>\n",
              "    <tr>\n",
              "      <th>API</th>\n",
              "      <td>0.0</td>\n",
              "    </tr>\n",
              "    <tr>\n",
              "      <th>Landing Page Submission</th>\n",
              "      <td>0.0</td>\n",
              "    </tr>\n",
              "    <tr>\n",
              "      <th>Lead Add Form</th>\n",
              "      <td>0.0</td>\n",
              "    </tr>\n",
              "    <tr>\n",
              "      <th>Lead Import</th>\n",
              "      <td>0.0</td>\n",
              "    </tr>\n",
              "    <tr>\n",
              "      <th>Quick Add Form</th>\n",
              "      <td>0.0</td>\n",
              "    </tr>\n",
              "    <tr>\n",
              "      <th>Banking, Investment And Insurance</th>\n",
              "      <td>0.0</td>\n",
              "    </tr>\n",
              "    <tr>\n",
              "      <th>Business Administration</th>\n",
              "      <td>0.0</td>\n",
              "    </tr>\n",
              "    <tr>\n",
              "      <th>E-Business</th>\n",
              "      <td>0.0</td>\n",
              "    </tr>\n",
              "    <tr>\n",
              "      <th>E-COMMERCE</th>\n",
              "      <td>0.0</td>\n",
              "    </tr>\n",
              "    <tr>\n",
              "      <th>Finance Management</th>\n",
              "      <td>0.0</td>\n",
              "    </tr>\n",
              "    <tr>\n",
              "      <th>Healthcare Management</th>\n",
              "      <td>0.0</td>\n",
              "    </tr>\n",
              "    <tr>\n",
              "      <th>Hospitality Management</th>\n",
              "      <td>0.0</td>\n",
              "    </tr>\n",
              "    <tr>\n",
              "      <th>Human Resource Management</th>\n",
              "      <td>0.0</td>\n",
              "    </tr>\n",
              "    <tr>\n",
              "      <th>IT Projects Management</th>\n",
              "      <td>0.0</td>\n",
              "    </tr>\n",
              "    <tr>\n",
              "      <th>International Business</th>\n",
              "      <td>0.0</td>\n",
              "    </tr>\n",
              "    <tr>\n",
              "      <th>Marketing Management</th>\n",
              "      <td>0.0</td>\n",
              "    </tr>\n",
              "    <tr>\n",
              "      <th>Media and Advertising</th>\n",
              "      <td>0.0</td>\n",
              "    </tr>\n",
              "    <tr>\n",
              "      <th>Operations Management</th>\n",
              "      <td>0.0</td>\n",
              "    </tr>\n",
              "    <tr>\n",
              "      <th>Retail Management</th>\n",
              "      <td>0.0</td>\n",
              "    </tr>\n",
              "    <tr>\n",
              "      <th>Rural and Agribusiness</th>\n",
              "      <td>0.0</td>\n",
              "    </tr>\n",
              "    <tr>\n",
              "      <th>Services Excellence</th>\n",
              "      <td>0.0</td>\n",
              "    </tr>\n",
              "    <tr>\n",
              "      <th>Supply Chain Management</th>\n",
              "      <td>0.0</td>\n",
              "    </tr>\n",
              "    <tr>\n",
              "      <th>Travel and Tourism</th>\n",
              "      <td>0.0</td>\n",
              "    </tr>\n",
              "    <tr>\n",
              "      <th>Businessman</th>\n",
              "      <td>0.0</td>\n",
              "    </tr>\n",
              "    <tr>\n",
              "      <th>Housewife</th>\n",
              "      <td>0.0</td>\n",
              "    </tr>\n",
              "    <tr>\n",
              "      <th>Other</th>\n",
              "      <td>0.0</td>\n",
              "    </tr>\n",
              "    <tr>\n",
              "      <th>Student</th>\n",
              "      <td>0.0</td>\n",
              "    </tr>\n",
              "    <tr>\n",
              "      <th>Unemployed</th>\n",
              "      <td>0.0</td>\n",
              "    </tr>\n",
              "    <tr>\n",
              "      <th>Working Professional</th>\n",
              "      <td>0.0</td>\n",
              "    </tr>\n",
              "    <tr>\n",
              "      <th>Better Career Prospects</th>\n",
              "      <td>0.0</td>\n",
              "    </tr>\n",
              "    <tr>\n",
              "      <th>Flexibility &amp; Convenience</th>\n",
              "      <td>0.0</td>\n",
              "    </tr>\n",
              "    <tr>\n",
              "      <th>Other</th>\n",
              "      <td>0.0</td>\n",
              "    </tr>\n",
              "  </tbody>\n",
              "</table>\n",
              "</div>\n",
              "      <button class=\"colab-df-convert\" onclick=\"convertToInteractive('df-c07576e4-8813-4a27-8162-1996d053210a')\"\n",
              "              title=\"Convert this dataframe to an interactive table.\"\n",
              "              style=\"display:none;\">\n",
              "        \n",
              "  <svg xmlns=\"http://www.w3.org/2000/svg\" height=\"24px\"viewBox=\"0 0 24 24\"\n",
              "       width=\"24px\">\n",
              "    <path d=\"M0 0h24v24H0V0z\" fill=\"none\"/>\n",
              "    <path d=\"M18.56 5.44l.94 2.06.94-2.06 2.06-.94-2.06-.94-.94-2.06-.94 2.06-2.06.94zm-11 1L8.5 8.5l.94-2.06 2.06-.94-2.06-.94L8.5 2.5l-.94 2.06-2.06.94zm10 10l.94 2.06.94-2.06 2.06-.94-2.06-.94-.94-2.06-.94 2.06-2.06.94z\"/><path d=\"M17.41 7.96l-1.37-1.37c-.4-.4-.92-.59-1.43-.59-.52 0-1.04.2-1.43.59L10.3 9.45l-7.72 7.72c-.78.78-.78 2.05 0 2.83L4 21.41c.39.39.9.59 1.41.59.51 0 1.02-.2 1.41-.59l7.78-7.78 2.81-2.81c.8-.78.8-2.07 0-2.86zM5.41 20L4 18.59l7.72-7.72 1.47 1.35L5.41 20z\"/>\n",
              "  </svg>\n",
              "      </button>\n",
              "      \n",
              "  <style>\n",
              "    .colab-df-container {\n",
              "      display:flex;\n",
              "      flex-wrap:wrap;\n",
              "      gap: 12px;\n",
              "    }\n",
              "\n",
              "    .colab-df-convert {\n",
              "      background-color: #E8F0FE;\n",
              "      border: none;\n",
              "      border-radius: 50%;\n",
              "      cursor: pointer;\n",
              "      display: none;\n",
              "      fill: #1967D2;\n",
              "      height: 32px;\n",
              "      padding: 0 0 0 0;\n",
              "      width: 32px;\n",
              "    }\n",
              "\n",
              "    .colab-df-convert:hover {\n",
              "      background-color: #E2EBFA;\n",
              "      box-shadow: 0px 1px 2px rgba(60, 64, 67, 0.3), 0px 1px 3px 1px rgba(60, 64, 67, 0.15);\n",
              "      fill: #174EA6;\n",
              "    }\n",
              "\n",
              "    [theme=dark] .colab-df-convert {\n",
              "      background-color: #3B4455;\n",
              "      fill: #D2E3FC;\n",
              "    }\n",
              "\n",
              "    [theme=dark] .colab-df-convert:hover {\n",
              "      background-color: #434B5C;\n",
              "      box-shadow: 0px 1px 3px 1px rgba(0, 0, 0, 0.15);\n",
              "      filter: drop-shadow(0px 1px 2px rgba(0, 0, 0, 0.3));\n",
              "      fill: #FFFFFF;\n",
              "    }\n",
              "  </style>\n",
              "\n",
              "      <script>\n",
              "        const buttonEl =\n",
              "          document.querySelector('#df-c07576e4-8813-4a27-8162-1996d053210a button.colab-df-convert');\n",
              "        buttonEl.style.display =\n",
              "          google.colab.kernel.accessAllowed ? 'block' : 'none';\n",
              "\n",
              "        async function convertToInteractive(key) {\n",
              "          const element = document.querySelector('#df-c07576e4-8813-4a27-8162-1996d053210a');\n",
              "          const dataTable =\n",
              "            await google.colab.kernel.invokeFunction('convertToInteractive',\n",
              "                                                     [key], {});\n",
              "          if (!dataTable) return;\n",
              "\n",
              "          const docLinkHtml = 'Like what you see? Visit the ' +\n",
              "            '<a target=\"_blank\" href=https://colab.research.google.com/notebooks/data_table.ipynb>data table notebook</a>'\n",
              "            + ' to learn more about interactive tables.';\n",
              "          element.innerHTML = '';\n",
              "          dataTable['output_type'] = 'display_data';\n",
              "          await google.colab.output.renderOutput(dataTable, element);\n",
              "          const docLink = document.createElement('div');\n",
              "          docLink.innerHTML = docLinkHtml;\n",
              "          element.appendChild(docLink);\n",
              "        }\n",
              "      </script>\n",
              "    </div>\n",
              "  </div>\n",
              "  "
            ]
          },
          "metadata": {},
          "execution_count": 61
        }
      ]
    },
    {
      "cell_type": "code",
      "source": [
        "new_lead['Do Not Email']=new_lead['Do Not Email'].replace({'No':0,'Yes':1})"
      ],
      "metadata": {
        "id": "Ye6EccdTLJLG"
      },
      "execution_count": 62,
      "outputs": []
    },
    {
      "cell_type": "code",
      "source": [
        "new_lead['Do Not Email'].value_counts()"
      ],
      "metadata": {
        "colab": {
          "base_uri": "https://localhost:8080/"
        },
        "id": "ITenwZxmM1M2",
        "outputId": "bf946bf7-021b-4eb5-dab9-ef99b02231af"
      },
      "execution_count": 63,
      "outputs": [
        {
          "output_type": "execute_result",
          "data": {
            "text/plain": [
              "0    8506\n",
              "1     734\n",
              "Name: Do Not Email, dtype: int64"
            ]
          },
          "metadata": {},
          "execution_count": 63
        }
      ]
    },
    {
      "cell_type": "markdown",
      "source": [
        "## Splitting Data into train and test set"
      ],
      "metadata": {
        "id": "pBqXd4WDOj3x"
      }
    },
    {
      "cell_type": "code",
      "source": [
        "np.random.seed(0)\n",
        "new_lead_train,new_lead_test=train_test_split(new_lead,train_size=0.7, test_size=0.3,random_state=100)"
      ],
      "metadata": {
        "id": "E6dauzldNoFl"
      },
      "execution_count": 64,
      "outputs": []
    },
    {
      "cell_type": "code",
      "source": [
        "new_lead_train.shape"
      ],
      "metadata": {
        "colab": {
          "base_uri": "https://localhost:8080/"
        },
        "id": "k_UWLCRSQxOo",
        "outputId": "c9acfccd-9621-425a-9899-64c3fa6d65d2"
      },
      "execution_count": 65,
      "outputs": [
        {
          "output_type": "execute_result",
          "data": {
            "text/plain": [
              "(6468, 37)"
            ]
          },
          "metadata": {},
          "execution_count": 65
        }
      ]
    },
    {
      "cell_type": "code",
      "source": [
        "new_lead_test.shape"
      ],
      "metadata": {
        "colab": {
          "base_uri": "https://localhost:8080/"
        },
        "id": "6ON6Bt_5Q2UG",
        "outputId": "1b3c77de-eca5-4881-8db1-3d257f1a9fa9"
      },
      "execution_count": 66,
      "outputs": [
        {
          "output_type": "execute_result",
          "data": {
            "text/plain": [
              "(2772, 37)"
            ]
          },
          "metadata": {},
          "execution_count": 66
        }
      ]
    },
    {
      "cell_type": "code",
      "source": [
        "new_lead_train.head()"
      ],
      "metadata": {
        "colab": {
          "base_uri": "https://localhost:8080/",
          "height": 340
        },
        "id": "hv0KsGvHQ4X6",
        "outputId": "9954711d-de98-4dad-9e80-5dbbf3569d48"
      },
      "execution_count": 67,
      "outputs": [
        {
          "output_type": "execute_result",
          "data": {
            "text/plain": [
              "      Do Not Email  Converted  TotalVisits  Total Time Spent on Website  \\\n",
              "1871             0          0          0.0                            0   \n",
              "6795             0          0          4.0                          487   \n",
              "3516             0          0          5.0                          106   \n",
              "8105             0          0          5.0                         1230   \n",
              "3934             0          0          0.0                            0   \n",
              "\n",
              "      Page Views Per Visit  API  Landing Page Submission  Lead Add Form  \\\n",
              "1871                  0.00    1                        0              0   \n",
              "6795                  1.33    0                        1              0   \n",
              "3516                  2.50    1                        0              0   \n",
              "8105                  5.00    0                        1              0   \n",
              "3934                  0.00    1                        0              0   \n",
              "\n",
              "      Lead Import  Quick Add Form  Banking, Investment And Insurance  \\\n",
              "1871            0               0                                  0   \n",
              "6795            0               0                                  0   \n",
              "3516            0               0                                  0   \n",
              "8105            0               0                                  0   \n",
              "3934            0               0                                  0   \n",
              "\n",
              "      Business Administration  E-Business  E-COMMERCE  Finance Management  \\\n",
              "1871                        0           0           0                   0   \n",
              "6795                        0           0           0                   0   \n",
              "3516                        0           0           0                   0   \n",
              "8105                        0           0           0                   0   \n",
              "3934                        0           0           0                   0   \n",
              "\n",
              "      Healthcare Management  Hospitality Management  \\\n",
              "1871                      0                       0   \n",
              "6795                      0                       0   \n",
              "3516                      0                       0   \n",
              "8105                      0                       0   \n",
              "3934                      0                       0   \n",
              "\n",
              "      Human Resource Management  IT Projects Management  \\\n",
              "1871                          0                       0   \n",
              "6795                          0                       0   \n",
              "3516                          0                       0   \n",
              "8105                          0                       0   \n",
              "3934                          0                       0   \n",
              "\n",
              "      International Business  Marketing Management  Media and Advertising  \\\n",
              "1871                       0                     1                      0   \n",
              "6795                       0                     0                      0   \n",
              "3516                       0                     0                      0   \n",
              "8105                       0                     0                      0   \n",
              "3934                       0                     0                      0   \n",
              "\n",
              "      Operations Management  Retail Management  Rural and Agribusiness  \\\n",
              "1871                      0                  0                       0   \n",
              "6795                      0                  0                       0   \n",
              "3516                      0                  0                       0   \n",
              "8105                      0                  0                       0   \n",
              "3934                      0                  0                       0   \n",
              "\n",
              "      Services Excellence  Supply Chain Management  Travel and Tourism  \\\n",
              "1871                    0                        0                   0   \n",
              "6795                    0                        0                   0   \n",
              "3516                    0                        0                   0   \n",
              "8105                    1                        0                   0   \n",
              "3934                    0                        0                   0   \n",
              "\n",
              "      Businessman  Housewife  Other  Student  Unemployed  \\\n",
              "1871            0          0      0        0           1   \n",
              "6795            0          0      0        0           1   \n",
              "3516            0          0      0        0           1   \n",
              "8105            0          0      0        0           1   \n",
              "3934            0          0      0        0           1   \n",
              "\n",
              "      Working Professional  Better Career Prospects  \\\n",
              "1871                     0                        1   \n",
              "6795                     0                        1   \n",
              "3516                     0                        1   \n",
              "8105                     0                        1   \n",
              "3934                     0                        1   \n",
              "\n",
              "      Flexibility & Convenience  Other  \n",
              "1871                          0      0  \n",
              "6795                          0      0  \n",
              "3516                          0      0  \n",
              "8105                          0      0  \n",
              "3934                          0      0  "
            ],
            "text/html": [
              "\n",
              "  <div id=\"df-314a489d-e512-48b6-a3a2-05e77816991d\">\n",
              "    <div class=\"colab-df-container\">\n",
              "      <div>\n",
              "<style scoped>\n",
              "    .dataframe tbody tr th:only-of-type {\n",
              "        vertical-align: middle;\n",
              "    }\n",
              "\n",
              "    .dataframe tbody tr th {\n",
              "        vertical-align: top;\n",
              "    }\n",
              "\n",
              "    .dataframe thead th {\n",
              "        text-align: right;\n",
              "    }\n",
              "</style>\n",
              "<table border=\"1\" class=\"dataframe\">\n",
              "  <thead>\n",
              "    <tr style=\"text-align: right;\">\n",
              "      <th></th>\n",
              "      <th>Do Not Email</th>\n",
              "      <th>Converted</th>\n",
              "      <th>TotalVisits</th>\n",
              "      <th>Total Time Spent on Website</th>\n",
              "      <th>Page Views Per Visit</th>\n",
              "      <th>API</th>\n",
              "      <th>Landing Page Submission</th>\n",
              "      <th>Lead Add Form</th>\n",
              "      <th>Lead Import</th>\n",
              "      <th>Quick Add Form</th>\n",
              "      <th>Banking, Investment And Insurance</th>\n",
              "      <th>Business Administration</th>\n",
              "      <th>E-Business</th>\n",
              "      <th>E-COMMERCE</th>\n",
              "      <th>Finance Management</th>\n",
              "      <th>Healthcare Management</th>\n",
              "      <th>Hospitality Management</th>\n",
              "      <th>Human Resource Management</th>\n",
              "      <th>IT Projects Management</th>\n",
              "      <th>International Business</th>\n",
              "      <th>Marketing Management</th>\n",
              "      <th>Media and Advertising</th>\n",
              "      <th>Operations Management</th>\n",
              "      <th>Retail Management</th>\n",
              "      <th>Rural and Agribusiness</th>\n",
              "      <th>Services Excellence</th>\n",
              "      <th>Supply Chain Management</th>\n",
              "      <th>Travel and Tourism</th>\n",
              "      <th>Businessman</th>\n",
              "      <th>Housewife</th>\n",
              "      <th>Other</th>\n",
              "      <th>Student</th>\n",
              "      <th>Unemployed</th>\n",
              "      <th>Working Professional</th>\n",
              "      <th>Better Career Prospects</th>\n",
              "      <th>Flexibility &amp; Convenience</th>\n",
              "      <th>Other</th>\n",
              "    </tr>\n",
              "  </thead>\n",
              "  <tbody>\n",
              "    <tr>\n",
              "      <th>1871</th>\n",
              "      <td>0</td>\n",
              "      <td>0</td>\n",
              "      <td>0.0</td>\n",
              "      <td>0</td>\n",
              "      <td>0.00</td>\n",
              "      <td>1</td>\n",
              "      <td>0</td>\n",
              "      <td>0</td>\n",
              "      <td>0</td>\n",
              "      <td>0</td>\n",
              "      <td>0</td>\n",
              "      <td>0</td>\n",
              "      <td>0</td>\n",
              "      <td>0</td>\n",
              "      <td>0</td>\n",
              "      <td>0</td>\n",
              "      <td>0</td>\n",
              "      <td>0</td>\n",
              "      <td>0</td>\n",
              "      <td>0</td>\n",
              "      <td>1</td>\n",
              "      <td>0</td>\n",
              "      <td>0</td>\n",
              "      <td>0</td>\n",
              "      <td>0</td>\n",
              "      <td>0</td>\n",
              "      <td>0</td>\n",
              "      <td>0</td>\n",
              "      <td>0</td>\n",
              "      <td>0</td>\n",
              "      <td>0</td>\n",
              "      <td>0</td>\n",
              "      <td>1</td>\n",
              "      <td>0</td>\n",
              "      <td>1</td>\n",
              "      <td>0</td>\n",
              "      <td>0</td>\n",
              "    </tr>\n",
              "    <tr>\n",
              "      <th>6795</th>\n",
              "      <td>0</td>\n",
              "      <td>0</td>\n",
              "      <td>4.0</td>\n",
              "      <td>487</td>\n",
              "      <td>1.33</td>\n",
              "      <td>0</td>\n",
              "      <td>1</td>\n",
              "      <td>0</td>\n",
              "      <td>0</td>\n",
              "      <td>0</td>\n",
              "      <td>0</td>\n",
              "      <td>0</td>\n",
              "      <td>0</td>\n",
              "      <td>0</td>\n",
              "      <td>0</td>\n",
              "      <td>0</td>\n",
              "      <td>0</td>\n",
              "      <td>0</td>\n",
              "      <td>0</td>\n",
              "      <td>0</td>\n",
              "      <td>0</td>\n",
              "      <td>0</td>\n",
              "      <td>0</td>\n",
              "      <td>0</td>\n",
              "      <td>0</td>\n",
              "      <td>0</td>\n",
              "      <td>0</td>\n",
              "      <td>0</td>\n",
              "      <td>0</td>\n",
              "      <td>0</td>\n",
              "      <td>0</td>\n",
              "      <td>0</td>\n",
              "      <td>1</td>\n",
              "      <td>0</td>\n",
              "      <td>1</td>\n",
              "      <td>0</td>\n",
              "      <td>0</td>\n",
              "    </tr>\n",
              "    <tr>\n",
              "      <th>3516</th>\n",
              "      <td>0</td>\n",
              "      <td>0</td>\n",
              "      <td>5.0</td>\n",
              "      <td>106</td>\n",
              "      <td>2.50</td>\n",
              "      <td>1</td>\n",
              "      <td>0</td>\n",
              "      <td>0</td>\n",
              "      <td>0</td>\n",
              "      <td>0</td>\n",
              "      <td>0</td>\n",
              "      <td>0</td>\n",
              "      <td>0</td>\n",
              "      <td>0</td>\n",
              "      <td>0</td>\n",
              "      <td>0</td>\n",
              "      <td>0</td>\n",
              "      <td>0</td>\n",
              "      <td>0</td>\n",
              "      <td>0</td>\n",
              "      <td>0</td>\n",
              "      <td>0</td>\n",
              "      <td>0</td>\n",
              "      <td>0</td>\n",
              "      <td>0</td>\n",
              "      <td>0</td>\n",
              "      <td>0</td>\n",
              "      <td>0</td>\n",
              "      <td>0</td>\n",
              "      <td>0</td>\n",
              "      <td>0</td>\n",
              "      <td>0</td>\n",
              "      <td>1</td>\n",
              "      <td>0</td>\n",
              "      <td>1</td>\n",
              "      <td>0</td>\n",
              "      <td>0</td>\n",
              "    </tr>\n",
              "    <tr>\n",
              "      <th>8105</th>\n",
              "      <td>0</td>\n",
              "      <td>0</td>\n",
              "      <td>5.0</td>\n",
              "      <td>1230</td>\n",
              "      <td>5.00</td>\n",
              "      <td>0</td>\n",
              "      <td>1</td>\n",
              "      <td>0</td>\n",
              "      <td>0</td>\n",
              "      <td>0</td>\n",
              "      <td>0</td>\n",
              "      <td>0</td>\n",
              "      <td>0</td>\n",
              "      <td>0</td>\n",
              "      <td>0</td>\n",
              "      <td>0</td>\n",
              "      <td>0</td>\n",
              "      <td>0</td>\n",
              "      <td>0</td>\n",
              "      <td>0</td>\n",
              "      <td>0</td>\n",
              "      <td>0</td>\n",
              "      <td>0</td>\n",
              "      <td>0</td>\n",
              "      <td>0</td>\n",
              "      <td>1</td>\n",
              "      <td>0</td>\n",
              "      <td>0</td>\n",
              "      <td>0</td>\n",
              "      <td>0</td>\n",
              "      <td>0</td>\n",
              "      <td>0</td>\n",
              "      <td>1</td>\n",
              "      <td>0</td>\n",
              "      <td>1</td>\n",
              "      <td>0</td>\n",
              "      <td>0</td>\n",
              "    </tr>\n",
              "    <tr>\n",
              "      <th>3934</th>\n",
              "      <td>0</td>\n",
              "      <td>0</td>\n",
              "      <td>0.0</td>\n",
              "      <td>0</td>\n",
              "      <td>0.00</td>\n",
              "      <td>1</td>\n",
              "      <td>0</td>\n",
              "      <td>0</td>\n",
              "      <td>0</td>\n",
              "      <td>0</td>\n",
              "      <td>0</td>\n",
              "      <td>0</td>\n",
              "      <td>0</td>\n",
              "      <td>0</td>\n",
              "      <td>0</td>\n",
              "      <td>0</td>\n",
              "      <td>0</td>\n",
              "      <td>0</td>\n",
              "      <td>0</td>\n",
              "      <td>0</td>\n",
              "      <td>0</td>\n",
              "      <td>0</td>\n",
              "      <td>0</td>\n",
              "      <td>0</td>\n",
              "      <td>0</td>\n",
              "      <td>0</td>\n",
              "      <td>0</td>\n",
              "      <td>0</td>\n",
              "      <td>0</td>\n",
              "      <td>0</td>\n",
              "      <td>0</td>\n",
              "      <td>0</td>\n",
              "      <td>1</td>\n",
              "      <td>0</td>\n",
              "      <td>1</td>\n",
              "      <td>0</td>\n",
              "      <td>0</td>\n",
              "    </tr>\n",
              "  </tbody>\n",
              "</table>\n",
              "</div>\n",
              "      <button class=\"colab-df-convert\" onclick=\"convertToInteractive('df-314a489d-e512-48b6-a3a2-05e77816991d')\"\n",
              "              title=\"Convert this dataframe to an interactive table.\"\n",
              "              style=\"display:none;\">\n",
              "        \n",
              "  <svg xmlns=\"http://www.w3.org/2000/svg\" height=\"24px\"viewBox=\"0 0 24 24\"\n",
              "       width=\"24px\">\n",
              "    <path d=\"M0 0h24v24H0V0z\" fill=\"none\"/>\n",
              "    <path d=\"M18.56 5.44l.94 2.06.94-2.06 2.06-.94-2.06-.94-.94-2.06-.94 2.06-2.06.94zm-11 1L8.5 8.5l.94-2.06 2.06-.94-2.06-.94L8.5 2.5l-.94 2.06-2.06.94zm10 10l.94 2.06.94-2.06 2.06-.94-2.06-.94-.94-2.06-.94 2.06-2.06.94z\"/><path d=\"M17.41 7.96l-1.37-1.37c-.4-.4-.92-.59-1.43-.59-.52 0-1.04.2-1.43.59L10.3 9.45l-7.72 7.72c-.78.78-.78 2.05 0 2.83L4 21.41c.39.39.9.59 1.41.59.51 0 1.02-.2 1.41-.59l7.78-7.78 2.81-2.81c.8-.78.8-2.07 0-2.86zM5.41 20L4 18.59l7.72-7.72 1.47 1.35L5.41 20z\"/>\n",
              "  </svg>\n",
              "      </button>\n",
              "      \n",
              "  <style>\n",
              "    .colab-df-container {\n",
              "      display:flex;\n",
              "      flex-wrap:wrap;\n",
              "      gap: 12px;\n",
              "    }\n",
              "\n",
              "    .colab-df-convert {\n",
              "      background-color: #E8F0FE;\n",
              "      border: none;\n",
              "      border-radius: 50%;\n",
              "      cursor: pointer;\n",
              "      display: none;\n",
              "      fill: #1967D2;\n",
              "      height: 32px;\n",
              "      padding: 0 0 0 0;\n",
              "      width: 32px;\n",
              "    }\n",
              "\n",
              "    .colab-df-convert:hover {\n",
              "      background-color: #E2EBFA;\n",
              "      box-shadow: 0px 1px 2px rgba(60, 64, 67, 0.3), 0px 1px 3px 1px rgba(60, 64, 67, 0.15);\n",
              "      fill: #174EA6;\n",
              "    }\n",
              "\n",
              "    [theme=dark] .colab-df-convert {\n",
              "      background-color: #3B4455;\n",
              "      fill: #D2E3FC;\n",
              "    }\n",
              "\n",
              "    [theme=dark] .colab-df-convert:hover {\n",
              "      background-color: #434B5C;\n",
              "      box-shadow: 0px 1px 3px 1px rgba(0, 0, 0, 0.15);\n",
              "      filter: drop-shadow(0px 1px 2px rgba(0, 0, 0, 0.3));\n",
              "      fill: #FFFFFF;\n",
              "    }\n",
              "  </style>\n",
              "\n",
              "      <script>\n",
              "        const buttonEl =\n",
              "          document.querySelector('#df-314a489d-e512-48b6-a3a2-05e77816991d button.colab-df-convert');\n",
              "        buttonEl.style.display =\n",
              "          google.colab.kernel.accessAllowed ? 'block' : 'none';\n",
              "\n",
              "        async function convertToInteractive(key) {\n",
              "          const element = document.querySelector('#df-314a489d-e512-48b6-a3a2-05e77816991d');\n",
              "          const dataTable =\n",
              "            await google.colab.kernel.invokeFunction('convertToInteractive',\n",
              "                                                     [key], {});\n",
              "          if (!dataTable) return;\n",
              "\n",
              "          const docLinkHtml = 'Like what you see? Visit the ' +\n",
              "            '<a target=\"_blank\" href=https://colab.research.google.com/notebooks/data_table.ipynb>data table notebook</a>'\n",
              "            + ' to learn more about interactive tables.';\n",
              "          element.innerHTML = '';\n",
              "          dataTable['output_type'] = 'display_data';\n",
              "          await google.colab.output.renderOutput(dataTable, element);\n",
              "          const docLink = document.createElement('div');\n",
              "          docLink.innerHTML = docLinkHtml;\n",
              "          element.appendChild(docLink);\n",
              "        }\n",
              "      </script>\n",
              "    </div>\n",
              "  </div>\n",
              "  "
            ]
          },
          "metadata": {},
          "execution_count": 67
        }
      ]
    },
    {
      "cell_type": "code",
      "source": [
        "new_lead_train.describe()"
      ],
      "metadata": {
        "colab": {
          "base_uri": "https://localhost:8080/",
          "height": 416
        },
        "id": "UP9otkQBRlWs",
        "outputId": "f480e45a-bdbf-4897-b094-b1a13f86d18c"
      },
      "execution_count": 68,
      "outputs": [
        {
          "output_type": "execute_result",
          "data": {
            "text/plain": [
              "       Do Not Email    Converted  TotalVisits  Total Time Spent on Website  \\\n",
              "count   6468.000000  6468.000000  6468.000000                  6468.000000   \n",
              "mean       0.078386     0.381262     3.089827                   483.875850   \n",
              "std        0.268799     0.485734     3.034843                   546.565663   \n",
              "min        0.000000     0.000000    -5.000000                     0.000000   \n",
              "25%        0.000000     0.000000     0.000000                    12.000000   \n",
              "50%        0.000000     0.000000     3.000000                   246.000000   \n",
              "75%        0.000000     1.000000     5.000000                   926.500000   \n",
              "max        1.000000     1.000000    11.000000                  2272.000000   \n",
              "\n",
              "       Page Views Per Visit          API  Landing Page Submission  \\\n",
              "count           6468.000000  6468.000000              6468.000000   \n",
              "mean               2.184306     0.387137                 0.528139   \n",
              "std                1.847830     0.487133                 0.499246   \n",
              "min               -2.000000     0.000000                 0.000000   \n",
              "25%                0.000000     0.000000                 0.000000   \n",
              "50%                2.000000     0.000000                 1.000000   \n",
              "75%                3.000000     1.000000                 1.000000   \n",
              "max                6.000000     1.000000                 1.000000   \n",
              "\n",
              "       Lead Add Form  Lead Import  Quick Add Form  \\\n",
              "count    6468.000000  6468.000000     6468.000000   \n",
              "mean        0.079468     0.005102        0.000155   \n",
              "std         0.270489     0.071252        0.012434   \n",
              "min         0.000000     0.000000        0.000000   \n",
              "25%         0.000000     0.000000        0.000000   \n",
              "50%         0.000000     0.000000        0.000000   \n",
              "75%         0.000000     0.000000        0.000000   \n",
              "max         1.000000     1.000000        1.000000   \n",
              "\n",
              "       Banking, Investment And Insurance  Business Administration  \\\n",
              "count                        6468.000000              6468.000000   \n",
              "mean                            0.035096                 0.043599   \n",
              "std                             0.184036                 0.204218   \n",
              "min                             0.000000                 0.000000   \n",
              "25%                             0.000000                 0.000000   \n",
              "50%                             0.000000                 0.000000   \n",
              "75%                             0.000000                 0.000000   \n",
              "max                             1.000000                 1.000000   \n",
              "\n",
              "        E-Business   E-COMMERCE  Finance Management  Healthcare Management  \\\n",
              "count  6468.000000  6468.000000         6468.000000            6468.000000   \n",
              "mean      0.005720     0.012987            0.105442               0.015615   \n",
              "std       0.075423     0.113227            0.307146               0.123991   \n",
              "min       0.000000     0.000000            0.000000               0.000000   \n",
              "25%       0.000000     0.000000            0.000000               0.000000   \n",
              "50%       0.000000     0.000000            0.000000               0.000000   \n",
              "75%       0.000000     0.000000            0.000000               0.000000   \n",
              "max       1.000000     1.000000            1.000000               1.000000   \n",
              "\n",
              "       Hospitality Management  Human Resource Management  \\\n",
              "count             6468.000000                6468.000000   \n",
              "mean                 0.013451                   0.091682   \n",
              "std                  0.115204                   0.288599   \n",
              "min                  0.000000                   0.000000   \n",
              "25%                  0.000000                   0.000000   \n",
              "50%                  0.000000                   0.000000   \n",
              "75%                  0.000000                   0.000000   \n",
              "max                  1.000000                   1.000000   \n",
              "\n",
              "       IT Projects Management  International Business  Marketing Management  \\\n",
              "count             6468.000000             6468.000000           6468.000000   \n",
              "mean                 0.037260                0.018707              0.093383   \n",
              "std                  0.189414                0.135500              0.290991   \n",
              "min                  0.000000                0.000000              0.000000   \n",
              "25%                  0.000000                0.000000              0.000000   \n",
              "50%                  0.000000                0.000000              0.000000   \n",
              "75%                  0.000000                0.000000              0.000000   \n",
              "max                  1.000000                1.000000              1.000000   \n",
              "\n",
              "       Media and Advertising  Operations Management  Retail Management  \\\n",
              "count            6468.000000            6468.000000        6468.000000   \n",
              "mean                0.020563               0.057205           0.010823   \n",
              "std                 0.141926               0.232251           0.103475   \n",
              "min                 0.000000               0.000000           0.000000   \n",
              "25%                 0.000000               0.000000           0.000000   \n",
              "50%                 0.000000               0.000000           0.000000   \n",
              "75%                 0.000000               0.000000           0.000000   \n",
              "max                 1.000000               1.000000           1.000000   \n",
              "\n",
              "       Rural and Agribusiness  Services Excellence  Supply Chain Management  \\\n",
              "count             6468.000000          6468.000000              6468.000000   \n",
              "mean                 0.007267             0.004793                 0.037570   \n",
              "std                  0.084940             0.069069                 0.190168   \n",
              "min                  0.000000             0.000000                 0.000000   \n",
              "25%                  0.000000             0.000000                 0.000000   \n",
              "50%                  0.000000             0.000000                 0.000000   \n",
              "75%                  0.000000             0.000000                 0.000000   \n",
              "max                  1.000000             1.000000                 1.000000   \n",
              "\n",
              "       Travel and Tourism  Businessman    Housewife        Other      Student  \\\n",
              "count         6468.000000  6468.000000  6468.000000  6468.000000  6468.000000   \n",
              "mean             0.021336     0.000928     0.001391     0.001237     0.021027   \n",
              "std              0.144512     0.030445     0.037279     0.035150     0.143484   \n",
              "min              0.000000     0.000000     0.000000     0.000000     0.000000   \n",
              "25%              0.000000     0.000000     0.000000     0.000000     0.000000   \n",
              "50%              0.000000     0.000000     0.000000     0.000000     0.000000   \n",
              "75%              0.000000     0.000000     0.000000     0.000000     0.000000   \n",
              "max              1.000000     1.000000     1.000000     1.000000     1.000000   \n",
              "\n",
              "        Unemployed  Working Professional  Better Career Prospects  \\\n",
              "count  6468.000000           6468.000000              6468.000000   \n",
              "mean      0.605133              0.077613                 0.704855   \n",
              "std       0.488860              0.267582                 0.456143   \n",
              "min       0.000000              0.000000                 0.000000   \n",
              "25%       0.000000              0.000000                 0.000000   \n",
              "50%       1.000000              0.000000                 1.000000   \n",
              "75%       1.000000              0.000000                 1.000000   \n",
              "max       1.000000              1.000000                 1.000000   \n",
              "\n",
              "       Flexibility & Convenience        Other  \n",
              "count                6468.000000  6468.000000  \n",
              "mean                    0.000309     0.000155  \n",
              "std                     0.017583     0.012434  \n",
              "min                     0.000000     0.000000  \n",
              "25%                     0.000000     0.000000  \n",
              "50%                     0.000000     0.000000  \n",
              "75%                     0.000000     0.000000  \n",
              "max                     1.000000     1.000000  "
            ],
            "text/html": [
              "\n",
              "  <div id=\"df-5fea6b8c-db1d-4a69-b7b0-bab4e4a7156d\">\n",
              "    <div class=\"colab-df-container\">\n",
              "      <div>\n",
              "<style scoped>\n",
              "    .dataframe tbody tr th:only-of-type {\n",
              "        vertical-align: middle;\n",
              "    }\n",
              "\n",
              "    .dataframe tbody tr th {\n",
              "        vertical-align: top;\n",
              "    }\n",
              "\n",
              "    .dataframe thead th {\n",
              "        text-align: right;\n",
              "    }\n",
              "</style>\n",
              "<table border=\"1\" class=\"dataframe\">\n",
              "  <thead>\n",
              "    <tr style=\"text-align: right;\">\n",
              "      <th></th>\n",
              "      <th>Do Not Email</th>\n",
              "      <th>Converted</th>\n",
              "      <th>TotalVisits</th>\n",
              "      <th>Total Time Spent on Website</th>\n",
              "      <th>Page Views Per Visit</th>\n",
              "      <th>API</th>\n",
              "      <th>Landing Page Submission</th>\n",
              "      <th>Lead Add Form</th>\n",
              "      <th>Lead Import</th>\n",
              "      <th>Quick Add Form</th>\n",
              "      <th>Banking, Investment And Insurance</th>\n",
              "      <th>Business Administration</th>\n",
              "      <th>E-Business</th>\n",
              "      <th>E-COMMERCE</th>\n",
              "      <th>Finance Management</th>\n",
              "      <th>Healthcare Management</th>\n",
              "      <th>Hospitality Management</th>\n",
              "      <th>Human Resource Management</th>\n",
              "      <th>IT Projects Management</th>\n",
              "      <th>International Business</th>\n",
              "      <th>Marketing Management</th>\n",
              "      <th>Media and Advertising</th>\n",
              "      <th>Operations Management</th>\n",
              "      <th>Retail Management</th>\n",
              "      <th>Rural and Agribusiness</th>\n",
              "      <th>Services Excellence</th>\n",
              "      <th>Supply Chain Management</th>\n",
              "      <th>Travel and Tourism</th>\n",
              "      <th>Businessman</th>\n",
              "      <th>Housewife</th>\n",
              "      <th>Other</th>\n",
              "      <th>Student</th>\n",
              "      <th>Unemployed</th>\n",
              "      <th>Working Professional</th>\n",
              "      <th>Better Career Prospects</th>\n",
              "      <th>Flexibility &amp; Convenience</th>\n",
              "      <th>Other</th>\n",
              "    </tr>\n",
              "  </thead>\n",
              "  <tbody>\n",
              "    <tr>\n",
              "      <th>count</th>\n",
              "      <td>6468.000000</td>\n",
              "      <td>6468.000000</td>\n",
              "      <td>6468.000000</td>\n",
              "      <td>6468.000000</td>\n",
              "      <td>6468.000000</td>\n",
              "      <td>6468.000000</td>\n",
              "      <td>6468.000000</td>\n",
              "      <td>6468.000000</td>\n",
              "      <td>6468.000000</td>\n",
              "      <td>6468.000000</td>\n",
              "      <td>6468.000000</td>\n",
              "      <td>6468.000000</td>\n",
              "      <td>6468.000000</td>\n",
              "      <td>6468.000000</td>\n",
              "      <td>6468.000000</td>\n",
              "      <td>6468.000000</td>\n",
              "      <td>6468.000000</td>\n",
              "      <td>6468.000000</td>\n",
              "      <td>6468.000000</td>\n",
              "      <td>6468.000000</td>\n",
              "      <td>6468.000000</td>\n",
              "      <td>6468.000000</td>\n",
              "      <td>6468.000000</td>\n",
              "      <td>6468.000000</td>\n",
              "      <td>6468.000000</td>\n",
              "      <td>6468.000000</td>\n",
              "      <td>6468.000000</td>\n",
              "      <td>6468.000000</td>\n",
              "      <td>6468.000000</td>\n",
              "      <td>6468.000000</td>\n",
              "      <td>6468.000000</td>\n",
              "      <td>6468.000000</td>\n",
              "      <td>6468.000000</td>\n",
              "      <td>6468.000000</td>\n",
              "      <td>6468.000000</td>\n",
              "      <td>6468.000000</td>\n",
              "      <td>6468.000000</td>\n",
              "    </tr>\n",
              "    <tr>\n",
              "      <th>mean</th>\n",
              "      <td>0.078386</td>\n",
              "      <td>0.381262</td>\n",
              "      <td>3.089827</td>\n",
              "      <td>483.875850</td>\n",
              "      <td>2.184306</td>\n",
              "      <td>0.387137</td>\n",
              "      <td>0.528139</td>\n",
              "      <td>0.079468</td>\n",
              "      <td>0.005102</td>\n",
              "      <td>0.000155</td>\n",
              "      <td>0.035096</td>\n",
              "      <td>0.043599</td>\n",
              "      <td>0.005720</td>\n",
              "      <td>0.012987</td>\n",
              "      <td>0.105442</td>\n",
              "      <td>0.015615</td>\n",
              "      <td>0.013451</td>\n",
              "      <td>0.091682</td>\n",
              "      <td>0.037260</td>\n",
              "      <td>0.018707</td>\n",
              "      <td>0.093383</td>\n",
              "      <td>0.020563</td>\n",
              "      <td>0.057205</td>\n",
              "      <td>0.010823</td>\n",
              "      <td>0.007267</td>\n",
              "      <td>0.004793</td>\n",
              "      <td>0.037570</td>\n",
              "      <td>0.021336</td>\n",
              "      <td>0.000928</td>\n",
              "      <td>0.001391</td>\n",
              "      <td>0.001237</td>\n",
              "      <td>0.021027</td>\n",
              "      <td>0.605133</td>\n",
              "      <td>0.077613</td>\n",
              "      <td>0.704855</td>\n",
              "      <td>0.000309</td>\n",
              "      <td>0.000155</td>\n",
              "    </tr>\n",
              "    <tr>\n",
              "      <th>std</th>\n",
              "      <td>0.268799</td>\n",
              "      <td>0.485734</td>\n",
              "      <td>3.034843</td>\n",
              "      <td>546.565663</td>\n",
              "      <td>1.847830</td>\n",
              "      <td>0.487133</td>\n",
              "      <td>0.499246</td>\n",
              "      <td>0.270489</td>\n",
              "      <td>0.071252</td>\n",
              "      <td>0.012434</td>\n",
              "      <td>0.184036</td>\n",
              "      <td>0.204218</td>\n",
              "      <td>0.075423</td>\n",
              "      <td>0.113227</td>\n",
              "      <td>0.307146</td>\n",
              "      <td>0.123991</td>\n",
              "      <td>0.115204</td>\n",
              "      <td>0.288599</td>\n",
              "      <td>0.189414</td>\n",
              "      <td>0.135500</td>\n",
              "      <td>0.290991</td>\n",
              "      <td>0.141926</td>\n",
              "      <td>0.232251</td>\n",
              "      <td>0.103475</td>\n",
              "      <td>0.084940</td>\n",
              "      <td>0.069069</td>\n",
              "      <td>0.190168</td>\n",
              "      <td>0.144512</td>\n",
              "      <td>0.030445</td>\n",
              "      <td>0.037279</td>\n",
              "      <td>0.035150</td>\n",
              "      <td>0.143484</td>\n",
              "      <td>0.488860</td>\n",
              "      <td>0.267582</td>\n",
              "      <td>0.456143</td>\n",
              "      <td>0.017583</td>\n",
              "      <td>0.012434</td>\n",
              "    </tr>\n",
              "    <tr>\n",
              "      <th>min</th>\n",
              "      <td>0.000000</td>\n",
              "      <td>0.000000</td>\n",
              "      <td>-5.000000</td>\n",
              "      <td>0.000000</td>\n",
              "      <td>-2.000000</td>\n",
              "      <td>0.000000</td>\n",
              "      <td>0.000000</td>\n",
              "      <td>0.000000</td>\n",
              "      <td>0.000000</td>\n",
              "      <td>0.000000</td>\n",
              "      <td>0.000000</td>\n",
              "      <td>0.000000</td>\n",
              "      <td>0.000000</td>\n",
              "      <td>0.000000</td>\n",
              "      <td>0.000000</td>\n",
              "      <td>0.000000</td>\n",
              "      <td>0.000000</td>\n",
              "      <td>0.000000</td>\n",
              "      <td>0.000000</td>\n",
              "      <td>0.000000</td>\n",
              "      <td>0.000000</td>\n",
              "      <td>0.000000</td>\n",
              "      <td>0.000000</td>\n",
              "      <td>0.000000</td>\n",
              "      <td>0.000000</td>\n",
              "      <td>0.000000</td>\n",
              "      <td>0.000000</td>\n",
              "      <td>0.000000</td>\n",
              "      <td>0.000000</td>\n",
              "      <td>0.000000</td>\n",
              "      <td>0.000000</td>\n",
              "      <td>0.000000</td>\n",
              "      <td>0.000000</td>\n",
              "      <td>0.000000</td>\n",
              "      <td>0.000000</td>\n",
              "      <td>0.000000</td>\n",
              "      <td>0.000000</td>\n",
              "    </tr>\n",
              "    <tr>\n",
              "      <th>25%</th>\n",
              "      <td>0.000000</td>\n",
              "      <td>0.000000</td>\n",
              "      <td>0.000000</td>\n",
              "      <td>12.000000</td>\n",
              "      <td>0.000000</td>\n",
              "      <td>0.000000</td>\n",
              "      <td>0.000000</td>\n",
              "      <td>0.000000</td>\n",
              "      <td>0.000000</td>\n",
              "      <td>0.000000</td>\n",
              "      <td>0.000000</td>\n",
              "      <td>0.000000</td>\n",
              "      <td>0.000000</td>\n",
              "      <td>0.000000</td>\n",
              "      <td>0.000000</td>\n",
              "      <td>0.000000</td>\n",
              "      <td>0.000000</td>\n",
              "      <td>0.000000</td>\n",
              "      <td>0.000000</td>\n",
              "      <td>0.000000</td>\n",
              "      <td>0.000000</td>\n",
              "      <td>0.000000</td>\n",
              "      <td>0.000000</td>\n",
              "      <td>0.000000</td>\n",
              "      <td>0.000000</td>\n",
              "      <td>0.000000</td>\n",
              "      <td>0.000000</td>\n",
              "      <td>0.000000</td>\n",
              "      <td>0.000000</td>\n",
              "      <td>0.000000</td>\n",
              "      <td>0.000000</td>\n",
              "      <td>0.000000</td>\n",
              "      <td>0.000000</td>\n",
              "      <td>0.000000</td>\n",
              "      <td>0.000000</td>\n",
              "      <td>0.000000</td>\n",
              "      <td>0.000000</td>\n",
              "    </tr>\n",
              "    <tr>\n",
              "      <th>50%</th>\n",
              "      <td>0.000000</td>\n",
              "      <td>0.000000</td>\n",
              "      <td>3.000000</td>\n",
              "      <td>246.000000</td>\n",
              "      <td>2.000000</td>\n",
              "      <td>0.000000</td>\n",
              "      <td>1.000000</td>\n",
              "      <td>0.000000</td>\n",
              "      <td>0.000000</td>\n",
              "      <td>0.000000</td>\n",
              "      <td>0.000000</td>\n",
              "      <td>0.000000</td>\n",
              "      <td>0.000000</td>\n",
              "      <td>0.000000</td>\n",
              "      <td>0.000000</td>\n",
              "      <td>0.000000</td>\n",
              "      <td>0.000000</td>\n",
              "      <td>0.000000</td>\n",
              "      <td>0.000000</td>\n",
              "      <td>0.000000</td>\n",
              "      <td>0.000000</td>\n",
              "      <td>0.000000</td>\n",
              "      <td>0.000000</td>\n",
              "      <td>0.000000</td>\n",
              "      <td>0.000000</td>\n",
              "      <td>0.000000</td>\n",
              "      <td>0.000000</td>\n",
              "      <td>0.000000</td>\n",
              "      <td>0.000000</td>\n",
              "      <td>0.000000</td>\n",
              "      <td>0.000000</td>\n",
              "      <td>0.000000</td>\n",
              "      <td>1.000000</td>\n",
              "      <td>0.000000</td>\n",
              "      <td>1.000000</td>\n",
              "      <td>0.000000</td>\n",
              "      <td>0.000000</td>\n",
              "    </tr>\n",
              "    <tr>\n",
              "      <th>75%</th>\n",
              "      <td>0.000000</td>\n",
              "      <td>1.000000</td>\n",
              "      <td>5.000000</td>\n",
              "      <td>926.500000</td>\n",
              "      <td>3.000000</td>\n",
              "      <td>1.000000</td>\n",
              "      <td>1.000000</td>\n",
              "      <td>0.000000</td>\n",
              "      <td>0.000000</td>\n",
              "      <td>0.000000</td>\n",
              "      <td>0.000000</td>\n",
              "      <td>0.000000</td>\n",
              "      <td>0.000000</td>\n",
              "      <td>0.000000</td>\n",
              "      <td>0.000000</td>\n",
              "      <td>0.000000</td>\n",
              "      <td>0.000000</td>\n",
              "      <td>0.000000</td>\n",
              "      <td>0.000000</td>\n",
              "      <td>0.000000</td>\n",
              "      <td>0.000000</td>\n",
              "      <td>0.000000</td>\n",
              "      <td>0.000000</td>\n",
              "      <td>0.000000</td>\n",
              "      <td>0.000000</td>\n",
              "      <td>0.000000</td>\n",
              "      <td>0.000000</td>\n",
              "      <td>0.000000</td>\n",
              "      <td>0.000000</td>\n",
              "      <td>0.000000</td>\n",
              "      <td>0.000000</td>\n",
              "      <td>0.000000</td>\n",
              "      <td>1.000000</td>\n",
              "      <td>0.000000</td>\n",
              "      <td>1.000000</td>\n",
              "      <td>0.000000</td>\n",
              "      <td>0.000000</td>\n",
              "    </tr>\n",
              "    <tr>\n",
              "      <th>max</th>\n",
              "      <td>1.000000</td>\n",
              "      <td>1.000000</td>\n",
              "      <td>11.000000</td>\n",
              "      <td>2272.000000</td>\n",
              "      <td>6.000000</td>\n",
              "      <td>1.000000</td>\n",
              "      <td>1.000000</td>\n",
              "      <td>1.000000</td>\n",
              "      <td>1.000000</td>\n",
              "      <td>1.000000</td>\n",
              "      <td>1.000000</td>\n",
              "      <td>1.000000</td>\n",
              "      <td>1.000000</td>\n",
              "      <td>1.000000</td>\n",
              "      <td>1.000000</td>\n",
              "      <td>1.000000</td>\n",
              "      <td>1.000000</td>\n",
              "      <td>1.000000</td>\n",
              "      <td>1.000000</td>\n",
              "      <td>1.000000</td>\n",
              "      <td>1.000000</td>\n",
              "      <td>1.000000</td>\n",
              "      <td>1.000000</td>\n",
              "      <td>1.000000</td>\n",
              "      <td>1.000000</td>\n",
              "      <td>1.000000</td>\n",
              "      <td>1.000000</td>\n",
              "      <td>1.000000</td>\n",
              "      <td>1.000000</td>\n",
              "      <td>1.000000</td>\n",
              "      <td>1.000000</td>\n",
              "      <td>1.000000</td>\n",
              "      <td>1.000000</td>\n",
              "      <td>1.000000</td>\n",
              "      <td>1.000000</td>\n",
              "      <td>1.000000</td>\n",
              "      <td>1.000000</td>\n",
              "    </tr>\n",
              "  </tbody>\n",
              "</table>\n",
              "</div>\n",
              "      <button class=\"colab-df-convert\" onclick=\"convertToInteractive('df-5fea6b8c-db1d-4a69-b7b0-bab4e4a7156d')\"\n",
              "              title=\"Convert this dataframe to an interactive table.\"\n",
              "              style=\"display:none;\">\n",
              "        \n",
              "  <svg xmlns=\"http://www.w3.org/2000/svg\" height=\"24px\"viewBox=\"0 0 24 24\"\n",
              "       width=\"24px\">\n",
              "    <path d=\"M0 0h24v24H0V0z\" fill=\"none\"/>\n",
              "    <path d=\"M18.56 5.44l.94 2.06.94-2.06 2.06-.94-2.06-.94-.94-2.06-.94 2.06-2.06.94zm-11 1L8.5 8.5l.94-2.06 2.06-.94-2.06-.94L8.5 2.5l-.94 2.06-2.06.94zm10 10l.94 2.06.94-2.06 2.06-.94-2.06-.94-.94-2.06-.94 2.06-2.06.94z\"/><path d=\"M17.41 7.96l-1.37-1.37c-.4-.4-.92-.59-1.43-.59-.52 0-1.04.2-1.43.59L10.3 9.45l-7.72 7.72c-.78.78-.78 2.05 0 2.83L4 21.41c.39.39.9.59 1.41.59.51 0 1.02-.2 1.41-.59l7.78-7.78 2.81-2.81c.8-.78.8-2.07 0-2.86zM5.41 20L4 18.59l7.72-7.72 1.47 1.35L5.41 20z\"/>\n",
              "  </svg>\n",
              "      </button>\n",
              "      \n",
              "  <style>\n",
              "    .colab-df-container {\n",
              "      display:flex;\n",
              "      flex-wrap:wrap;\n",
              "      gap: 12px;\n",
              "    }\n",
              "\n",
              "    .colab-df-convert {\n",
              "      background-color: #E8F0FE;\n",
              "      border: none;\n",
              "      border-radius: 50%;\n",
              "      cursor: pointer;\n",
              "      display: none;\n",
              "      fill: #1967D2;\n",
              "      height: 32px;\n",
              "      padding: 0 0 0 0;\n",
              "      width: 32px;\n",
              "    }\n",
              "\n",
              "    .colab-df-convert:hover {\n",
              "      background-color: #E2EBFA;\n",
              "      box-shadow: 0px 1px 2px rgba(60, 64, 67, 0.3), 0px 1px 3px 1px rgba(60, 64, 67, 0.15);\n",
              "      fill: #174EA6;\n",
              "    }\n",
              "\n",
              "    [theme=dark] .colab-df-convert {\n",
              "      background-color: #3B4455;\n",
              "      fill: #D2E3FC;\n",
              "    }\n",
              "\n",
              "    [theme=dark] .colab-df-convert:hover {\n",
              "      background-color: #434B5C;\n",
              "      box-shadow: 0px 1px 3px 1px rgba(0, 0, 0, 0.15);\n",
              "      filter: drop-shadow(0px 1px 2px rgba(0, 0, 0, 0.3));\n",
              "      fill: #FFFFFF;\n",
              "    }\n",
              "  </style>\n",
              "\n",
              "      <script>\n",
              "        const buttonEl =\n",
              "          document.querySelector('#df-5fea6b8c-db1d-4a69-b7b0-bab4e4a7156d button.colab-df-convert');\n",
              "        buttonEl.style.display =\n",
              "          google.colab.kernel.accessAllowed ? 'block' : 'none';\n",
              "\n",
              "        async function convertToInteractive(key) {\n",
              "          const element = document.querySelector('#df-5fea6b8c-db1d-4a69-b7b0-bab4e4a7156d');\n",
              "          const dataTable =\n",
              "            await google.colab.kernel.invokeFunction('convertToInteractive',\n",
              "                                                     [key], {});\n",
              "          if (!dataTable) return;\n",
              "\n",
              "          const docLinkHtml = 'Like what you see? Visit the ' +\n",
              "            '<a target=\"_blank\" href=https://colab.research.google.com/notebooks/data_table.ipynb>data table notebook</a>'\n",
              "            + ' to learn more about interactive tables.';\n",
              "          element.innerHTML = '';\n",
              "          dataTable['output_type'] = 'display_data';\n",
              "          await google.colab.output.renderOutput(dataTable, element);\n",
              "          const docLink = document.createElement('div');\n",
              "          docLink.innerHTML = docLinkHtml;\n",
              "          element.appendChild(docLink);\n",
              "        }\n",
              "      </script>\n",
              "    </div>\n",
              "  </div>\n",
              "  "
            ]
          },
          "metadata": {},
          "execution_count": 68
        }
      ]
    },
    {
      "cell_type": "markdown",
      "source": [
        "Scaling using MinMaxScaler for total view, page view and total timespent on website"
      ],
      "metadata": {
        "id": "fWp3NzHDlqFQ"
      }
    },
    {
      "cell_type": "code",
      "source": [
        "scaler=MinMaxScaler()"
      ],
      "metadata": {
        "id": "hCIQVnj2m2Fd"
      },
      "execution_count": 69,
      "outputs": []
    },
    {
      "cell_type": "markdown",
      "source": [
        "scaling train set"
      ],
      "metadata": {
        "id": "9BatJwYSpmbB"
      }
    },
    {
      "cell_type": "code",
      "source": [
        "list_of_columns_to_scale=['TotalVisits','Total Time Spent on Website','Page Views Per Visit']\n",
        "new_lead_train[list_of_columns_to_scale]=scaler.fit_transform(new_lead_train[list_of_columns_to_scale])"
      ],
      "metadata": {
        "id": "Gw7eOc5zTQm1"
      },
      "execution_count": 70,
      "outputs": []
    },
    {
      "cell_type": "code",
      "source": [
        "new_lead_train.head()"
      ],
      "metadata": {
        "colab": {
          "base_uri": "https://localhost:8080/",
          "height": 340
        },
        "id": "3YBxX7aNnRzd",
        "outputId": "4cfb7dc3-91b9-483e-c733-63ba741c2c41"
      },
      "execution_count": 71,
      "outputs": [
        {
          "output_type": "execute_result",
          "data": {
            "text/plain": [
              "      Do Not Email  Converted  TotalVisits  Total Time Spent on Website  \\\n",
              "1871             0          0       0.3125                     0.000000   \n",
              "6795             0          0       0.5625                     0.214349   \n",
              "3516             0          0       0.6250                     0.046655   \n",
              "8105             0          0       0.6250                     0.541373   \n",
              "3934             0          0       0.3125                     0.000000   \n",
              "\n",
              "      Page Views Per Visit  API  Landing Page Submission  Lead Add Form  \\\n",
              "1871               0.25000    1                        0              0   \n",
              "6795               0.41625    0                        1              0   \n",
              "3516               0.56250    1                        0              0   \n",
              "8105               0.87500    0                        1              0   \n",
              "3934               0.25000    1                        0              0   \n",
              "\n",
              "      Lead Import  Quick Add Form  Banking, Investment And Insurance  \\\n",
              "1871            0               0                                  0   \n",
              "6795            0               0                                  0   \n",
              "3516            0               0                                  0   \n",
              "8105            0               0                                  0   \n",
              "3934            0               0                                  0   \n",
              "\n",
              "      Business Administration  E-Business  E-COMMERCE  Finance Management  \\\n",
              "1871                        0           0           0                   0   \n",
              "6795                        0           0           0                   0   \n",
              "3516                        0           0           0                   0   \n",
              "8105                        0           0           0                   0   \n",
              "3934                        0           0           0                   0   \n",
              "\n",
              "      Healthcare Management  Hospitality Management  \\\n",
              "1871                      0                       0   \n",
              "6795                      0                       0   \n",
              "3516                      0                       0   \n",
              "8105                      0                       0   \n",
              "3934                      0                       0   \n",
              "\n",
              "      Human Resource Management  IT Projects Management  \\\n",
              "1871                          0                       0   \n",
              "6795                          0                       0   \n",
              "3516                          0                       0   \n",
              "8105                          0                       0   \n",
              "3934                          0                       0   \n",
              "\n",
              "      International Business  Marketing Management  Media and Advertising  \\\n",
              "1871                       0                     1                      0   \n",
              "6795                       0                     0                      0   \n",
              "3516                       0                     0                      0   \n",
              "8105                       0                     0                      0   \n",
              "3934                       0                     0                      0   \n",
              "\n",
              "      Operations Management  Retail Management  Rural and Agribusiness  \\\n",
              "1871                      0                  0                       0   \n",
              "6795                      0                  0                       0   \n",
              "3516                      0                  0                       0   \n",
              "8105                      0                  0                       0   \n",
              "3934                      0                  0                       0   \n",
              "\n",
              "      Services Excellence  Supply Chain Management  Travel and Tourism  \\\n",
              "1871                    0                        0                   0   \n",
              "6795                    0                        0                   0   \n",
              "3516                    0                        0                   0   \n",
              "8105                    1                        0                   0   \n",
              "3934                    0                        0                   0   \n",
              "\n",
              "      Businessman  Housewife  Other  Student  Unemployed  \\\n",
              "1871            0          0      0        0           1   \n",
              "6795            0          0      0        0           1   \n",
              "3516            0          0      0        0           1   \n",
              "8105            0          0      0        0           1   \n",
              "3934            0          0      0        0           1   \n",
              "\n",
              "      Working Professional  Better Career Prospects  \\\n",
              "1871                     0                        1   \n",
              "6795                     0                        1   \n",
              "3516                     0                        1   \n",
              "8105                     0                        1   \n",
              "3934                     0                        1   \n",
              "\n",
              "      Flexibility & Convenience  Other  \n",
              "1871                          0      0  \n",
              "6795                          0      0  \n",
              "3516                          0      0  \n",
              "8105                          0      0  \n",
              "3934                          0      0  "
            ],
            "text/html": [
              "\n",
              "  <div id=\"df-3bb87a62-73bf-4bf3-8808-88497d0db554\">\n",
              "    <div class=\"colab-df-container\">\n",
              "      <div>\n",
              "<style scoped>\n",
              "    .dataframe tbody tr th:only-of-type {\n",
              "        vertical-align: middle;\n",
              "    }\n",
              "\n",
              "    .dataframe tbody tr th {\n",
              "        vertical-align: top;\n",
              "    }\n",
              "\n",
              "    .dataframe thead th {\n",
              "        text-align: right;\n",
              "    }\n",
              "</style>\n",
              "<table border=\"1\" class=\"dataframe\">\n",
              "  <thead>\n",
              "    <tr style=\"text-align: right;\">\n",
              "      <th></th>\n",
              "      <th>Do Not Email</th>\n",
              "      <th>Converted</th>\n",
              "      <th>TotalVisits</th>\n",
              "      <th>Total Time Spent on Website</th>\n",
              "      <th>Page Views Per Visit</th>\n",
              "      <th>API</th>\n",
              "      <th>Landing Page Submission</th>\n",
              "      <th>Lead Add Form</th>\n",
              "      <th>Lead Import</th>\n",
              "      <th>Quick Add Form</th>\n",
              "      <th>Banking, Investment And Insurance</th>\n",
              "      <th>Business Administration</th>\n",
              "      <th>E-Business</th>\n",
              "      <th>E-COMMERCE</th>\n",
              "      <th>Finance Management</th>\n",
              "      <th>Healthcare Management</th>\n",
              "      <th>Hospitality Management</th>\n",
              "      <th>Human Resource Management</th>\n",
              "      <th>IT Projects Management</th>\n",
              "      <th>International Business</th>\n",
              "      <th>Marketing Management</th>\n",
              "      <th>Media and Advertising</th>\n",
              "      <th>Operations Management</th>\n",
              "      <th>Retail Management</th>\n",
              "      <th>Rural and Agribusiness</th>\n",
              "      <th>Services Excellence</th>\n",
              "      <th>Supply Chain Management</th>\n",
              "      <th>Travel and Tourism</th>\n",
              "      <th>Businessman</th>\n",
              "      <th>Housewife</th>\n",
              "      <th>Other</th>\n",
              "      <th>Student</th>\n",
              "      <th>Unemployed</th>\n",
              "      <th>Working Professional</th>\n",
              "      <th>Better Career Prospects</th>\n",
              "      <th>Flexibility &amp; Convenience</th>\n",
              "      <th>Other</th>\n",
              "    </tr>\n",
              "  </thead>\n",
              "  <tbody>\n",
              "    <tr>\n",
              "      <th>1871</th>\n",
              "      <td>0</td>\n",
              "      <td>0</td>\n",
              "      <td>0.3125</td>\n",
              "      <td>0.000000</td>\n",
              "      <td>0.25000</td>\n",
              "      <td>1</td>\n",
              "      <td>0</td>\n",
              "      <td>0</td>\n",
              "      <td>0</td>\n",
              "      <td>0</td>\n",
              "      <td>0</td>\n",
              "      <td>0</td>\n",
              "      <td>0</td>\n",
              "      <td>0</td>\n",
              "      <td>0</td>\n",
              "      <td>0</td>\n",
              "      <td>0</td>\n",
              "      <td>0</td>\n",
              "      <td>0</td>\n",
              "      <td>0</td>\n",
              "      <td>1</td>\n",
              "      <td>0</td>\n",
              "      <td>0</td>\n",
              "      <td>0</td>\n",
              "      <td>0</td>\n",
              "      <td>0</td>\n",
              "      <td>0</td>\n",
              "      <td>0</td>\n",
              "      <td>0</td>\n",
              "      <td>0</td>\n",
              "      <td>0</td>\n",
              "      <td>0</td>\n",
              "      <td>1</td>\n",
              "      <td>0</td>\n",
              "      <td>1</td>\n",
              "      <td>0</td>\n",
              "      <td>0</td>\n",
              "    </tr>\n",
              "    <tr>\n",
              "      <th>6795</th>\n",
              "      <td>0</td>\n",
              "      <td>0</td>\n",
              "      <td>0.5625</td>\n",
              "      <td>0.214349</td>\n",
              "      <td>0.41625</td>\n",
              "      <td>0</td>\n",
              "      <td>1</td>\n",
              "      <td>0</td>\n",
              "      <td>0</td>\n",
              "      <td>0</td>\n",
              "      <td>0</td>\n",
              "      <td>0</td>\n",
              "      <td>0</td>\n",
              "      <td>0</td>\n",
              "      <td>0</td>\n",
              "      <td>0</td>\n",
              "      <td>0</td>\n",
              "      <td>0</td>\n",
              "      <td>0</td>\n",
              "      <td>0</td>\n",
              "      <td>0</td>\n",
              "      <td>0</td>\n",
              "      <td>0</td>\n",
              "      <td>0</td>\n",
              "      <td>0</td>\n",
              "      <td>0</td>\n",
              "      <td>0</td>\n",
              "      <td>0</td>\n",
              "      <td>0</td>\n",
              "      <td>0</td>\n",
              "      <td>0</td>\n",
              "      <td>0</td>\n",
              "      <td>1</td>\n",
              "      <td>0</td>\n",
              "      <td>1</td>\n",
              "      <td>0</td>\n",
              "      <td>0</td>\n",
              "    </tr>\n",
              "    <tr>\n",
              "      <th>3516</th>\n",
              "      <td>0</td>\n",
              "      <td>0</td>\n",
              "      <td>0.6250</td>\n",
              "      <td>0.046655</td>\n",
              "      <td>0.56250</td>\n",
              "      <td>1</td>\n",
              "      <td>0</td>\n",
              "      <td>0</td>\n",
              "      <td>0</td>\n",
              "      <td>0</td>\n",
              "      <td>0</td>\n",
              "      <td>0</td>\n",
              "      <td>0</td>\n",
              "      <td>0</td>\n",
              "      <td>0</td>\n",
              "      <td>0</td>\n",
              "      <td>0</td>\n",
              "      <td>0</td>\n",
              "      <td>0</td>\n",
              "      <td>0</td>\n",
              "      <td>0</td>\n",
              "      <td>0</td>\n",
              "      <td>0</td>\n",
              "      <td>0</td>\n",
              "      <td>0</td>\n",
              "      <td>0</td>\n",
              "      <td>0</td>\n",
              "      <td>0</td>\n",
              "      <td>0</td>\n",
              "      <td>0</td>\n",
              "      <td>0</td>\n",
              "      <td>0</td>\n",
              "      <td>1</td>\n",
              "      <td>0</td>\n",
              "      <td>1</td>\n",
              "      <td>0</td>\n",
              "      <td>0</td>\n",
              "    </tr>\n",
              "    <tr>\n",
              "      <th>8105</th>\n",
              "      <td>0</td>\n",
              "      <td>0</td>\n",
              "      <td>0.6250</td>\n",
              "      <td>0.541373</td>\n",
              "      <td>0.87500</td>\n",
              "      <td>0</td>\n",
              "      <td>1</td>\n",
              "      <td>0</td>\n",
              "      <td>0</td>\n",
              "      <td>0</td>\n",
              "      <td>0</td>\n",
              "      <td>0</td>\n",
              "      <td>0</td>\n",
              "      <td>0</td>\n",
              "      <td>0</td>\n",
              "      <td>0</td>\n",
              "      <td>0</td>\n",
              "      <td>0</td>\n",
              "      <td>0</td>\n",
              "      <td>0</td>\n",
              "      <td>0</td>\n",
              "      <td>0</td>\n",
              "      <td>0</td>\n",
              "      <td>0</td>\n",
              "      <td>0</td>\n",
              "      <td>1</td>\n",
              "      <td>0</td>\n",
              "      <td>0</td>\n",
              "      <td>0</td>\n",
              "      <td>0</td>\n",
              "      <td>0</td>\n",
              "      <td>0</td>\n",
              "      <td>1</td>\n",
              "      <td>0</td>\n",
              "      <td>1</td>\n",
              "      <td>0</td>\n",
              "      <td>0</td>\n",
              "    </tr>\n",
              "    <tr>\n",
              "      <th>3934</th>\n",
              "      <td>0</td>\n",
              "      <td>0</td>\n",
              "      <td>0.3125</td>\n",
              "      <td>0.000000</td>\n",
              "      <td>0.25000</td>\n",
              "      <td>1</td>\n",
              "      <td>0</td>\n",
              "      <td>0</td>\n",
              "      <td>0</td>\n",
              "      <td>0</td>\n",
              "      <td>0</td>\n",
              "      <td>0</td>\n",
              "      <td>0</td>\n",
              "      <td>0</td>\n",
              "      <td>0</td>\n",
              "      <td>0</td>\n",
              "      <td>0</td>\n",
              "      <td>0</td>\n",
              "      <td>0</td>\n",
              "      <td>0</td>\n",
              "      <td>0</td>\n",
              "      <td>0</td>\n",
              "      <td>0</td>\n",
              "      <td>0</td>\n",
              "      <td>0</td>\n",
              "      <td>0</td>\n",
              "      <td>0</td>\n",
              "      <td>0</td>\n",
              "      <td>0</td>\n",
              "      <td>0</td>\n",
              "      <td>0</td>\n",
              "      <td>0</td>\n",
              "      <td>1</td>\n",
              "      <td>0</td>\n",
              "      <td>1</td>\n",
              "      <td>0</td>\n",
              "      <td>0</td>\n",
              "    </tr>\n",
              "  </tbody>\n",
              "</table>\n",
              "</div>\n",
              "      <button class=\"colab-df-convert\" onclick=\"convertToInteractive('df-3bb87a62-73bf-4bf3-8808-88497d0db554')\"\n",
              "              title=\"Convert this dataframe to an interactive table.\"\n",
              "              style=\"display:none;\">\n",
              "        \n",
              "  <svg xmlns=\"http://www.w3.org/2000/svg\" height=\"24px\"viewBox=\"0 0 24 24\"\n",
              "       width=\"24px\">\n",
              "    <path d=\"M0 0h24v24H0V0z\" fill=\"none\"/>\n",
              "    <path d=\"M18.56 5.44l.94 2.06.94-2.06 2.06-.94-2.06-.94-.94-2.06-.94 2.06-2.06.94zm-11 1L8.5 8.5l.94-2.06 2.06-.94-2.06-.94L8.5 2.5l-.94 2.06-2.06.94zm10 10l.94 2.06.94-2.06 2.06-.94-2.06-.94-.94-2.06-.94 2.06-2.06.94z\"/><path d=\"M17.41 7.96l-1.37-1.37c-.4-.4-.92-.59-1.43-.59-.52 0-1.04.2-1.43.59L10.3 9.45l-7.72 7.72c-.78.78-.78 2.05 0 2.83L4 21.41c.39.39.9.59 1.41.59.51 0 1.02-.2 1.41-.59l7.78-7.78 2.81-2.81c.8-.78.8-2.07 0-2.86zM5.41 20L4 18.59l7.72-7.72 1.47 1.35L5.41 20z\"/>\n",
              "  </svg>\n",
              "      </button>\n",
              "      \n",
              "  <style>\n",
              "    .colab-df-container {\n",
              "      display:flex;\n",
              "      flex-wrap:wrap;\n",
              "      gap: 12px;\n",
              "    }\n",
              "\n",
              "    .colab-df-convert {\n",
              "      background-color: #E8F0FE;\n",
              "      border: none;\n",
              "      border-radius: 50%;\n",
              "      cursor: pointer;\n",
              "      display: none;\n",
              "      fill: #1967D2;\n",
              "      height: 32px;\n",
              "      padding: 0 0 0 0;\n",
              "      width: 32px;\n",
              "    }\n",
              "\n",
              "    .colab-df-convert:hover {\n",
              "      background-color: #E2EBFA;\n",
              "      box-shadow: 0px 1px 2px rgba(60, 64, 67, 0.3), 0px 1px 3px 1px rgba(60, 64, 67, 0.15);\n",
              "      fill: #174EA6;\n",
              "    }\n",
              "\n",
              "    [theme=dark] .colab-df-convert {\n",
              "      background-color: #3B4455;\n",
              "      fill: #D2E3FC;\n",
              "    }\n",
              "\n",
              "    [theme=dark] .colab-df-convert:hover {\n",
              "      background-color: #434B5C;\n",
              "      box-shadow: 0px 1px 3px 1px rgba(0, 0, 0, 0.15);\n",
              "      filter: drop-shadow(0px 1px 2px rgba(0, 0, 0, 0.3));\n",
              "      fill: #FFFFFF;\n",
              "    }\n",
              "  </style>\n",
              "\n",
              "      <script>\n",
              "        const buttonEl =\n",
              "          document.querySelector('#df-3bb87a62-73bf-4bf3-8808-88497d0db554 button.colab-df-convert');\n",
              "        buttonEl.style.display =\n",
              "          google.colab.kernel.accessAllowed ? 'block' : 'none';\n",
              "\n",
              "        async function convertToInteractive(key) {\n",
              "          const element = document.querySelector('#df-3bb87a62-73bf-4bf3-8808-88497d0db554');\n",
              "          const dataTable =\n",
              "            await google.colab.kernel.invokeFunction('convertToInteractive',\n",
              "                                                     [key], {});\n",
              "          if (!dataTable) return;\n",
              "\n",
              "          const docLinkHtml = 'Like what you see? Visit the ' +\n",
              "            '<a target=\"_blank\" href=https://colab.research.google.com/notebooks/data_table.ipynb>data table notebook</a>'\n",
              "            + ' to learn more about interactive tables.';\n",
              "          element.innerHTML = '';\n",
              "          dataTable['output_type'] = 'display_data';\n",
              "          await google.colab.output.renderOutput(dataTable, element);\n",
              "          const docLink = document.createElement('div');\n",
              "          docLink.innerHTML = docLinkHtml;\n",
              "          element.appendChild(docLink);\n",
              "        }\n",
              "      </script>\n",
              "    </div>\n",
              "  </div>\n",
              "  "
            ]
          },
          "metadata": {},
          "execution_count": 71
        }
      ]
    },
    {
      "cell_type": "markdown",
      "source": [
        "Scaling test set"
      ],
      "metadata": {
        "id": "swJTch4jpXmB"
      }
    },
    {
      "cell_type": "code",
      "source": [
        "new_lead_test[list_of_columns_to_scale]=scaler.transform(new_lead_test[list_of_columns_to_scale])\n",
        "new_lead_test.head()"
      ],
      "metadata": {
        "colab": {
          "base_uri": "https://localhost:8080/",
          "height": 340
        },
        "id": "6SerjMAsndtT",
        "outputId": "f1df3f9a-3f82-41ee-87d4-18f3c26f731f"
      },
      "execution_count": 72,
      "outputs": [
        {
          "output_type": "execute_result",
          "data": {
            "text/plain": [
              "      Do Not Email  Converted  TotalVisits  Total Time Spent on Website  \\\n",
              "4269             0          1       0.8125                     0.444982   \n",
              "2376             0          1       0.3125                     0.000000   \n",
              "7766             0          1       0.6250                     0.025968   \n",
              "9199             0          0       0.3125                     0.000000   \n",
              "4359             0          1       0.3125                     0.000000   \n",
              "\n",
              "      Page Views Per Visit  API  Landing Page Submission  Lead Add Form  \\\n",
              "4269                 1.000    1                        0              0   \n",
              "2376                 0.250    0                        0              1   \n",
              "7766                 0.875    1                        0              0   \n",
              "9199                 0.250    1                        0              0   \n",
              "4359                 0.250    0                        0              1   \n",
              "\n",
              "      Lead Import  Quick Add Form  Banking, Investment And Insurance  \\\n",
              "4269            0               0                                  0   \n",
              "2376            0               0                                  0   \n",
              "7766            0               0                                  0   \n",
              "9199            0               0                                  0   \n",
              "4359            0               0                                  0   \n",
              "\n",
              "      Business Administration  E-Business  E-COMMERCE  Finance Management  \\\n",
              "4269                        0           0           0                   0   \n",
              "2376                        0           0           0                   0   \n",
              "7766                        0           0           0                   0   \n",
              "9199                        0           0           0                   0   \n",
              "4359                        0           0           0                   0   \n",
              "\n",
              "      Healthcare Management  Hospitality Management  \\\n",
              "4269                      0                       0   \n",
              "2376                      0                       0   \n",
              "7766                      0                       0   \n",
              "9199                      0                       0   \n",
              "4359                      0                       0   \n",
              "\n",
              "      Human Resource Management  IT Projects Management  \\\n",
              "4269                          0                       0   \n",
              "2376                          0                       0   \n",
              "7766                          0                       0   \n",
              "9199                          0                       0   \n",
              "4359                          0                       0   \n",
              "\n",
              "      International Business  Marketing Management  Media and Advertising  \\\n",
              "4269                       0                     0                      0   \n",
              "2376                       0                     0                      0   \n",
              "7766                       0                     0                      0   \n",
              "9199                       0                     0                      0   \n",
              "4359                       0                     1                      0   \n",
              "\n",
              "      Operations Management  Retail Management  Rural and Agribusiness  \\\n",
              "4269                      0                  0                       0   \n",
              "2376                      0                  0                       0   \n",
              "7766                      0                  0                       0   \n",
              "9199                      0                  0                       0   \n",
              "4359                      0                  0                       0   \n",
              "\n",
              "      Services Excellence  Supply Chain Management  Travel and Tourism  \\\n",
              "4269                    0                        0                   0   \n",
              "2376                    0                        0                   0   \n",
              "7766                    0                        1                   0   \n",
              "9199                    0                        0                   0   \n",
              "4359                    0                        0                   0   \n",
              "\n",
              "      Businessman  Housewife  Other  Student  Unemployed  \\\n",
              "4269            0          0      0        0           0   \n",
              "2376            0          0      0        0           1   \n",
              "7766            0          0      0        0           0   \n",
              "9199            0          0      0        0           1   \n",
              "4359            0          0      0        0           1   \n",
              "\n",
              "      Working Professional  Better Career Prospects  \\\n",
              "4269                     0                        0   \n",
              "2376                     0                        1   \n",
              "7766                     1                        1   \n",
              "9199                     0                        1   \n",
              "4359                     0                        1   \n",
              "\n",
              "      Flexibility & Convenience  Other  \n",
              "4269                          0      0  \n",
              "2376                          0      0  \n",
              "7766                          0      0  \n",
              "9199                          0      0  \n",
              "4359                          0      0  "
            ],
            "text/html": [
              "\n",
              "  <div id=\"df-eb9315f3-dfa3-4dc6-8976-16bb670ec7b7\">\n",
              "    <div class=\"colab-df-container\">\n",
              "      <div>\n",
              "<style scoped>\n",
              "    .dataframe tbody tr th:only-of-type {\n",
              "        vertical-align: middle;\n",
              "    }\n",
              "\n",
              "    .dataframe tbody tr th {\n",
              "        vertical-align: top;\n",
              "    }\n",
              "\n",
              "    .dataframe thead th {\n",
              "        text-align: right;\n",
              "    }\n",
              "</style>\n",
              "<table border=\"1\" class=\"dataframe\">\n",
              "  <thead>\n",
              "    <tr style=\"text-align: right;\">\n",
              "      <th></th>\n",
              "      <th>Do Not Email</th>\n",
              "      <th>Converted</th>\n",
              "      <th>TotalVisits</th>\n",
              "      <th>Total Time Spent on Website</th>\n",
              "      <th>Page Views Per Visit</th>\n",
              "      <th>API</th>\n",
              "      <th>Landing Page Submission</th>\n",
              "      <th>Lead Add Form</th>\n",
              "      <th>Lead Import</th>\n",
              "      <th>Quick Add Form</th>\n",
              "      <th>Banking, Investment And Insurance</th>\n",
              "      <th>Business Administration</th>\n",
              "      <th>E-Business</th>\n",
              "      <th>E-COMMERCE</th>\n",
              "      <th>Finance Management</th>\n",
              "      <th>Healthcare Management</th>\n",
              "      <th>Hospitality Management</th>\n",
              "      <th>Human Resource Management</th>\n",
              "      <th>IT Projects Management</th>\n",
              "      <th>International Business</th>\n",
              "      <th>Marketing Management</th>\n",
              "      <th>Media and Advertising</th>\n",
              "      <th>Operations Management</th>\n",
              "      <th>Retail Management</th>\n",
              "      <th>Rural and Agribusiness</th>\n",
              "      <th>Services Excellence</th>\n",
              "      <th>Supply Chain Management</th>\n",
              "      <th>Travel and Tourism</th>\n",
              "      <th>Businessman</th>\n",
              "      <th>Housewife</th>\n",
              "      <th>Other</th>\n",
              "      <th>Student</th>\n",
              "      <th>Unemployed</th>\n",
              "      <th>Working Professional</th>\n",
              "      <th>Better Career Prospects</th>\n",
              "      <th>Flexibility &amp; Convenience</th>\n",
              "      <th>Other</th>\n",
              "    </tr>\n",
              "  </thead>\n",
              "  <tbody>\n",
              "    <tr>\n",
              "      <th>4269</th>\n",
              "      <td>0</td>\n",
              "      <td>1</td>\n",
              "      <td>0.8125</td>\n",
              "      <td>0.444982</td>\n",
              "      <td>1.000</td>\n",
              "      <td>1</td>\n",
              "      <td>0</td>\n",
              "      <td>0</td>\n",
              "      <td>0</td>\n",
              "      <td>0</td>\n",
              "      <td>0</td>\n",
              "      <td>0</td>\n",
              "      <td>0</td>\n",
              "      <td>0</td>\n",
              "      <td>0</td>\n",
              "      <td>0</td>\n",
              "      <td>0</td>\n",
              "      <td>0</td>\n",
              "      <td>0</td>\n",
              "      <td>0</td>\n",
              "      <td>0</td>\n",
              "      <td>0</td>\n",
              "      <td>0</td>\n",
              "      <td>0</td>\n",
              "      <td>0</td>\n",
              "      <td>0</td>\n",
              "      <td>0</td>\n",
              "      <td>0</td>\n",
              "      <td>0</td>\n",
              "      <td>0</td>\n",
              "      <td>0</td>\n",
              "      <td>0</td>\n",
              "      <td>0</td>\n",
              "      <td>0</td>\n",
              "      <td>0</td>\n",
              "      <td>0</td>\n",
              "      <td>0</td>\n",
              "    </tr>\n",
              "    <tr>\n",
              "      <th>2376</th>\n",
              "      <td>0</td>\n",
              "      <td>1</td>\n",
              "      <td>0.3125</td>\n",
              "      <td>0.000000</td>\n",
              "      <td>0.250</td>\n",
              "      <td>0</td>\n",
              "      <td>0</td>\n",
              "      <td>1</td>\n",
              "      <td>0</td>\n",
              "      <td>0</td>\n",
              "      <td>0</td>\n",
              "      <td>0</td>\n",
              "      <td>0</td>\n",
              "      <td>0</td>\n",
              "      <td>0</td>\n",
              "      <td>0</td>\n",
              "      <td>0</td>\n",
              "      <td>0</td>\n",
              "      <td>0</td>\n",
              "      <td>0</td>\n",
              "      <td>0</td>\n",
              "      <td>0</td>\n",
              "      <td>0</td>\n",
              "      <td>0</td>\n",
              "      <td>0</td>\n",
              "      <td>0</td>\n",
              "      <td>0</td>\n",
              "      <td>0</td>\n",
              "      <td>0</td>\n",
              "      <td>0</td>\n",
              "      <td>0</td>\n",
              "      <td>0</td>\n",
              "      <td>1</td>\n",
              "      <td>0</td>\n",
              "      <td>1</td>\n",
              "      <td>0</td>\n",
              "      <td>0</td>\n",
              "    </tr>\n",
              "    <tr>\n",
              "      <th>7766</th>\n",
              "      <td>0</td>\n",
              "      <td>1</td>\n",
              "      <td>0.6250</td>\n",
              "      <td>0.025968</td>\n",
              "      <td>0.875</td>\n",
              "      <td>1</td>\n",
              "      <td>0</td>\n",
              "      <td>0</td>\n",
              "      <td>0</td>\n",
              "      <td>0</td>\n",
              "      <td>0</td>\n",
              "      <td>0</td>\n",
              "      <td>0</td>\n",
              "      <td>0</td>\n",
              "      <td>0</td>\n",
              "      <td>0</td>\n",
              "      <td>0</td>\n",
              "      <td>0</td>\n",
              "      <td>0</td>\n",
              "      <td>0</td>\n",
              "      <td>0</td>\n",
              "      <td>0</td>\n",
              "      <td>0</td>\n",
              "      <td>0</td>\n",
              "      <td>0</td>\n",
              "      <td>0</td>\n",
              "      <td>1</td>\n",
              "      <td>0</td>\n",
              "      <td>0</td>\n",
              "      <td>0</td>\n",
              "      <td>0</td>\n",
              "      <td>0</td>\n",
              "      <td>0</td>\n",
              "      <td>1</td>\n",
              "      <td>1</td>\n",
              "      <td>0</td>\n",
              "      <td>0</td>\n",
              "    </tr>\n",
              "    <tr>\n",
              "      <th>9199</th>\n",
              "      <td>0</td>\n",
              "      <td>0</td>\n",
              "      <td>0.3125</td>\n",
              "      <td>0.000000</td>\n",
              "      <td>0.250</td>\n",
              "      <td>1</td>\n",
              "      <td>0</td>\n",
              "      <td>0</td>\n",
              "      <td>0</td>\n",
              "      <td>0</td>\n",
              "      <td>0</td>\n",
              "      <td>0</td>\n",
              "      <td>0</td>\n",
              "      <td>0</td>\n",
              "      <td>0</td>\n",
              "      <td>0</td>\n",
              "      <td>0</td>\n",
              "      <td>0</td>\n",
              "      <td>0</td>\n",
              "      <td>0</td>\n",
              "      <td>0</td>\n",
              "      <td>0</td>\n",
              "      <td>0</td>\n",
              "      <td>0</td>\n",
              "      <td>0</td>\n",
              "      <td>0</td>\n",
              "      <td>0</td>\n",
              "      <td>0</td>\n",
              "      <td>0</td>\n",
              "      <td>0</td>\n",
              "      <td>0</td>\n",
              "      <td>0</td>\n",
              "      <td>1</td>\n",
              "      <td>0</td>\n",
              "      <td>1</td>\n",
              "      <td>0</td>\n",
              "      <td>0</td>\n",
              "    </tr>\n",
              "    <tr>\n",
              "      <th>4359</th>\n",
              "      <td>0</td>\n",
              "      <td>1</td>\n",
              "      <td>0.3125</td>\n",
              "      <td>0.000000</td>\n",
              "      <td>0.250</td>\n",
              "      <td>0</td>\n",
              "      <td>0</td>\n",
              "      <td>1</td>\n",
              "      <td>0</td>\n",
              "      <td>0</td>\n",
              "      <td>0</td>\n",
              "      <td>0</td>\n",
              "      <td>0</td>\n",
              "      <td>0</td>\n",
              "      <td>0</td>\n",
              "      <td>0</td>\n",
              "      <td>0</td>\n",
              "      <td>0</td>\n",
              "      <td>0</td>\n",
              "      <td>0</td>\n",
              "      <td>1</td>\n",
              "      <td>0</td>\n",
              "      <td>0</td>\n",
              "      <td>0</td>\n",
              "      <td>0</td>\n",
              "      <td>0</td>\n",
              "      <td>0</td>\n",
              "      <td>0</td>\n",
              "      <td>0</td>\n",
              "      <td>0</td>\n",
              "      <td>0</td>\n",
              "      <td>0</td>\n",
              "      <td>1</td>\n",
              "      <td>0</td>\n",
              "      <td>1</td>\n",
              "      <td>0</td>\n",
              "      <td>0</td>\n",
              "    </tr>\n",
              "  </tbody>\n",
              "</table>\n",
              "</div>\n",
              "      <button class=\"colab-df-convert\" onclick=\"convertToInteractive('df-eb9315f3-dfa3-4dc6-8976-16bb670ec7b7')\"\n",
              "              title=\"Convert this dataframe to an interactive table.\"\n",
              "              style=\"display:none;\">\n",
              "        \n",
              "  <svg xmlns=\"http://www.w3.org/2000/svg\" height=\"24px\"viewBox=\"0 0 24 24\"\n",
              "       width=\"24px\">\n",
              "    <path d=\"M0 0h24v24H0V0z\" fill=\"none\"/>\n",
              "    <path d=\"M18.56 5.44l.94 2.06.94-2.06 2.06-.94-2.06-.94-.94-2.06-.94 2.06-2.06.94zm-11 1L8.5 8.5l.94-2.06 2.06-.94-2.06-.94L8.5 2.5l-.94 2.06-2.06.94zm10 10l.94 2.06.94-2.06 2.06-.94-2.06-.94-.94-2.06-.94 2.06-2.06.94z\"/><path d=\"M17.41 7.96l-1.37-1.37c-.4-.4-.92-.59-1.43-.59-.52 0-1.04.2-1.43.59L10.3 9.45l-7.72 7.72c-.78.78-.78 2.05 0 2.83L4 21.41c.39.39.9.59 1.41.59.51 0 1.02-.2 1.41-.59l7.78-7.78 2.81-2.81c.8-.78.8-2.07 0-2.86zM5.41 20L4 18.59l7.72-7.72 1.47 1.35L5.41 20z\"/>\n",
              "  </svg>\n",
              "      </button>\n",
              "      \n",
              "  <style>\n",
              "    .colab-df-container {\n",
              "      display:flex;\n",
              "      flex-wrap:wrap;\n",
              "      gap: 12px;\n",
              "    }\n",
              "\n",
              "    .colab-df-convert {\n",
              "      background-color: #E8F0FE;\n",
              "      border: none;\n",
              "      border-radius: 50%;\n",
              "      cursor: pointer;\n",
              "      display: none;\n",
              "      fill: #1967D2;\n",
              "      height: 32px;\n",
              "      padding: 0 0 0 0;\n",
              "      width: 32px;\n",
              "    }\n",
              "\n",
              "    .colab-df-convert:hover {\n",
              "      background-color: #E2EBFA;\n",
              "      box-shadow: 0px 1px 2px rgba(60, 64, 67, 0.3), 0px 1px 3px 1px rgba(60, 64, 67, 0.15);\n",
              "      fill: #174EA6;\n",
              "    }\n",
              "\n",
              "    [theme=dark] .colab-df-convert {\n",
              "      background-color: #3B4455;\n",
              "      fill: #D2E3FC;\n",
              "    }\n",
              "\n",
              "    [theme=dark] .colab-df-convert:hover {\n",
              "      background-color: #434B5C;\n",
              "      box-shadow: 0px 1px 3px 1px rgba(0, 0, 0, 0.15);\n",
              "      filter: drop-shadow(0px 1px 2px rgba(0, 0, 0, 0.3));\n",
              "      fill: #FFFFFF;\n",
              "    }\n",
              "  </style>\n",
              "\n",
              "      <script>\n",
              "        const buttonEl =\n",
              "          document.querySelector('#df-eb9315f3-dfa3-4dc6-8976-16bb670ec7b7 button.colab-df-convert');\n",
              "        buttonEl.style.display =\n",
              "          google.colab.kernel.accessAllowed ? 'block' : 'none';\n",
              "\n",
              "        async function convertToInteractive(key) {\n",
              "          const element = document.querySelector('#df-eb9315f3-dfa3-4dc6-8976-16bb670ec7b7');\n",
              "          const dataTable =\n",
              "            await google.colab.kernel.invokeFunction('convertToInteractive',\n",
              "                                                     [key], {});\n",
              "          if (!dataTable) return;\n",
              "\n",
              "          const docLinkHtml = 'Like what you see? Visit the ' +\n",
              "            '<a target=\"_blank\" href=https://colab.research.google.com/notebooks/data_table.ipynb>data table notebook</a>'\n",
              "            + ' to learn more about interactive tables.';\n",
              "          element.innerHTML = '';\n",
              "          dataTable['output_type'] = 'display_data';\n",
              "          await google.colab.output.renderOutput(dataTable, element);\n",
              "          const docLink = document.createElement('div');\n",
              "          docLink.innerHTML = docLinkHtml;\n",
              "          element.appendChild(docLink);\n",
              "        }\n",
              "      </script>\n",
              "    </div>\n",
              "  </div>\n",
              "  "
            ]
          },
          "metadata": {},
          "execution_count": 72
        }
      ]
    },
    {
      "cell_type": "code",
      "source": [
        "y_train=new_lead_train.pop('Converted')\n",
        "X_train=new_lead_train"
      ],
      "metadata": {
        "id": "4XEUex1gpVyH"
      },
      "execution_count": 73,
      "outputs": []
    },
    {
      "cell_type": "code",
      "source": [
        "X_train.head()"
      ],
      "metadata": {
        "colab": {
          "base_uri": "https://localhost:8080/",
          "height": 340
        },
        "id": "NQskWb01qEXA",
        "outputId": "2bb47526-1e80-43da-98df-d83679efb2c3"
      },
      "execution_count": 74,
      "outputs": [
        {
          "output_type": "execute_result",
          "data": {
            "text/plain": [
              "      Do Not Email  TotalVisits  Total Time Spent on Website  \\\n",
              "1871             0       0.3125                     0.000000   \n",
              "6795             0       0.5625                     0.214349   \n",
              "3516             0       0.6250                     0.046655   \n",
              "8105             0       0.6250                     0.541373   \n",
              "3934             0       0.3125                     0.000000   \n",
              "\n",
              "      Page Views Per Visit  API  Landing Page Submission  Lead Add Form  \\\n",
              "1871               0.25000    1                        0              0   \n",
              "6795               0.41625    0                        1              0   \n",
              "3516               0.56250    1                        0              0   \n",
              "8105               0.87500    0                        1              0   \n",
              "3934               0.25000    1                        0              0   \n",
              "\n",
              "      Lead Import  Quick Add Form  Banking, Investment And Insurance  \\\n",
              "1871            0               0                                  0   \n",
              "6795            0               0                                  0   \n",
              "3516            0               0                                  0   \n",
              "8105            0               0                                  0   \n",
              "3934            0               0                                  0   \n",
              "\n",
              "      Business Administration  E-Business  E-COMMERCE  Finance Management  \\\n",
              "1871                        0           0           0                   0   \n",
              "6795                        0           0           0                   0   \n",
              "3516                        0           0           0                   0   \n",
              "8105                        0           0           0                   0   \n",
              "3934                        0           0           0                   0   \n",
              "\n",
              "      Healthcare Management  Hospitality Management  \\\n",
              "1871                      0                       0   \n",
              "6795                      0                       0   \n",
              "3516                      0                       0   \n",
              "8105                      0                       0   \n",
              "3934                      0                       0   \n",
              "\n",
              "      Human Resource Management  IT Projects Management  \\\n",
              "1871                          0                       0   \n",
              "6795                          0                       0   \n",
              "3516                          0                       0   \n",
              "8105                          0                       0   \n",
              "3934                          0                       0   \n",
              "\n",
              "      International Business  Marketing Management  Media and Advertising  \\\n",
              "1871                       0                     1                      0   \n",
              "6795                       0                     0                      0   \n",
              "3516                       0                     0                      0   \n",
              "8105                       0                     0                      0   \n",
              "3934                       0                     0                      0   \n",
              "\n",
              "      Operations Management  Retail Management  Rural and Agribusiness  \\\n",
              "1871                      0                  0                       0   \n",
              "6795                      0                  0                       0   \n",
              "3516                      0                  0                       0   \n",
              "8105                      0                  0                       0   \n",
              "3934                      0                  0                       0   \n",
              "\n",
              "      Services Excellence  Supply Chain Management  Travel and Tourism  \\\n",
              "1871                    0                        0                   0   \n",
              "6795                    0                        0                   0   \n",
              "3516                    0                        0                   0   \n",
              "8105                    1                        0                   0   \n",
              "3934                    0                        0                   0   \n",
              "\n",
              "      Businessman  Housewife  Other  Student  Unemployed  \\\n",
              "1871            0          0      0        0           1   \n",
              "6795            0          0      0        0           1   \n",
              "3516            0          0      0        0           1   \n",
              "8105            0          0      0        0           1   \n",
              "3934            0          0      0        0           1   \n",
              "\n",
              "      Working Professional  Better Career Prospects  \\\n",
              "1871                     0                        1   \n",
              "6795                     0                        1   \n",
              "3516                     0                        1   \n",
              "8105                     0                        1   \n",
              "3934                     0                        1   \n",
              "\n",
              "      Flexibility & Convenience  Other  \n",
              "1871                          0      0  \n",
              "6795                          0      0  \n",
              "3516                          0      0  \n",
              "8105                          0      0  \n",
              "3934                          0      0  "
            ],
            "text/html": [
              "\n",
              "  <div id=\"df-4ed4cc62-5c83-4fb7-831f-c57395d0f861\">\n",
              "    <div class=\"colab-df-container\">\n",
              "      <div>\n",
              "<style scoped>\n",
              "    .dataframe tbody tr th:only-of-type {\n",
              "        vertical-align: middle;\n",
              "    }\n",
              "\n",
              "    .dataframe tbody tr th {\n",
              "        vertical-align: top;\n",
              "    }\n",
              "\n",
              "    .dataframe thead th {\n",
              "        text-align: right;\n",
              "    }\n",
              "</style>\n",
              "<table border=\"1\" class=\"dataframe\">\n",
              "  <thead>\n",
              "    <tr style=\"text-align: right;\">\n",
              "      <th></th>\n",
              "      <th>Do Not Email</th>\n",
              "      <th>TotalVisits</th>\n",
              "      <th>Total Time Spent on Website</th>\n",
              "      <th>Page Views Per Visit</th>\n",
              "      <th>API</th>\n",
              "      <th>Landing Page Submission</th>\n",
              "      <th>Lead Add Form</th>\n",
              "      <th>Lead Import</th>\n",
              "      <th>Quick Add Form</th>\n",
              "      <th>Banking, Investment And Insurance</th>\n",
              "      <th>Business Administration</th>\n",
              "      <th>E-Business</th>\n",
              "      <th>E-COMMERCE</th>\n",
              "      <th>Finance Management</th>\n",
              "      <th>Healthcare Management</th>\n",
              "      <th>Hospitality Management</th>\n",
              "      <th>Human Resource Management</th>\n",
              "      <th>IT Projects Management</th>\n",
              "      <th>International Business</th>\n",
              "      <th>Marketing Management</th>\n",
              "      <th>Media and Advertising</th>\n",
              "      <th>Operations Management</th>\n",
              "      <th>Retail Management</th>\n",
              "      <th>Rural and Agribusiness</th>\n",
              "      <th>Services Excellence</th>\n",
              "      <th>Supply Chain Management</th>\n",
              "      <th>Travel and Tourism</th>\n",
              "      <th>Businessman</th>\n",
              "      <th>Housewife</th>\n",
              "      <th>Other</th>\n",
              "      <th>Student</th>\n",
              "      <th>Unemployed</th>\n",
              "      <th>Working Professional</th>\n",
              "      <th>Better Career Prospects</th>\n",
              "      <th>Flexibility &amp; Convenience</th>\n",
              "      <th>Other</th>\n",
              "    </tr>\n",
              "  </thead>\n",
              "  <tbody>\n",
              "    <tr>\n",
              "      <th>1871</th>\n",
              "      <td>0</td>\n",
              "      <td>0.3125</td>\n",
              "      <td>0.000000</td>\n",
              "      <td>0.25000</td>\n",
              "      <td>1</td>\n",
              "      <td>0</td>\n",
              "      <td>0</td>\n",
              "      <td>0</td>\n",
              "      <td>0</td>\n",
              "      <td>0</td>\n",
              "      <td>0</td>\n",
              "      <td>0</td>\n",
              "      <td>0</td>\n",
              "      <td>0</td>\n",
              "      <td>0</td>\n",
              "      <td>0</td>\n",
              "      <td>0</td>\n",
              "      <td>0</td>\n",
              "      <td>0</td>\n",
              "      <td>1</td>\n",
              "      <td>0</td>\n",
              "      <td>0</td>\n",
              "      <td>0</td>\n",
              "      <td>0</td>\n",
              "      <td>0</td>\n",
              "      <td>0</td>\n",
              "      <td>0</td>\n",
              "      <td>0</td>\n",
              "      <td>0</td>\n",
              "      <td>0</td>\n",
              "      <td>0</td>\n",
              "      <td>1</td>\n",
              "      <td>0</td>\n",
              "      <td>1</td>\n",
              "      <td>0</td>\n",
              "      <td>0</td>\n",
              "    </tr>\n",
              "    <tr>\n",
              "      <th>6795</th>\n",
              "      <td>0</td>\n",
              "      <td>0.5625</td>\n",
              "      <td>0.214349</td>\n",
              "      <td>0.41625</td>\n",
              "      <td>0</td>\n",
              "      <td>1</td>\n",
              "      <td>0</td>\n",
              "      <td>0</td>\n",
              "      <td>0</td>\n",
              "      <td>0</td>\n",
              "      <td>0</td>\n",
              "      <td>0</td>\n",
              "      <td>0</td>\n",
              "      <td>0</td>\n",
              "      <td>0</td>\n",
              "      <td>0</td>\n",
              "      <td>0</td>\n",
              "      <td>0</td>\n",
              "      <td>0</td>\n",
              "      <td>0</td>\n",
              "      <td>0</td>\n",
              "      <td>0</td>\n",
              "      <td>0</td>\n",
              "      <td>0</td>\n",
              "      <td>0</td>\n",
              "      <td>0</td>\n",
              "      <td>0</td>\n",
              "      <td>0</td>\n",
              "      <td>0</td>\n",
              "      <td>0</td>\n",
              "      <td>0</td>\n",
              "      <td>1</td>\n",
              "      <td>0</td>\n",
              "      <td>1</td>\n",
              "      <td>0</td>\n",
              "      <td>0</td>\n",
              "    </tr>\n",
              "    <tr>\n",
              "      <th>3516</th>\n",
              "      <td>0</td>\n",
              "      <td>0.6250</td>\n",
              "      <td>0.046655</td>\n",
              "      <td>0.56250</td>\n",
              "      <td>1</td>\n",
              "      <td>0</td>\n",
              "      <td>0</td>\n",
              "      <td>0</td>\n",
              "      <td>0</td>\n",
              "      <td>0</td>\n",
              "      <td>0</td>\n",
              "      <td>0</td>\n",
              "      <td>0</td>\n",
              "      <td>0</td>\n",
              "      <td>0</td>\n",
              "      <td>0</td>\n",
              "      <td>0</td>\n",
              "      <td>0</td>\n",
              "      <td>0</td>\n",
              "      <td>0</td>\n",
              "      <td>0</td>\n",
              "      <td>0</td>\n",
              "      <td>0</td>\n",
              "      <td>0</td>\n",
              "      <td>0</td>\n",
              "      <td>0</td>\n",
              "      <td>0</td>\n",
              "      <td>0</td>\n",
              "      <td>0</td>\n",
              "      <td>0</td>\n",
              "      <td>0</td>\n",
              "      <td>1</td>\n",
              "      <td>0</td>\n",
              "      <td>1</td>\n",
              "      <td>0</td>\n",
              "      <td>0</td>\n",
              "    </tr>\n",
              "    <tr>\n",
              "      <th>8105</th>\n",
              "      <td>0</td>\n",
              "      <td>0.6250</td>\n",
              "      <td>0.541373</td>\n",
              "      <td>0.87500</td>\n",
              "      <td>0</td>\n",
              "      <td>1</td>\n",
              "      <td>0</td>\n",
              "      <td>0</td>\n",
              "      <td>0</td>\n",
              "      <td>0</td>\n",
              "      <td>0</td>\n",
              "      <td>0</td>\n",
              "      <td>0</td>\n",
              "      <td>0</td>\n",
              "      <td>0</td>\n",
              "      <td>0</td>\n",
              "      <td>0</td>\n",
              "      <td>0</td>\n",
              "      <td>0</td>\n",
              "      <td>0</td>\n",
              "      <td>0</td>\n",
              "      <td>0</td>\n",
              "      <td>0</td>\n",
              "      <td>0</td>\n",
              "      <td>1</td>\n",
              "      <td>0</td>\n",
              "      <td>0</td>\n",
              "      <td>0</td>\n",
              "      <td>0</td>\n",
              "      <td>0</td>\n",
              "      <td>0</td>\n",
              "      <td>1</td>\n",
              "      <td>0</td>\n",
              "      <td>1</td>\n",
              "      <td>0</td>\n",
              "      <td>0</td>\n",
              "    </tr>\n",
              "    <tr>\n",
              "      <th>3934</th>\n",
              "      <td>0</td>\n",
              "      <td>0.3125</td>\n",
              "      <td>0.000000</td>\n",
              "      <td>0.25000</td>\n",
              "      <td>1</td>\n",
              "      <td>0</td>\n",
              "      <td>0</td>\n",
              "      <td>0</td>\n",
              "      <td>0</td>\n",
              "      <td>0</td>\n",
              "      <td>0</td>\n",
              "      <td>0</td>\n",
              "      <td>0</td>\n",
              "      <td>0</td>\n",
              "      <td>0</td>\n",
              "      <td>0</td>\n",
              "      <td>0</td>\n",
              "      <td>0</td>\n",
              "      <td>0</td>\n",
              "      <td>0</td>\n",
              "      <td>0</td>\n",
              "      <td>0</td>\n",
              "      <td>0</td>\n",
              "      <td>0</td>\n",
              "      <td>0</td>\n",
              "      <td>0</td>\n",
              "      <td>0</td>\n",
              "      <td>0</td>\n",
              "      <td>0</td>\n",
              "      <td>0</td>\n",
              "      <td>0</td>\n",
              "      <td>1</td>\n",
              "      <td>0</td>\n",
              "      <td>1</td>\n",
              "      <td>0</td>\n",
              "      <td>0</td>\n",
              "    </tr>\n",
              "  </tbody>\n",
              "</table>\n",
              "</div>\n",
              "      <button class=\"colab-df-convert\" onclick=\"convertToInteractive('df-4ed4cc62-5c83-4fb7-831f-c57395d0f861')\"\n",
              "              title=\"Convert this dataframe to an interactive table.\"\n",
              "              style=\"display:none;\">\n",
              "        \n",
              "  <svg xmlns=\"http://www.w3.org/2000/svg\" height=\"24px\"viewBox=\"0 0 24 24\"\n",
              "       width=\"24px\">\n",
              "    <path d=\"M0 0h24v24H0V0z\" fill=\"none\"/>\n",
              "    <path d=\"M18.56 5.44l.94 2.06.94-2.06 2.06-.94-2.06-.94-.94-2.06-.94 2.06-2.06.94zm-11 1L8.5 8.5l.94-2.06 2.06-.94-2.06-.94L8.5 2.5l-.94 2.06-2.06.94zm10 10l.94 2.06.94-2.06 2.06-.94-2.06-.94-.94-2.06-.94 2.06-2.06.94z\"/><path d=\"M17.41 7.96l-1.37-1.37c-.4-.4-.92-.59-1.43-.59-.52 0-1.04.2-1.43.59L10.3 9.45l-7.72 7.72c-.78.78-.78 2.05 0 2.83L4 21.41c.39.39.9.59 1.41.59.51 0 1.02-.2 1.41-.59l7.78-7.78 2.81-2.81c.8-.78.8-2.07 0-2.86zM5.41 20L4 18.59l7.72-7.72 1.47 1.35L5.41 20z\"/>\n",
              "  </svg>\n",
              "      </button>\n",
              "      \n",
              "  <style>\n",
              "    .colab-df-container {\n",
              "      display:flex;\n",
              "      flex-wrap:wrap;\n",
              "      gap: 12px;\n",
              "    }\n",
              "\n",
              "    .colab-df-convert {\n",
              "      background-color: #E8F0FE;\n",
              "      border: none;\n",
              "      border-radius: 50%;\n",
              "      cursor: pointer;\n",
              "      display: none;\n",
              "      fill: #1967D2;\n",
              "      height: 32px;\n",
              "      padding: 0 0 0 0;\n",
              "      width: 32px;\n",
              "    }\n",
              "\n",
              "    .colab-df-convert:hover {\n",
              "      background-color: #E2EBFA;\n",
              "      box-shadow: 0px 1px 2px rgba(60, 64, 67, 0.3), 0px 1px 3px 1px rgba(60, 64, 67, 0.15);\n",
              "      fill: #174EA6;\n",
              "    }\n",
              "\n",
              "    [theme=dark] .colab-df-convert {\n",
              "      background-color: #3B4455;\n",
              "      fill: #D2E3FC;\n",
              "    }\n",
              "\n",
              "    [theme=dark] .colab-df-convert:hover {\n",
              "      background-color: #434B5C;\n",
              "      box-shadow: 0px 1px 3px 1px rgba(0, 0, 0, 0.15);\n",
              "      filter: drop-shadow(0px 1px 2px rgba(0, 0, 0, 0.3));\n",
              "      fill: #FFFFFF;\n",
              "    }\n",
              "  </style>\n",
              "\n",
              "      <script>\n",
              "        const buttonEl =\n",
              "          document.querySelector('#df-4ed4cc62-5c83-4fb7-831f-c57395d0f861 button.colab-df-convert');\n",
              "        buttonEl.style.display =\n",
              "          google.colab.kernel.accessAllowed ? 'block' : 'none';\n",
              "\n",
              "        async function convertToInteractive(key) {\n",
              "          const element = document.querySelector('#df-4ed4cc62-5c83-4fb7-831f-c57395d0f861');\n",
              "          const dataTable =\n",
              "            await google.colab.kernel.invokeFunction('convertToInteractive',\n",
              "                                                     [key], {});\n",
              "          if (!dataTable) return;\n",
              "\n",
              "          const docLinkHtml = 'Like what you see? Visit the ' +\n",
              "            '<a target=\"_blank\" href=https://colab.research.google.com/notebooks/data_table.ipynb>data table notebook</a>'\n",
              "            + ' to learn more about interactive tables.';\n",
              "          element.innerHTML = '';\n",
              "          dataTable['output_type'] = 'display_data';\n",
              "          await google.colab.output.renderOutput(dataTable, element);\n",
              "          const docLink = document.createElement('div');\n",
              "          docLink.innerHTML = docLinkHtml;\n",
              "          element.appendChild(docLink);\n",
              "        }\n",
              "      </script>\n",
              "    </div>\n",
              "  </div>\n",
              "  "
            ]
          },
          "metadata": {},
          "execution_count": 74
        }
      ]
    },
    {
      "cell_type": "code",
      "source": [
        "y_train.value_counts()"
      ],
      "metadata": {
        "colab": {
          "base_uri": "https://localhost:8080/"
        },
        "id": "75PqIWbBqQ6a",
        "outputId": "f68a6671-6f73-4661-e769-f452dc283c95"
      },
      "execution_count": 75,
      "outputs": [
        {
          "output_type": "execute_result",
          "data": {
            "text/plain": [
              "0    4002\n",
              "1    2466\n",
              "Name: Converted, dtype: int64"
            ]
          },
          "metadata": {},
          "execution_count": 75
        }
      ]
    },
    {
      "cell_type": "code",
      "source": [
        "y_test=new_lead_test.pop('Converted')\n",
        "X_test=new_lead_test"
      ],
      "metadata": {
        "id": "tG4HB6U5qGZF"
      },
      "execution_count": 76,
      "outputs": []
    },
    {
      "cell_type": "code",
      "source": [
        "y_test.value_counts()"
      ],
      "metadata": {
        "colab": {
          "base_uri": "https://localhost:8080/"
        },
        "id": "Lhj-7BLoqVgp",
        "outputId": "3dbc0b83-25a8-4310-ad75-d2cef3f96280"
      },
      "execution_count": 77,
      "outputs": [
        {
          "output_type": "execute_result",
          "data": {
            "text/plain": [
              "0    1677\n",
              "1    1095\n",
              "Name: Converted, dtype: int64"
            ]
          },
          "metadata": {},
          "execution_count": 77
        }
      ]
    },
    {
      "cell_type": "markdown",
      "source": [
        "## RFE"
      ],
      "metadata": {
        "id": "YbCu9hhzqfP7"
      }
    },
    {
      "cell_type": "code",
      "source": [
        "logreg=LogisticRegression(random_state=0)"
      ],
      "metadata": {
        "id": "chmxHBH2qYOy"
      },
      "execution_count": 78,
      "outputs": []
    },
    {
      "cell_type": "code",
      "source": [
        "rfe = RFE(logreg)            \n",
        "rfe = rfe.fit(X_train, y_train)"
      ],
      "metadata": {
        "id": "g54CkNLv2W0j"
      },
      "execution_count": 79,
      "outputs": []
    },
    {
      "cell_type": "code",
      "source": [
        "rfe.support_"
      ],
      "metadata": {
        "colab": {
          "base_uri": "https://localhost:8080/"
        },
        "id": "b-o-0AU62ZUe",
        "outputId": "7b9fceb3-ce46-4394-f093-5f11045d478f"
      },
      "execution_count": 80,
      "outputs": [
        {
          "output_type": "execute_result",
          "data": {
            "text/plain": [
              "array([ True,  True,  True,  True, False,  True,  True,  True, False,\n",
              "        True, False, False,  True,  True,  True, False, False,  True,\n",
              "       False, False,  True, False, False,  True, False, False, False,\n",
              "       False,  True,  True, False, False,  True,  True, False, False])"
            ]
          },
          "metadata": {},
          "execution_count": 80
        }
      ]
    },
    {
      "cell_type": "code",
      "source": [
        "list(zip(X_train.columns, rfe.support_, rfe.ranking_))"
      ],
      "metadata": {
        "colab": {
          "base_uri": "https://localhost:8080/"
        },
        "id": "fWMSK_772f8o",
        "outputId": "8cc718c7-787d-48e2-d723-0c1b61b6fbee"
      },
      "execution_count": 81,
      "outputs": [
        {
          "output_type": "execute_result",
          "data": {
            "text/plain": [
              "[('Do Not Email', True, 1),\n",
              " ('TotalVisits', True, 1),\n",
              " ('Total Time Spent on Website', True, 1),\n",
              " ('Page Views Per Visit', True, 1),\n",
              " ('API', False, 12),\n",
              " ('Landing Page Submission', True, 1),\n",
              " ('Lead Add Form', True, 1),\n",
              " ('Lead Import', True, 1),\n",
              " ('Quick Add Form', False, 18),\n",
              " ('Banking, Investment And Insurance', True, 1),\n",
              " ('Business Administration', False, 6),\n",
              " ('E-Business', False, 8),\n",
              " ('E-COMMERCE', True, 1),\n",
              " ('Finance Management', True, 1),\n",
              " ('Healthcare Management', True, 1),\n",
              " ('Hospitality Management', False, 16),\n",
              " ('Human Resource Management', False, 5),\n",
              " ('IT Projects Management', True, 1),\n",
              " ('International Business', False, 14),\n",
              " ('Marketing Management', False, 4),\n",
              " ('Media and Advertising', True, 1),\n",
              " ('Operations Management', False, 3),\n",
              " ('Retail Management', False, 15),\n",
              " ('Rural and Agribusiness', True, 1),\n",
              " ('Services Excellence', False, 13),\n",
              " ('Supply Chain Management', False, 7),\n",
              " ('Travel and Tourism', False, 2),\n",
              " ('Businessman', False, 9),\n",
              " ('Housewife', True, 1),\n",
              " ('Other', True, 1),\n",
              " ('Student', False, 10),\n",
              " ('Unemployed', False, 11),\n",
              " ('Working Professional', True, 1),\n",
              " ('Better Career Prospects', True, 1),\n",
              " ('Flexibility & Convenience', False, 19),\n",
              " ('Other', False, 17)]"
            ]
          },
          "metadata": {},
          "execution_count": 81
        }
      ]
    },
    {
      "cell_type": "code",
      "source": [
        "col = X_train.columns[rfe.support_]"
      ],
      "metadata": {
        "id": "WvB1HNKl2jLO"
      },
      "execution_count": 82,
      "outputs": []
    },
    {
      "cell_type": "code",
      "source": [
        "col"
      ],
      "metadata": {
        "colab": {
          "base_uri": "https://localhost:8080/"
        },
        "id": "8dZKrPfs2yRZ",
        "outputId": "19a3de25-4bbc-4bdf-d66b-1b0fae55fd19"
      },
      "execution_count": 83,
      "outputs": [
        {
          "output_type": "execute_result",
          "data": {
            "text/plain": [
              "Index(['Do Not Email', 'TotalVisits', 'Total Time Spent on Website',\n",
              "       'Page Views Per Visit', 'Landing Page Submission', 'Lead Add Form',\n",
              "       'Lead Import', 'Banking, Investment And Insurance', 'E-COMMERCE',\n",
              "       'Finance Management', 'Healthcare Management', 'IT Projects Management',\n",
              "       'Media and Advertising', 'Rural and Agribusiness', 'Housewife', 'Other',\n",
              "       'Working Professional', 'Better Career Prospects'],\n",
              "      dtype='object')"
            ]
          },
          "metadata": {},
          "execution_count": 83
        }
      ]
    },
    {
      "cell_type": "code",
      "source": [
        "X_train.columns[~rfe.support_]"
      ],
      "metadata": {
        "colab": {
          "base_uri": "https://localhost:8080/"
        },
        "id": "GGbeOu5p2zJp",
        "outputId": "18df0a2a-5d80-41df-8499-cd56d2b33419"
      },
      "execution_count": 84,
      "outputs": [
        {
          "output_type": "execute_result",
          "data": {
            "text/plain": [
              "Index(['API', 'Quick Add Form', 'Business Administration', 'E-Business',\n",
              "       'Hospitality Management', 'Human Resource Management',\n",
              "       'International Business', 'Marketing Management',\n",
              "       'Operations Management', 'Retail Management', 'Services Excellence',\n",
              "       'Supply Chain Management', 'Travel and Tourism', 'Businessman',\n",
              "       'Student', 'Unemployed', 'Flexibility & Convenience', 'Other'],\n",
              "      dtype='object')"
            ]
          },
          "metadata": {},
          "execution_count": 84
        }
      ]
    },
    {
      "cell_type": "code",
      "source": [
        "y_test_pred=rfe.predict(X_test)"
      ],
      "metadata": {
        "id": "nc2wFCd_WqnX"
      },
      "execution_count": 85,
      "outputs": []
    },
    {
      "cell_type": "code",
      "source": [
        "y_test_pred"
      ],
      "metadata": {
        "colab": {
          "base_uri": "https://localhost:8080/"
        },
        "id": "fgNiigiDWyOA",
        "outputId": "92c9751e-f654-4b74-8030-a6c443f59bc2"
      },
      "execution_count": 86,
      "outputs": [
        {
          "output_type": "execute_result",
          "data": {
            "text/plain": [
              "array([0, 1, 1, ..., 0, 0, 1])"
            ]
          },
          "metadata": {},
          "execution_count": 86
        }
      ]
    },
    {
      "cell_type": "markdown",
      "source": [
        "## ROC "
      ],
      "metadata": {
        "id": "QV2TVjPKi_ZI"
      }
    },
    {
      "cell_type": "code",
      "source": [
        "y_test_pred_prob = rfe.predict_proba(X_test)\n",
        "\n",
        "print(rfe.classes_)\n",
        "# print(y_test_pred_prob)\n",
        "\n",
        "# index_class_1 = rfe.classes_.find\n",
        "# print(index_class_1)\n",
        "\n",
        "\n",
        "y_test_pred_prob_1 = y_test_pred_prob[:,[1]].flatten()\n",
        "# Class 1 probabilities list\n",
        "print(y_test_pred_prob_1)"
      ],
      "metadata": {
        "colab": {
          "base_uri": "https://localhost:8080/"
        },
        "id": "yhsz2wMX5YEs",
        "outputId": "26b22252-532b-4622-f029-844b47e9b536"
      },
      "execution_count": 94,
      "outputs": [
        {
          "output_type": "stream",
          "name": "stdout",
          "text": [
            "[0 1]\n",
            "[0.32294703 0.87054502 0.76092558 ... 0.23707856 0.19083521 0.87054502]\n"
          ]
        }
      ]
    },
    {
      "cell_type": "code",
      "source": [
        "T=np.arange(0,1,0.001) # array of threshold between 0 to 1\n",
        "\n",
        "def compute_tpr_fpr(y_prob , t=0.5):\n",
        "  '''\n",
        "     Calculating TPR and FPR on the basis of different threshold\n",
        "  '''\n",
        "\n",
        "  # predicting 0 0or 1 based on threshold\n",
        "  y_test_prediction_t = list(map(lambda x : 1 if x else 0,   y_prob > t)) \n",
        "\n",
        "  tp = 0\n",
        "  fp = 0\n",
        "  tn = 0\n",
        "  fn = 0\n",
        "  #\n",
        "  for yp, yt in list(zip(y_test_prediction_t, y_test)):\n",
        "    if yp == yt:\n",
        "      if yt == 1:\n",
        "        tp = tp + 1\n",
        "      else:\n",
        "        tn = tn + 1\n",
        "    else:\n",
        "      if yp == 1:\n",
        "        fp = fp + 1\n",
        "      else:\n",
        "        fn = fn + 1\n",
        "  \n",
        "  # sensitivity - tpr\n",
        "  tpr = tp / ( tp + fn )\n",
        "  # precision\n",
        "  precision = tp / ( tp + fp )\n",
        "  # specificity \n",
        "  specificity = tn / ( tn + fp )\n",
        "  # accuracy\n",
        "  accuracy = ( tp + tn ) / ( tp + tn + fp + fn )\n",
        "  fpr = fp / ( fp + tn )\n",
        "  \n",
        "\n",
        "  return (tpr, fpr, precision, specificity, accuracy)\n",
        "\n"
      ],
      "metadata": {
        "id": "0WoO7HkFsSX6"
      },
      "execution_count": 95,
      "outputs": []
    },
    {
      "cell_type": "code",
      "source": [
        "def measure_performances(thresholds, y_pred_prob):\n",
        "  tpr_fpr_list = list(map(lambda t : compute_tpr_fpr(y_pred_prob, t), thresholds))\n",
        "\n",
        "# X is fpr \n",
        "  fpr_X = [x[1] for x in tpr_fpr_list]\n",
        "  tpr_Y = [x[0] for x in tpr_fpr_list]\n",
        "  precision_Y = [x[2] for x in tpr_fpr_list]\n",
        "  specificity_Y = [x[3] for x in tpr_fpr_list]\n",
        "  accuracy_Y = [x[4] for x in tpr_fpr_list]\n",
        "  return (fpr_X, tpr_Y, precision_Y, specificity_Y, accuracy_Y)\n",
        " "
      ],
      "metadata": {
        "id": "zdHAinZq22bV"
      },
      "execution_count": 96,
      "outputs": []
    },
    {
      "cell_type": "markdown",
      "source": [
        "## Calulating AUC and plotting ROC"
      ],
      "metadata": {
        "id": "4G0P0pqTGR04"
      }
    },
    {
      "cell_type": "code",
      "source": [
        "\n",
        "fpr_X, tpr_Y, precision_Y, specificity_Y, accuracy_Y = measure_performances(T, y_test_pred_prob_1)\n",
        "plt.plot(fpr_X, tpr_Y)\n",
        "\n",
        "print(-np.trapz(y = tpr_Y , x = fpr_X))\n",
        "\n",
        "print(metrics.auc(x = fpr_X, y = tpr_Y))\n",
        "\n",
        "plt.xlabel(\"False Positive Rate\")\n",
        "plt.ylabel(\"True Positive Rate\")\n",
        "\n",
        "print(metrics.roc_auc_score(y_true = y_test, y_score = y_test_pred_prob_1))\n",
        "auc_value=round(metrics.roc_auc_score(y_true = y_test, y_score = y_test_pred_prob_1),2)\n",
        "text=\"AUC= \"+ str(auc_value)\n",
        "\n",
        "plt.text(0.8,0,text)"
      ],
      "metadata": {
        "colab": {
          "base_uri": "https://localhost:8080/",
          "height": 348
        },
        "id": "cuukc06_B6Mi",
        "outputId": "8c941b5c-fd8f-4d34-90ca-1df2d8c4610c"
      },
      "execution_count": 97,
      "outputs": [
        {
          "output_type": "stream",
          "name": "stdout",
          "text": [
            "0.853342155349164\n",
            "0.853342155349164\n",
            "0.8532800744970226\n"
          ]
        },
        {
          "output_type": "execute_result",
          "data": {
            "text/plain": [
              "Text(0.8, 0, 'AUC= 0.85')"
            ]
          },
          "metadata": {},
          "execution_count": 97
        },
        {
          "output_type": "display_data",
          "data": {
            "text/plain": [
              "<Figure size 432x288 with 1 Axes>"
            ],
            "image/png": "[encoded data removed]"
          },
          "metadata": {
            "needs_background": "light"
          }
        }
      ]
    },
    {
      "cell_type": "markdown",
      "source": [
        "## Model's graph for different performance metrics"
      ],
      "metadata": {
        "id": "dRhrSa98h5fu"
      }
    },
    {
      "cell_type": "code",
      "source": [
        "\n",
        "\n",
        "def find_optimal_threshold(thresholds, tpr, precision, accuracy, fitness_func = None):\n",
        "  arr1 = np.array(tpr)\n",
        "  arr2 = np.array(precision)\n",
        "  arr3 = np.array(accuracy)\n",
        "  def default_fitfunc():\n",
        "    return np.square(arr1-arr2) + np.square(arr3-arr2) + np.square(arr1-arr3)\n",
        "  err = (default_fitfunc if fitness_func is None else fitness_func)()\n",
        "  \n",
        "  index_min_err = np.argmin(err)\n",
        "\n",
        "  return (thresholds[index_min_err], index_min_err)\n"
      ],
      "metadata": {
        "id": "2ZWZH0hgKyfV"
      },
      "execution_count": 98,
      "outputs": []
    },
    {
      "cell_type": "code",
      "source": [
        "optimal_threshold, index_optimal_threshold = find_optimal_threshold(T, tpr_Y, precision_Y, accuracy_Y)\n",
        "\n",
        "print(optimal_threshold)"
      ],
      "metadata": {
        "colab": {
          "base_uri": "https://localhost:8080/"
        },
        "id": "6T3FmoJWOo15",
        "outputId": "d3da1715-47dd-40a0-98ce-7170835cd0d0"
      },
      "execution_count": 99,
      "outputs": [
        {
          "output_type": "stream",
          "name": "stdout",
          "text": [
            "0.35000000000000003\n"
          ]
        }
      ]
    },
    {
      "cell_type": "code",
      "source": [
        "def plot_performance(fpr, tpr, precision, accuracy, index_optimal_threshold):\n",
        "  plt.plot(fpr, tpr,color='b', label = \"True positivity rate aka sensitivity\")\n",
        "  plt.plot(fpr, precision,color='r', label = \"Precision\")\n",
        "  plt.plot(fpr, accuracy,color='g' , label = \"Accuracy\")\n",
        "\n",
        "  x_opt_threshold = np.ones(100) * fpr_X[index_optimal_threshold]\n",
        "  y_opt_threshold = np.arange(start = 0, stop = 1, step = 0.01)\n",
        "\n",
        "  plt.plot(x_opt_threshold, y_opt_threshold, color = 'black', marker = '.', label= 'level of optimal threshold')\n",
        "  plt.legend()\n",
        "  plt.xlabel('False Positive Rate')\n",
        "  plt.show()"
      ],
      "metadata": {
        "id": "zp0JcRUpI-hw"
      },
      "execution_count": 164,
      "outputs": []
    },
    {
      "cell_type": "code",
      "source": [
        "plot_performance(fpr_X, tpr_Y, precision_Y, accuracy_Y, index_optimal_threshold)"
      ],
      "metadata": {
        "colab": {
          "base_uri": "https://localhost:8080/",
          "height": 279
        },
        "id": "Liip4IBgko7J",
        "outputId": "c536559c-0f36-4d82-fd67-dcc52f7493b6"
      },
      "execution_count": 165,
      "outputs": [
        {
          "output_type": "display_data",
          "data": {
            "text/plain": [
              "<Figure size 432x288 with 1 Axes>"
            ],
            "image/png": "[encoded data removed]"
          },
          "metadata": {
            "needs_background": "light"
          }
        }
      ]
    },
    {
      "cell_type": "code",
      "source": [
        "# Sensitivity at optimal threshold\n",
        "tpr_Y[index_optimal_threshold]"
      ],
      "metadata": {
        "colab": {
          "base_uri": "https://localhost:8080/"
        },
        "id": "zvQrGLstS7ep",
        "outputId": "1cdfdb78-9241-4ed9-8e7d-3f1ba1b3ecae"
      },
      "execution_count": 102,
      "outputs": [
        {
          "output_type": "execute_result",
          "data": {
            "text/plain": [
              "0.7342465753424657"
            ]
          },
          "metadata": {},
          "execution_count": 102
        }
      ]
    },
    {
      "cell_type": "code",
      "source": [
        "rfe.get_params()"
      ],
      "metadata": {
        "colab": {
          "base_uri": "https://localhost:8080/"
        },
        "id": "GpS16wDYTnYl",
        "outputId": "50b773af-a25a-4849-c1c6-f3612148c5df"
      },
      "execution_count": 103,
      "outputs": [
        {
          "output_type": "execute_result",
          "data": {
            "text/plain": [
              "{'estimator': LogisticRegression(random_state=0),\n",
              " 'estimator__C': 1.0,\n",
              " 'estimator__class_weight': None,\n",
              " 'estimator__dual': False,\n",
              " 'estimator__fit_intercept': True,\n",
              " 'estimator__intercept_scaling': 1,\n",
              " 'estimator__l1_ratio': None,\n",
              " 'estimator__max_iter': 100,\n",
              " 'estimator__multi_class': 'auto',\n",
              " 'estimator__n_jobs': None,\n",
              " 'estimator__penalty': 'l2',\n",
              " 'estimator__random_state': 0,\n",
              " 'estimator__solver': 'lbfgs',\n",
              " 'estimator__tol': 0.0001,\n",
              " 'estimator__verbose': 0,\n",
              " 'estimator__warm_start': False,\n",
              " 'importance_getter': 'auto',\n",
              " 'n_features_to_select': None,\n",
              " 'step': 1,\n",
              " 'verbose': 0}"
            ]
          },
          "metadata": {},
          "execution_count": 103
        }
      ]
    },
    {
      "cell_type": "code",
      "source": [
        "list_from_rfe_to_drop=['API', 'Quick Add Form', 'Business Administration', 'E-Business',\n",
        "       'Hospitality Management', 'Human Resource Management',\n",
        "       'International Business', 'Marketing Management',\n",
        "       'Operations Management', 'Retail Management', 'Services Excellence',\n",
        "       'Supply Chain Management', 'Travel and Tourism', 'Businessman',\n",
        "       'Student', 'Unemployed', 'Flexibility & Convenience', 'Other']\n",
        "def drop_column(col):\n",
        "  X_train.drop(columns=col,axis=1,inplace=True)\n",
        "  X_test.drop(columns=col,axis=1,inplace=True)\n",
        "  if col not in X_train.columns:\n",
        "    print(f'Dropped {col} from training set')\n",
        "\n",
        "  if col not in X_test.columns:\n",
        "    print(f'Dropped {col} from test set')"
      ],
      "metadata": {
        "id": "jEXLt4jMT6II"
      },
      "execution_count": 104,
      "outputs": []
    },
    {
      "cell_type": "markdown",
      "source": [
        "Dropping columns which are not dependent variables after RFE"
      ],
      "metadata": {
        "id": "shd_Bm6Tavd4"
      }
    },
    {
      "cell_type": "code",
      "source": [
        "for ele in list_from_rfe_to_drop:\n",
        "  drop_column(ele)"
      ],
      "metadata": {
        "colab": {
          "base_uri": "https://localhost:8080/"
        },
        "id": "y7IxyQYScOgP",
        "outputId": "d3d76762-7819-4a7a-d7d1-1d1bcc6a68f5"
      },
      "execution_count": 105,
      "outputs": [
        {
          "output_type": "stream",
          "name": "stdout",
          "text": [
            "Dropped API from training set\n",
            "Dropped API from test set\n",
            "Dropped Quick Add Form from training set\n",
            "Dropped Quick Add Form from test set\n",
            "Dropped Business Administration from training set\n",
            "Dropped Business Administration from test set\n",
            "Dropped E-Business from training set\n",
            "Dropped E-Business from test set\n",
            "Dropped Hospitality Management from training set\n",
            "Dropped Hospitality Management from test set\n",
            "Dropped Human Resource Management from training set\n",
            "Dropped Human Resource Management from test set\n",
            "Dropped International Business from training set\n",
            "Dropped International Business from test set\n",
            "Dropped Marketing Management from training set\n",
            "Dropped Marketing Management from test set\n",
            "Dropped Operations Management from training set\n",
            "Dropped Operations Management from test set\n",
            "Dropped Retail Management from training set\n",
            "Dropped Retail Management from test set\n",
            "Dropped Services Excellence from training set\n",
            "Dropped Services Excellence from test set\n",
            "Dropped Supply Chain Management from training set\n",
            "Dropped Supply Chain Management from test set\n",
            "Dropped Travel and Tourism from training set\n",
            "Dropped Travel and Tourism from test set\n",
            "Dropped Businessman from training set\n",
            "Dropped Businessman from test set\n",
            "Dropped Student from training set\n",
            "Dropped Student from test set\n",
            "Dropped Unemployed from training set\n",
            "Dropped Unemployed from test set\n",
            "Dropped Flexibility & Convenience from training set\n",
            "Dropped Flexibility & Convenience from test set\n",
            "Dropped Other from training set\n",
            "Dropped Other from test set\n"
          ]
        }
      ]
    },
    {
      "cell_type": "code",
      "source": [
        "X_train.shape"
      ],
      "metadata": {
        "colab": {
          "base_uri": "https://localhost:8080/"
        },
        "id": "DiYOpnUDdLgo",
        "outputId": "fdbdfd66-2713-4192-88f1-1d2029f0d921"
      },
      "execution_count": 106,
      "outputs": [
        {
          "output_type": "execute_result",
          "data": {
            "text/plain": [
              "(6468, 17)"
            ]
          },
          "metadata": {},
          "execution_count": 106
        }
      ]
    },
    {
      "cell_type": "code",
      "source": [
        "logreg1=LogisticRegression()\n",
        "logreg1.fit(X_train,y_train)"
      ],
      "metadata": {
        "colab": {
          "base_uri": "https://localhost:8080/"
        },
        "id": "ZgXTbFo9dO7X",
        "outputId": "b89ee92a-4fe9-4868-c01b-c00d55fb1afb"
      },
      "execution_count": 107,
      "outputs": [
        {
          "output_type": "execute_result",
          "data": {
            "text/plain": [
              "LogisticRegression()"
            ]
          },
          "metadata": {},
          "execution_count": 107
        }
      ]
    },
    {
      "cell_type": "code",
      "source": [
        "logreg1.coef_"
      ],
      "metadata": {
        "colab": {
          "base_uri": "https://localhost:8080/"
        },
        "id": "0oia8GdWG-XQ",
        "outputId": "b0e5de6f-d6d7-4a2a-eb46-3655c3df0b20"
      },
      "execution_count": 108,
      "outputs": [
        {
          "output_type": "execute_result",
          "data": {
            "text/plain": [
              "array([[-1.25365454,  1.14904249,  4.05116036, -0.98893622, -0.52752089,\n",
              "         3.07480703, -0.66932643,  0.42366266,  0.41570342,  0.35702017,\n",
              "         0.39343141,  0.35564198,  0.38418087,  0.57914904,  1.4063791 ,\n",
              "         2.47985921,  1.20905377]])"
            ]
          },
          "metadata": {},
          "execution_count": 108
        }
      ]
    },
    {
      "cell_type": "code",
      "source": [
        ""
      ],
      "metadata": {
        "id": "9DuRoN5UHHBB"
      },
      "execution_count": 108,
      "outputs": []
    },
    {
      "cell_type": "code",
      "source": [
        "y_test_pred_proba_2 = logreg1.predict_proba(X_test)[:, 1].flatten()"
      ],
      "metadata": {
        "id": "an6KdLyfdhQP"
      },
      "execution_count": 109,
      "outputs": []
    },
    {
      "cell_type": "code",
      "source": [
        "logreg1.classes_\n",
        "\n",
        "y_test_pred_proba_2"
      ],
      "metadata": {
        "colab": {
          "base_uri": "https://localhost:8080/"
        },
        "id": "EW_bTZZbfg4A",
        "outputId": "b2f26037-d1be-4e00-a5eb-b5b0cc4e6c67"
      },
      "execution_count": 110,
      "outputs": [
        {
          "output_type": "execute_result",
          "data": {
            "text/plain": [
              "array([0.32249341, 0.87057024, 0.76083353, ..., 0.23707251, 0.19042712,\n",
              "       0.87057024])"
            ]
          },
          "metadata": {},
          "execution_count": 110
        }
      ]
    },
    {
      "cell_type": "code",
      "source": [
        "fpr_X1, tpr_Y1, precision_Y1, specificity_Y1, accuracy_Y1 = measure_performances(T, y_test_pred_proba_2)\n",
        "\n",
        "optimal_threshold1, index_optimal_threshold1 = find_optimal_threshold(T, tpr_Y1, precision_Y1, accuracy_Y1)\n",
        "\n",
        "print(optimal_threshold1)\n",
        "\n",
        "plot_performance(fpr_X1, tpr_Y1, precision_Y1, accuracy_Y1, index_optimal_threshold1)"
      ],
      "metadata": {
        "colab": {
          "base_uri": "https://localhost:8080/",
          "height": 296
        },
        "id": "tbk-UQBJk4gn",
        "outputId": "74f9b4fe-bd71-4369-b91a-f74cb760967b"
      },
      "execution_count": 166,
      "outputs": [
        {
          "output_type": "stream",
          "name": "stdout",
          "text": [
            "0.35000000000000003\n"
          ]
        },
        {
          "output_type": "display_data",
          "data": {
            "text/plain": [
              "<Figure size 432x288 with 1 Axes>"
            ],
            "image/png": "[encoded data removed]"
          },
          "metadata": {
            "needs_background": "light"
          }
        }
      ]
    },
    {
      "cell_type": "code",
      "source": [
        "# Sensitivity \n",
        "tpr_Y1[index_optimal_threshold1]"
      ],
      "metadata": {
        "colab": {
          "base_uri": "https://localhost:8080/"
        },
        "id": "qrDUasbumGFK",
        "outputId": "ed0ba69d-3efa-4421-efad-3b9a53a9e3b0"
      },
      "execution_count": 112,
      "outputs": [
        {
          "output_type": "execute_result",
          "data": {
            "text/plain": [
              "0.7342465753424657"
            ]
          },
          "metadata": {},
          "execution_count": 112
        }
      ]
    },
    {
      "cell_type": "code",
      "source": [
        "accuracy_Y1[index_optimal_threshold1]"
      ],
      "metadata": {
        "colab": {
          "base_uri": "https://localhost:8080/"
        },
        "id": "jGcETPUyMrDt",
        "outputId": "60b1962f-fdec-42e2-918c-c692bed0b0ed"
      },
      "execution_count": 113,
      "outputs": [
        {
          "output_type": "execute_result",
          "data": {
            "text/plain": [
              "0.7839105339105339"
            ]
          },
          "metadata": {},
          "execution_count": 113
        }
      ]
    },
    {
      "cell_type": "markdown",
      "source": [
        "Model has sensitivity of 73% and accuracy of 78%"
      ],
      "metadata": {
        "id": "AeNd2jcleWFC"
      }
    },
    {
      "cell_type": "markdown",
      "source": [
        "## Finding out top features on basis of subjective questions 1 and 2"
      ],
      "metadata": {
        "id": "khMfNymYegcG"
      }
    },
    {
      "cell_type": "code",
      "source": [
        "def features_by_importance(model):\n",
        "  feature_coeff = list(zip(model.feature_names_in_,model.coef_[0]))\n",
        "  feature_coeff.sort(key = lambda x : x[1], reverse = True)\n",
        "  return feature_coeff\n",
        "\n",
        "features_by_importance(logreg1)\n"
      ],
      "metadata": {
        "id": "fcLlxXkPlcjy",
        "colab": {
          "base_uri": "https://localhost:8080/"
        },
        "outputId": "e5e94009-f142-47b7-e80e-564e734068be"
      },
      "execution_count": 114,
      "outputs": [
        {
          "output_type": "execute_result",
          "data": {
            "text/plain": [
              "[('Total Time Spent on Website', 4.051160358513626),\n",
              " ('Lead Add Form', 3.0748070335055173),\n",
              " ('Working Professional', 2.4798592136069857),\n",
              " ('Housewife', 1.4063790975917383),\n",
              " ('Better Career Prospects', 1.209053774775937),\n",
              " ('TotalVisits', 1.1490424905331431),\n",
              " ('Rural and Agribusiness', 0.5791490404023271),\n",
              " ('Banking, Investment And Insurance', 0.4236626594932076),\n",
              " ('E-COMMERCE', 0.415703424991271),\n",
              " ('Healthcare Management', 0.3934314097073532),\n",
              " ('Media and Advertising', 0.3841808686012421),\n",
              " ('Finance Management', 0.3570201718839182),\n",
              " ('IT Projects Management', 0.35564198047504425),\n",
              " ('Landing Page Submission', -0.5275208925834867),\n",
              " ('Lead Import', -0.6693264310607548),\n",
              " ('Page Views Per Visit', -0.9889362197859566),\n",
              " ('Do Not Email', -1.2536545387097835)]"
            ]
          },
          "metadata": {},
          "execution_count": 114
        }
      ]
    },
    {
      "cell_type": "markdown",
      "source": [
        "## Calculations for sujection questions 3 & 4"
      ],
      "metadata": {
        "id": "QC6GfMQ7eGLr"
      }
    },
    {
      "cell_type": "code",
      "source": [
        "# Sensitive - maximize\n",
        "\n",
        "tpr_range = [0.9, 0.95, 0.97, 0.99]\n",
        "def find_threshold_accuracy(thresholds,tpr_arr,target_tpr,accuracy_arr):\n",
        "  \n",
        "  thres = 0\n",
        "  accuracy = 0\n",
        "  false_negative_rate = 0\n",
        "  i = 0\n",
        "  # if target_tpr in tpr_arr:\n",
        "  #   i = tpr_arr.index(target_tpr)\n",
        "\n",
        "  target_index = np.argmin(np.square(np.array(tpr_arr) - target_tpr))\n",
        "  thres = thresholds[target_index]\n",
        "  accuracy = accuracy_arr[target_index]\n",
        "  false_negative_rate=1-target_tpr\n",
        "\n",
        "  return (target_tpr, round(thres,3), round(accuracy,3), round(false_negative_rate,3))"
      ],
      "metadata": {
        "id": "JpXc9WqCK_Qw"
      },
      "execution_count": 152,
      "outputs": []
    },
    {
      "cell_type": "code",
      "source": [
        "l=[]\n",
        "for ele in tpr_range:\n",
        "  l.append(find_threshold_accuracy(T,tpr_Y1,ele, accuracy_Y1))"
      ],
      "metadata": {
        "id": "Efx8hxpENVXw"
      },
      "execution_count": 154,
      "outputs": []
    },
    {
      "cell_type": "code",
      "source": [
        "l"
      ],
      "metadata": {
        "colab": {
          "base_uri": "https://localhost:8080/"
        },
        "id": "DcTBlGrGNeVe",
        "outputId": "d4edafa3-bc30-482b-b5aa-c16c29908b3d"
      },
      "execution_count": 155,
      "outputs": [
        {
          "output_type": "execute_result",
          "data": {
            "text/plain": [
              "[(0.9, 0.237, 0.714, 0.1),\n",
              " (0.95, 0.178, 0.661, 0.05),\n",
              " (0.97, 0.133, 0.62, 0.03),\n",
              " (0.99, 0.083, 0.482, 0.01)]"
            ]
          },
          "metadata": {},
          "execution_count": 155
        }
      ]
    },
    {
      "cell_type": "code",
      "source": [
        "pd.DataFrame(data=l,columns=['tpr','threshold','accuracy','fnr'])"
      ],
      "metadata": {
        "colab": {
          "base_uri": "https://localhost:8080/",
          "height": 175
        },
        "id": "6Cm153b6TMe1",
        "outputId": "a35a1992-6a30-4203-98df-aac274bec72d"
      },
      "execution_count": 157,
      "outputs": [
        {
          "output_type": "execute_result",
          "data": {
            "text/plain": [
              "    tpr  threshold  accuracy   fnr\n",
              "0  0.90      0.237     0.714  0.10\n",
              "1  0.95      0.178     0.661  0.05\n",
              "2  0.97      0.133     0.620  0.03\n",
              "3  0.99      0.083     0.482  0.01"
            ],
            "text/html": [
              "\n",
              "  <div id=\"df-91357fe7-b50e-4dcb-ba1e-32c87b1e96c1\">\n",
              "    <div class=\"colab-df-container\">\n",
              "      <div>\n",
              "<style scoped>\n",
              "    .dataframe tbody tr th:only-of-type {\n",
              "        vertical-align: middle;\n",
              "    }\n",
              "\n",
              "    .dataframe tbody tr th {\n",
              "        vertical-align: top;\n",
              "    }\n",
              "\n",
              "    .dataframe thead th {\n",
              "        text-align: right;\n",
              "    }\n",
              "</style>\n",
              "<table border=\"1\" class=\"dataframe\">\n",
              "  <thead>\n",
              "    <tr style=\"text-align: right;\">\n",
              "      <th></th>\n",
              "      <th>tpr</th>\n",
              "      <th>threshold</th>\n",
              "      <th>accuracy</th>\n",
              "      <th>fnr</th>\n",
              "    </tr>\n",
              "  </thead>\n",
              "  <tbody>\n",
              "    <tr>\n",
              "      <th>0</th>\n",
              "      <td>0.90</td>\n",
              "      <td>0.237</td>\n",
              "      <td>0.714</td>\n",
              "      <td>0.10</td>\n",
              "    </tr>\n",
              "    <tr>\n",
              "      <th>1</th>\n",
              "      <td>0.95</td>\n",
              "      <td>0.178</td>\n",
              "      <td>0.661</td>\n",
              "      <td>0.05</td>\n",
              "    </tr>\n",
              "    <tr>\n",
              "      <th>2</th>\n",
              "      <td>0.97</td>\n",
              "      <td>0.133</td>\n",
              "      <td>0.620</td>\n",
              "      <td>0.03</td>\n",
              "    </tr>\n",
              "    <tr>\n",
              "      <th>3</th>\n",
              "      <td>0.99</td>\n",
              "      <td>0.083</td>\n",
              "      <td>0.482</td>\n",
              "      <td>0.01</td>\n",
              "    </tr>\n",
              "  </tbody>\n",
              "</table>\n",
              "</div>\n",
              "      <button class=\"colab-df-convert\" onclick=\"convertToInteractive('df-91357fe7-b50e-4dcb-ba1e-32c87b1e96c1')\"\n",
              "              title=\"Convert this dataframe to an interactive table.\"\n",
              "              style=\"display:none;\">\n",
              "        \n",
              "  <svg xmlns=\"http://www.w3.org/2000/svg\" height=\"24px\"viewBox=\"0 0 24 24\"\n",
              "       width=\"24px\">\n",
              "    <path d=\"M0 0h24v24H0V0z\" fill=\"none\"/>\n",
              "    <path d=\"M18.56 5.44l.94 2.06.94-2.06 2.06-.94-2.06-.94-.94-2.06-.94 2.06-2.06.94zm-11 1L8.5 8.5l.94-2.06 2.06-.94-2.06-.94L8.5 2.5l-.94 2.06-2.06.94zm10 10l.94 2.06.94-2.06 2.06-.94-2.06-.94-.94-2.06-.94 2.06-2.06.94z\"/><path d=\"M17.41 7.96l-1.37-1.37c-.4-.4-.92-.59-1.43-.59-.52 0-1.04.2-1.43.59L10.3 9.45l-7.72 7.72c-.78.78-.78 2.05 0 2.83L4 21.41c.39.39.9.59 1.41.59.51 0 1.02-.2 1.41-.59l7.78-7.78 2.81-2.81c.8-.78.8-2.07 0-2.86zM5.41 20L4 18.59l7.72-7.72 1.47 1.35L5.41 20z\"/>\n",
              "  </svg>\n",
              "      </button>\n",
              "      \n",
              "  <style>\n",
              "    .colab-df-container {\n",
              "      display:flex;\n",
              "      flex-wrap:wrap;\n",
              "      gap: 12px;\n",
              "    }\n",
              "\n",
              "    .colab-df-convert {\n",
              "      background-color: #E8F0FE;\n",
              "      border: none;\n",
              "      border-radius: 50%;\n",
              "      cursor: pointer;\n",
              "      display: none;\n",
              "      fill: #1967D2;\n",
              "      height: 32px;\n",
              "      padding: 0 0 0 0;\n",
              "      width: 32px;\n",
              "    }\n",
              "\n",
              "    .colab-df-convert:hover {\n",
              "      background-color: #E2EBFA;\n",
              "      box-shadow: 0px 1px 2px rgba(60, 64, 67, 0.3), 0px 1px 3px 1px rgba(60, 64, 67, 0.15);\n",
              "      fill: #174EA6;\n",
              "    }\n",
              "\n",
              "    [theme=dark] .colab-df-convert {\n",
              "      background-color: #3B4455;\n",
              "      fill: #D2E3FC;\n",
              "    }\n",
              "\n",
              "    [theme=dark] .colab-df-convert:hover {\n",
              "      background-color: #434B5C;\n",
              "      box-shadow: 0px 1px 3px 1px rgba(0, 0, 0, 0.15);\n",
              "      filter: drop-shadow(0px 1px 2px rgba(0, 0, 0, 0.3));\n",
              "      fill: #FFFFFF;\n",
              "    }\n",
              "  </style>\n",
              "\n",
              "      <script>\n",
              "        const buttonEl =\n",
              "          document.querySelector('#df-91357fe7-b50e-4dcb-ba1e-32c87b1e96c1 button.colab-df-convert');\n",
              "        buttonEl.style.display =\n",
              "          google.colab.kernel.accessAllowed ? 'block' : 'none';\n",
              "\n",
              "        async function convertToInteractive(key) {\n",
              "          const element = document.querySelector('#df-91357fe7-b50e-4dcb-ba1e-32c87b1e96c1');\n",
              "          const dataTable =\n",
              "            await google.colab.kernel.invokeFunction('convertToInteractive',\n",
              "                                                     [key], {});\n",
              "          if (!dataTable) return;\n",
              "\n",
              "          const docLinkHtml = 'Like what you see? Visit the ' +\n",
              "            '<a target=\"_blank\" href=https://colab.research.google.com/notebooks/data_table.ipynb>data table notebook</a>'\n",
              "            + ' to learn more about interactive tables.';\n",
              "          element.innerHTML = '';\n",
              "          dataTable['output_type'] = 'display_data';\n",
              "          await google.colab.output.renderOutput(dataTable, element);\n",
              "          const docLink = document.createElement('div');\n",
              "          docLink.innerHTML = docLinkHtml;\n",
              "          element.appendChild(docLink);\n",
              "        }\n",
              "      </script>\n",
              "    </div>\n",
              "  </div>\n",
              "  "
            ]
          },
          "metadata": {},
          "execution_count": 157
        }
      ]
    },
    {
      "cell_type": "code",
      "source": [
        "fpr_range = [0.01, 0.02, 0.05, 0.1]\n",
        "def thres_acc(thresholds, accurancy_arr, fpr_arr, fpr_parameter):\n",
        "  \n",
        "\n",
        "  fpr_index = np.argmin(np.square(np.array(fpr_arr)-fpr_parameter))\n",
        "  thres = thresholds[fpr_index]\n",
        "  accuracy = accurancy_arr[fpr_index]\n",
        "\n",
        "  return(fpr_parameter, round(thres,3), round(accuracy,3))"
      ],
      "metadata": {
        "id": "KUzz0N2sTb0Y"
      },
      "execution_count": 160,
      "outputs": []
    },
    {
      "cell_type": "code",
      "source": [
        "# func=thres_acc(T, accuracy_Y1, fpr_X1)\n",
        "\n",
        "def map_fpr_func(x):\n",
        "  return thres_acc(T, accuracy_Y1, fpr_X1, x)\n",
        "\n",
        "pd.DataFrame(data=list(map(map_fpr_func,fpr_range)),columns=['fpr','threshold','accuracy'])"
      ],
      "metadata": {
        "colab": {
          "base_uri": "https://localhost:8080/",
          "height": 175
        },
        "id": "kWRzzenzZbp3",
        "outputId": "360cefac-b355-4eda-aedb-a3c85fddc7f7"
      },
      "execution_count": 163,
      "outputs": [
        {
          "output_type": "execute_result",
          "data": {
            "text/plain": [
              "    fpr  threshold  accuracy\n",
              "0  0.01      0.871     0.675\n",
              "1  0.02      0.831     0.711\n",
              "2  0.05      0.719     0.738\n",
              "3  0.10      0.534     0.781"
            ],
            "text/html": [
              "\n",
              "  <div id=\"df-c855323a-64ec-4fab-b869-5b7906824592\">\n",
              "    <div class=\"colab-df-container\">\n",
              "      <div>\n",
              "<style scoped>\n",
              "    .dataframe tbody tr th:only-of-type {\n",
              "        vertical-align: middle;\n",
              "    }\n",
              "\n",
              "    .dataframe tbody tr th {\n",
              "        vertical-align: top;\n",
              "    }\n",
              "\n",
              "    .dataframe thead th {\n",
              "        text-align: right;\n",
              "    }\n",
              "</style>\n",
              "<table border=\"1\" class=\"dataframe\">\n",
              "  <thead>\n",
              "    <tr style=\"text-align: right;\">\n",
              "      <th></th>\n",
              "      <th>fpr</th>\n",
              "      <th>threshold</th>\n",
              "      <th>accuracy</th>\n",
              "    </tr>\n",
              "  </thead>\n",
              "  <tbody>\n",
              "    <tr>\n",
              "      <th>0</th>\n",
              "      <td>0.01</td>\n",
              "      <td>0.871</td>\n",
              "      <td>0.675</td>\n",
              "    </tr>\n",
              "    <tr>\n",
              "      <th>1</th>\n",
              "      <td>0.02</td>\n",
              "      <td>0.831</td>\n",
              "      <td>0.711</td>\n",
              "    </tr>\n",
              "    <tr>\n",
              "      <th>2</th>\n",
              "      <td>0.05</td>\n",
              "      <td>0.719</td>\n",
              "      <td>0.738</td>\n",
              "    </tr>\n",
              "    <tr>\n",
              "      <th>3</th>\n",
              "      <td>0.10</td>\n",
              "      <td>0.534</td>\n",
              "      <td>0.781</td>\n",
              "    </tr>\n",
              "  </tbody>\n",
              "</table>\n",
              "</div>\n",
              "      <button class=\"colab-df-convert\" onclick=\"convertToInteractive('df-c855323a-64ec-4fab-b869-5b7906824592')\"\n",
              "              title=\"Convert this dataframe to an interactive table.\"\n",
              "              style=\"display:none;\">\n",
              "        \n",
              "  <svg xmlns=\"http://www.w3.org/2000/svg\" height=\"24px\"viewBox=\"0 0 24 24\"\n",
              "       width=\"24px\">\n",
              "    <path d=\"M0 0h24v24H0V0z\" fill=\"none\"/>\n",
              "    <path d=\"M18.56 5.44l.94 2.06.94-2.06 2.06-.94-2.06-.94-.94-2.06-.94 2.06-2.06.94zm-11 1L8.5 8.5l.94-2.06 2.06-.94-2.06-.94L8.5 2.5l-.94 2.06-2.06.94zm10 10l.94 2.06.94-2.06 2.06-.94-2.06-.94-.94-2.06-.94 2.06-2.06.94z\"/><path d=\"M17.41 7.96l-1.37-1.37c-.4-.4-.92-.59-1.43-.59-.52 0-1.04.2-1.43.59L10.3 9.45l-7.72 7.72c-.78.78-.78 2.05 0 2.83L4 21.41c.39.39.9.59 1.41.59.51 0 1.02-.2 1.41-.59l7.78-7.78 2.81-2.81c.8-.78.8-2.07 0-2.86zM5.41 20L4 18.59l7.72-7.72 1.47 1.35L5.41 20z\"/>\n",
              "  </svg>\n",
              "      </button>\n",
              "      \n",
              "  <style>\n",
              "    .colab-df-container {\n",
              "      display:flex;\n",
              "      flex-wrap:wrap;\n",
              "      gap: 12px;\n",
              "    }\n",
              "\n",
              "    .colab-df-convert {\n",
              "      background-color: #E8F0FE;\n",
              "      border: none;\n",
              "      border-radius: 50%;\n",
              "      cursor: pointer;\n",
              "      display: none;\n",
              "      fill: #1967D2;\n",
              "      height: 32px;\n",
              "      padding: 0 0 0 0;\n",
              "      width: 32px;\n",
              "    }\n",
              "\n",
              "    .colab-df-convert:hover {\n",
              "      background-color: #E2EBFA;\n",
              "      box-shadow: 0px 1px 2px rgba(60, 64, 67, 0.3), 0px 1px 3px 1px rgba(60, 64, 67, 0.15);\n",
              "      fill: #174EA6;\n",
              "    }\n",
              "\n",
              "    [theme=dark] .colab-df-convert {\n",
              "      background-color: #3B4455;\n",
              "      fill: #D2E3FC;\n",
              "    }\n",
              "\n",
              "    [theme=dark] .colab-df-convert:hover {\n",
              "      background-color: #434B5C;\n",
              "      box-shadow: 0px 1px 3px 1px rgba(0, 0, 0, 0.15);\n",
              "      filter: drop-shadow(0px 1px 2px rgba(0, 0, 0, 0.3));\n",
              "      fill: #FFFFFF;\n",
              "    }\n",
              "  </style>\n",
              "\n",
              "      <script>\n",
              "        const buttonEl =\n",
              "          document.querySelector('#df-c855323a-64ec-4fab-b869-5b7906824592 button.colab-df-convert');\n",
              "        buttonEl.style.display =\n",
              "          google.colab.kernel.accessAllowed ? 'block' : 'none';\n",
              "\n",
              "        async function convertToInteractive(key) {\n",
              "          const element = document.querySelector('#df-c855323a-64ec-4fab-b869-5b7906824592');\n",
              "          const dataTable =\n",
              "            await google.colab.kernel.invokeFunction('convertToInteractive',\n",
              "                                                     [key], {});\n",
              "          if (!dataTable) return;\n",
              "\n",
              "          const docLinkHtml = 'Like what you see? Visit the ' +\n",
              "            '<a target=\"_blank\" href=https://colab.research.google.com/notebooks/data_table.ipynb>data table notebook</a>'\n",
              "            + ' to learn more about interactive tables.';\n",
              "          element.innerHTML = '';\n",
              "          dataTable['output_type'] = 'display_data';\n",
              "          await google.colab.output.renderOutput(dataTable, element);\n",
              "          const docLink = document.createElement('div');\n",
              "          docLink.innerHTML = docLinkHtml;\n",
              "          element.appendChild(docLink);\n",
              "        }\n",
              "      </script>\n",
              "    </div>\n",
              "  </div>\n",
              "  "
            ]
          },
          "metadata": {},
          "execution_count": 163
        }
      ]
    },
    {
      "cell_type": "code",
      "source": [
        ""
      ],
      "metadata": {
        "id": "pChtYPzqbJQZ"
      },
      "execution_count": null,
      "outputs": []
    }
  ]
}